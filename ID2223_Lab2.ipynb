{
  "cells": [
    {
      "cell_type": "markdown",
      "metadata": {
        "id": "view-in-github",
        "colab_type": "text"
      },
      "source": [
        "<a href=\"https://colab.research.google.com/github/Lonely52Hz/ID2223_Scalable_Machine_Learning_and_Deep_Learning/blob/main/ID2223_Lab2.ipynb\" target=\"_parent\"><img src=\"https://colab.research.google.com/assets/colab-badge.svg\" alt=\"Open In Colab\"/></a>"
      ]
    },
    {
      "cell_type": "code",
      "execution_count": 14,
      "metadata": {
        "colab": {
          "base_uri": "https://localhost:8080/"
        },
        "id": "2MZNLrLvtKHb",
        "outputId": "17cb93d6-578e-44cb-d11e-df788f369f30"
      },
      "outputs": [
        {
          "output_type": "stream",
          "name": "stdout",
          "text": [
            "Requirement already satisfied: pyspark in /usr/local/lib/python3.7/dist-packages (3.2.0)\n",
            "Requirement already satisfied: py4j==0.10.9.2 in /usr/local/lib/python3.7/dist-packages (from pyspark) (0.10.9.2)\n"
          ]
        }
      ],
      "source": [
        "# set environment in colab\n",
        "!apt-get install openjdk-8-jdk-headless -qq > /dev/null\n",
        "!wget -q https://dlcdn.apache.org/spark/spark-3.2.0/spark-3.2.0-bin-hadoop3.2.tgz\n",
        "!tar xf spark-3.2.0-bin-hadoop3.2.tgz\n",
        "!pip install -q findspark\n",
        "import os\n",
        "os.environ[\"JAVA_HOME\"] = \"/usr/lib/jvm/java-8-openjdk-amd64\"\n",
        "os.environ[\"SPARK_HOME\"] = \"/content/spark-3.2.0-bin-hadoop3.2\"\n",
        "!pip install pyspark"
      ]
    },
    {
      "cell_type": "code",
      "execution_count": 15,
      "metadata": {
        "id": "Aw97q3j8e5PC"
      },
      "outputs": [],
      "source": [
        "import tensorflow as tf\n",
        "from tensorflow import keras"
      ]
    },
    {
      "cell_type": "code",
      "execution_count": 16,
      "metadata": {
        "id": "Bt4qNxY7tDjI"
      },
      "outputs": [],
      "source": [
        "from pyspark.sql import SparkSession\n",
        "spark = SparkSession.builder.master(\"local\").appName(\"Colab\").config(\"spark.ui.port\", \"4050\").getOrCreate()\n",
        "from pyspark.sql.functions import *"
      ]
    },
    {
      "cell_type": "code",
      "execution_count": 17,
      "metadata": {
        "colab": {
          "base_uri": "https://localhost:8080/"
        },
        "id": "OGkGEXDMuLCi",
        "outputId": "eb0d0489-485e-42c6-868b-b1c9abb687c3"
      },
      "outputs": [
        {
          "output_type": "stream",
          "name": "stdout",
          "text": [
            "Mounted at /content/drive\n"
          ]
        }
      ],
      "source": [
        "from google.colab import drive\n",
        "drive.mount('/content/drive', force_remount = True)"
      ]
    },
    {
      "cell_type": "code",
      "execution_count": 67,
      "metadata": {
        "colab": {
          "base_uri": "https://localhost:8080/"
        },
        "id": "Z-ywn32AJ3Db",
        "outputId": "ff9ea42a-00bc-4fdb-a864-e22d586c7185"
      },
      "outputs": [
        {
          "output_type": "stream",
          "name": "stdout",
          "text": [
            "Requirement already satisfied: sentence-transformers in /usr/local/lib/python3.7/dist-packages (2.1.0)\n",
            "Requirement already satisfied: tqdm in /usr/local/lib/python3.7/dist-packages (from sentence-transformers) (4.62.3)\n",
            "Requirement already satisfied: scikit-learn in /usr/local/lib/python3.7/dist-packages (from sentence-transformers) (1.0.1)\n",
            "Requirement already satisfied: huggingface-hub in /usr/local/lib/python3.7/dist-packages (from sentence-transformers) (0.2.1)\n",
            "Requirement already satisfied: numpy in /usr/local/lib/python3.7/dist-packages (from sentence-transformers) (1.19.5)\n",
            "Requirement already satisfied: torchvision in /usr/local/lib/python3.7/dist-packages (from sentence-transformers) (0.11.1+cu111)\n",
            "Requirement already satisfied: sentencepiece in /usr/local/lib/python3.7/dist-packages (from sentence-transformers) (0.1.96)\n",
            "Requirement already satisfied: torch>=1.6.0 in /usr/local/lib/python3.7/dist-packages (from sentence-transformers) (1.10.0+cu111)\n",
            "Requirement already satisfied: scipy in /usr/local/lib/python3.7/dist-packages (from sentence-transformers) (1.4.1)\n",
            "Requirement already satisfied: transformers<5.0.0,>=4.6.0 in /usr/local/lib/python3.7/dist-packages (from sentence-transformers) (4.14.1)\n",
            "Requirement already satisfied: nltk in /usr/local/lib/python3.7/dist-packages (from sentence-transformers) (3.2.5)\n",
            "Requirement already satisfied: tokenizers>=0.10.3 in /usr/local/lib/python3.7/dist-packages (from sentence-transformers) (0.10.3)\n",
            "Requirement already satisfied: typing-extensions in /usr/local/lib/python3.7/dist-packages (from torch>=1.6.0->sentence-transformers) (3.10.0.2)\n",
            "Requirement already satisfied: sacremoses in /usr/local/lib/python3.7/dist-packages (from transformers<5.0.0,>=4.6.0->sentence-transformers) (0.0.46)\n",
            "Requirement already satisfied: packaging>=20.0 in /usr/local/lib/python3.7/dist-packages (from transformers<5.0.0,>=4.6.0->sentence-transformers) (21.3)\n",
            "Requirement already satisfied: regex!=2019.12.17 in /usr/local/lib/python3.7/dist-packages (from transformers<5.0.0,>=4.6.0->sentence-transformers) (2019.12.20)\n",
            "Requirement already satisfied: importlib-metadata in /usr/local/lib/python3.7/dist-packages (from transformers<5.0.0,>=4.6.0->sentence-transformers) (4.8.2)\n",
            "Requirement already satisfied: pyyaml>=5.1 in /usr/local/lib/python3.7/dist-packages (from transformers<5.0.0,>=4.6.0->sentence-transformers) (6.0)\n",
            "Requirement already satisfied: requests in /usr/local/lib/python3.7/dist-packages (from transformers<5.0.0,>=4.6.0->sentence-transformers) (2.23.0)\n",
            "Requirement already satisfied: filelock in /usr/local/lib/python3.7/dist-packages (from transformers<5.0.0,>=4.6.0->sentence-transformers) (3.4.0)\n",
            "Requirement already satisfied: pyparsing!=3.0.5,>=2.0.2 in /usr/local/lib/python3.7/dist-packages (from packaging>=20.0->transformers<5.0.0,>=4.6.0->sentence-transformers) (3.0.6)\n",
            "Requirement already satisfied: zipp>=0.5 in /usr/local/lib/python3.7/dist-packages (from importlib-metadata->transformers<5.0.0,>=4.6.0->sentence-transformers) (3.6.0)\n",
            "Requirement already satisfied: six in /usr/local/lib/python3.7/dist-packages (from nltk->sentence-transformers) (1.15.0)\n",
            "Requirement already satisfied: certifi>=2017.4.17 in /usr/local/lib/python3.7/dist-packages (from requests->transformers<5.0.0,>=4.6.0->sentence-transformers) (2021.10.8)\n",
            "Requirement already satisfied: chardet<4,>=3.0.2 in /usr/local/lib/python3.7/dist-packages (from requests->transformers<5.0.0,>=4.6.0->sentence-transformers) (3.0.4)\n",
            "Requirement already satisfied: idna<3,>=2.5 in /usr/local/lib/python3.7/dist-packages (from requests->transformers<5.0.0,>=4.6.0->sentence-transformers) (2.10)\n",
            "Requirement already satisfied: urllib3!=1.25.0,!=1.25.1,<1.26,>=1.21.1 in /usr/local/lib/python3.7/dist-packages (from requests->transformers<5.0.0,>=4.6.0->sentence-transformers) (1.24.3)\n",
            "Requirement already satisfied: click in /usr/local/lib/python3.7/dist-packages (from sacremoses->transformers<5.0.0,>=4.6.0->sentence-transformers) (7.1.2)\n",
            "Requirement already satisfied: joblib in /usr/local/lib/python3.7/dist-packages (from sacremoses->transformers<5.0.0,>=4.6.0->sentence-transformers) (1.1.0)\n",
            "Requirement already satisfied: threadpoolctl>=2.0.0 in /usr/local/lib/python3.7/dist-packages (from scikit-learn->sentence-transformers) (3.0.0)\n",
            "Requirement already satisfied: pillow!=8.3.0,>=5.3.0 in /usr/local/lib/python3.7/dist-packages (from torchvision->sentence-transformers) (7.1.2)\n"
          ]
        }
      ],
      "source": [
        "!pip install -U sentence-transformers\n",
        "from sentence_transformers import SentenceTransformer, models, losses, InputExample\n",
        "from torch.utils.data import DataLoader\n",
        "from sentence_transformers import evaluation, util\n",
        "import math\n",
        "from datetime import datetime\n",
        "import torch\n",
        "from sentence_transformers.evaluation import EmbeddingSimilarityEvaluator\n",
        "import sklearn\n",
        "from scipy import stats"
      ]
    },
    {
      "cell_type": "markdown",
      "metadata": {
        "id": "y3_SgL3zsHh_"
      },
      "source": [
        "# Regression"
      ]
    },
    {
      "cell_type": "code",
      "execution_count": 19,
      "metadata": {
        "colab": {
          "base_uri": "https://localhost:8080/"
        },
        "id": "_lYCcUCStuEX",
        "outputId": "e552cffe-fed1-43d6-da30-b6a02edd6137"
      },
      "outputs": [
        {
          "output_type": "stream",
          "name": "stdout",
          "text": [
            "+-------------+------+--------+-----+-----+--------------------+--------------------+\n",
            "|        genre|  file|    year|index|score|           sentenceA|           sentenceB|\n",
            "+-------------+------+--------+-----+-----+--------------------+--------------------+\n",
            "|main-captions|MSRvid|2012test|    1|  5.0|A plane is taking...|An air plane is t...|\n",
            "|main-captions|MSRvid|2012test|    4|  3.8|A man is playing ...|A man is playing ...|\n",
            "|main-captions|MSRvid|2012test|    5|  3.8|A man is spreadin...|A man is spreadin...|\n",
            "|main-captions|MSRvid|2012test|    6|  2.6|Three men are pla...|Two men are playi...|\n",
            "|main-captions|MSRvid|2012test|    9| 4.25|A man is playing ...|A man seated is p...|\n",
            "+-------------+------+--------+-----+-----+--------------------+--------------------+\n",
            "only showing top 5 rows\n",
            "\n",
            "root\n",
            " |-- genre: string (nullable = true)\n",
            " |-- file: string (nullable = true)\n",
            " |-- year: string (nullable = true)\n",
            " |-- index: integer (nullable = true)\n",
            " |-- score: double (nullable = true)\n",
            " |-- sentenceA: string (nullable = true)\n",
            " |-- sentenceB: string (nullable = true)\n",
            "\n"
          ]
        }
      ],
      "source": [
        "# read files\n",
        "train = spark.read.csv('drive/MyDrive/ID2223_File/stsbenchmark/sts-train.csv', sep = '\\t', inferSchema = True)\\\n",
        "     .withColumnRenamed('_c0', 'genre').withColumnRenamed('_c1', 'file').withColumnRenamed('_c2', 'year')\\\n",
        "     .withColumnRenamed('_c3', 'index').withColumnRenamed('_c4', 'score')\\\n",
        "     .withColumnRenamed('_c5', 'sentenceA').withColumnRenamed('_c6', 'sentenceB')\n",
        "test = spark.read.csv('drive/MyDrive/ID2223_File/stsbenchmark/sts-test.csv', sep = '\\t', inferSchema = True)\\\n",
        "     .withColumnRenamed('_c0', 'genre').withColumnRenamed('_c1', 'file').withColumnRenamed('_c2', 'year')\\\n",
        "     .withColumnRenamed('_c3', 'index').withColumnRenamed('_c4', 'score')\\\n",
        "     .withColumnRenamed('_c5', 'sentenceA').withColumnRenamed('_c6', 'sentenceB')\n",
        "dev = spark.read.csv('drive/MyDrive/ID2223_File/stsbenchmark/sts-dev.csv', sep = '\\t', inferSchema = True)\\\n",
        "     .withColumnRenamed('_c0', 'genre').withColumnRenamed('_c1', 'file').withColumnRenamed('_c2', 'year')\\\n",
        "     .withColumnRenamed('_c3', 'index').withColumnRenamed('_c4', 'score')\\\n",
        "     .withColumnRenamed('_c5', 'sentenceA').withColumnRenamed('_c6', 'sentenceB')\n",
        "\n",
        "train.show(5)\n",
        "train.printSchema()"
      ]
    },
    {
      "cell_type": "code",
      "execution_count": 20,
      "metadata": {
        "colab": {
          "base_uri": "https://localhost:8080/"
        },
        "id": "mYTB5Rc0yry3",
        "outputId": "90c16fee-048a-4ec4-b1f4-2b9714f0a416"
      },
      "outputs": [
        {
          "output_type": "stream",
          "name": "stdout",
          "text": [
            "+-------------+------+--------+-----+--------------------+--------------------+--------------------+\n",
            "|        genre|  file|    year|index|               score|           sentenceA|           sentenceB|\n",
            "+-------------+------+--------+-----+--------------------+--------------------+--------------------+\n",
            "|main-captions|MSRvid|2012test|    1|                 1.0|A plane is taking...|An air plane is t...|\n",
            "|main-captions|MSRvid|2012test|    4|                0.52|A man is playing ...|A man is playing ...|\n",
            "|main-captions|MSRvid|2012test|    5|                0.52|A man is spreadin...|A man is spreadin...|\n",
            "|main-captions|MSRvid|2012test|    6|0.040000000000000036|Three men are pla...|Two men are playi...|\n",
            "|main-captions|MSRvid|2012test|    9|                 0.7|A man is playing ...|A man seated is p...|\n",
            "+-------------+------+--------+-----+--------------------+--------------------+--------------------+\n",
            "only showing top 5 rows\n",
            "\n",
            "+-------+-------------------+\n",
            "|summary|              score|\n",
            "+-------+-------------------+\n",
            "|  count|               5749|\n",
            "|   mean|0.08039961014614003|\n",
            "| stddev| 0.5857592860359465|\n",
            "|    min|               -1.0|\n",
            "|    max|                1.0|\n",
            "+-------+-------------------+\n",
            "\n"
          ]
        }
      ],
      "source": [
        "# map [0, 5] to [-1, 1]\n",
        "train = train.withColumn('score', col('score')/2.5 - 1)\n",
        "test = test.withColumn('score', col('score')/2.5 - 1)\n",
        "dev = dev.withColumn('score', col('score')/2.5 - 1)\n",
        "\n",
        "train.show(5)\n",
        "train.describe(['score']).show()"
      ]
    },
    {
      "cell_type": "code",
      "execution_count": 21,
      "metadata": {
        "colab": {
          "base_uri": "https://localhost:8080/"
        },
        "id": "u9WQt3Qd_-X9",
        "outputId": "f2d0f986-c82f-4987-9d50-086e7f0225b4"
      },
      "outputs": [
        {
          "output_type": "stream",
          "name": "stdout",
          "text": [
            "+-----+----+----+-----+-----+---------+---------+\n",
            "|genre|file|year|index|score|sentenceA|sentenceB|\n",
            "+-----+----+----+-----+-----+---------+---------+\n",
            "|    0|   0|   0|    0|    0|        0|        6|\n",
            "+-----+----+----+-----+-----+---------+---------+\n",
            "\n",
            "+-----+----+----+-----+-----+---------+---------+\n",
            "|genre|file|year|index|score|sentenceA|sentenceB|\n",
            "+-----+----+----+-----+-----+---------+---------+\n",
            "|    0|   0|   0|    0|    0|        0|        3|\n",
            "+-----+----+----+-----+-----+---------+---------+\n",
            "\n",
            "+-----+----+----+-----+-----+---------+---------+\n",
            "|genre|file|year|index|score|sentenceA|sentenceB|\n",
            "+-----+----+----+-----+-----+---------+---------+\n",
            "|    0|   0|   0|    0|    0|        0|        3|\n",
            "+-----+----+----+-----+-----+---------+---------+\n",
            "\n"
          ]
        }
      ],
      "source": [
        "# find rows with missing value\n",
        "train.select([count(when(col(c).isNull(), c)).alias(c) for c in train.columns]).show()\n",
        "test.select([count(when(col(c).isNull(), c)).alias(c) for c in test.columns]).show()\n",
        "dev.select([count(when(col(c).isNull(), c)).alias(c) for c in dev.columns]).show()"
      ]
    },
    {
      "cell_type": "code",
      "execution_count": 22,
      "metadata": {
        "colab": {
          "base_uri": "https://localhost:8080/"
        },
        "id": "FMmSGtpYD3op",
        "outputId": "59526a41-a9c9-4da9-94e3-463ea4c8e54c"
      },
      "outputs": [
        {
          "output_type": "stream",
          "name": "stdout",
          "text": [
            "+-----+----+----+-----+-----+---------+---------+\n",
            "|genre|file|year|index|score|sentenceA|sentenceB|\n",
            "+-----+----+----+-----+-----+---------+---------+\n",
            "|    0|   0|   0|    0|    0|        0|        0|\n",
            "+-----+----+----+-----+-----+---------+---------+\n",
            "\n",
            "+-------------+------+--------+-----+--------------------+--------------------+--------------------+\n",
            "|        genre|  file|    year|index|               score|           sentenceA|           sentenceB|\n",
            "+-------------+------+--------+-----+--------------------+--------------------+--------------------+\n",
            "|main-captions|MSRvid|2012test|    1|                 1.0|A plane is taking...|An air plane is t...|\n",
            "|main-captions|MSRvid|2012test|    4|                0.52|A man is playing ...|A man is playing ...|\n",
            "|main-captions|MSRvid|2012test|    5|                0.52|A man is spreadin...|A man is spreadin...|\n",
            "|main-captions|MSRvid|2012test|    6|0.040000000000000036|Three men are pla...|Two men are playi...|\n",
            "|main-captions|MSRvid|2012test|    9|                 0.7|A man is playing ...|A man seated is p...|\n",
            "+-------------+------+--------+-----+--------------------+--------------------+--------------------+\n",
            "only showing top 5 rows\n",
            "\n"
          ]
        }
      ],
      "source": [
        "# delete rows with missing value\n",
        "train = train.na.drop()\n",
        "test = test.na.drop()\n",
        "dev = dev.na.drop()\n",
        "\n",
        "train.select([count(when(col(c).isNull(), c)).alias(c) for c in train.columns]).show()\n",
        "train.show(5)"
      ]
    },
    {
      "cell_type": "code",
      "execution_count": 23,
      "metadata": {
        "colab": {
          "base_uri": "https://localhost:8080/"
        },
        "id": "pTzyzPOhdcdn",
        "outputId": "205825ee-c77e-4e3f-95bb-c92b9f82457f"
      },
      "outputs": [
        {
          "output_type": "stream",
          "name": "stderr",
          "text": [
            "Some weights of the model checkpoint at bert-base-uncased were not used when initializing BertModel: ['cls.predictions.transform.dense.bias', 'cls.predictions.decoder.weight', 'cls.predictions.bias', 'cls.predictions.transform.dense.weight', 'cls.seq_relationship.weight', 'cls.predictions.transform.LayerNorm.bias', 'cls.predictions.transform.LayerNorm.weight', 'cls.seq_relationship.bias']\n",
            "- This IS expected if you are initializing BertModel from the checkpoint of a model trained on another task or with another architecture (e.g. initializing a BertForSequenceClassification model from a BertForPreTraining model).\n",
            "- This IS NOT expected if you are initializing BertModel from the checkpoint of a model that you expect to be exactly identical (initializing a BertForSequenceClassification model from a BertForSequenceClassification model).\n"
          ]
        }
      ],
      "source": [
        "word_embedding_model = models.Transformer('bert-base-uncased')\n",
        "pooling_model = models.Pooling(word_embedding_model.get_word_embedding_dimension(),\\\n",
        "                               pooling_mode_mean_tokens=True,\\\n",
        "                               pooling_mode_cls_token=False,\\\n",
        "                               pooling_mode_max_tokens=False)"
      ]
    },
    {
      "cell_type": "code",
      "execution_count": 24,
      "metadata": {
        "id": "WAq0eIIzipcQ"
      },
      "outputs": [],
      "source": [
        "model = SentenceTransformer(modules=[word_embedding_model, pooling_model])"
      ]
    },
    {
      "cell_type": "code",
      "execution_count": 25,
      "metadata": {
        "id": "sFdaRL1deCjq"
      },
      "outputs": [],
      "source": [
        "loss = losses.CosineSimilarityLoss(model=model)"
      ]
    },
    {
      "cell_type": "code",
      "execution_count": 26,
      "metadata": {
        "id": "Hn4AM_cpjIMa"
      },
      "outputs": [],
      "source": [
        "# Transform the data so that it can be used to train and test\n",
        "train_example = []\n",
        "test_example = []\n",
        "dev_example = []\n",
        "\n",
        "df_train = train.toPandas()\n",
        "df_test = test.toPandas()\n",
        "df_dev = dev.toPandas()\n",
        "\n",
        "for row in df_train.iloc:\n",
        "  row = row.values.tolist()\n",
        "  inp_example = InputExample(texts=[row[5], row[6]], label=float(row[4]))\n",
        "  train_example.append(inp_example)\n",
        "\n",
        "for row in df_test.iloc:\n",
        "  row = row.values.tolist()\n",
        "  inp_example = InputExample(texts=[row[5], row[6]], label=float(row[4]))\n",
        "  test_example.append(inp_example)\n",
        "\n",
        "for row in df_dev.iloc:\n",
        "  row = row.values.tolist()\n",
        "  inp_example = InputExample(texts=[row[5], row[6]], label=float(row[4]))\n",
        "  dev_example.append(inp_example)\n",
        "\n",
        "train_dataloader = DataLoader(train_example, shuffle=True, batch_size=16)"
      ]
    },
    {
      "cell_type": "code",
      "execution_count": null,
      "metadata": {
        "colab": {
          "base_uri": "https://localhost:8080/",
          "height": 90
        },
        "id": "QBXsVHihjWBI",
        "outputId": "e9739cf9-3ddd-47a3-9bdd-bad5743611c7"
      },
      "outputs": [
        {
          "output_type": "execute_result",
          "data": {
            "application/vnd.google.colaboratory.intrinsic+json": {
              "type": "string"
            },
            "text/plain": [
              "'\\nnum_epochs = 1\\nmodel_save_path = \\'output/training_stsbenchmark_\\'+\\'bert-base-uncased\\'+\\'-\\'+datetime.now().strftime(\"%Y-%m-%d_%H-%M-%S\")\\n\\nevaluator = evaluation.EmbeddingSimilarityEvaluator.from_input_examples(dev_example, name=\\'sts-dev\\')\\nwarmup_steps = math.ceil(len(train_dataloader) * num_epochs  * 0.1) # 10% of train data for warm-up\\nmodel.fit(train_objectives=[(train_dataloader, loss)],\\n          optimizer_class=torch.optim.Adam,\\n          optimizer_params={\\'lr\\': 2e-5},\\n          epochs=num_epochs,\\n          warmup_steps=warmup_steps,\\n          evaluator=evaluator,\\n          evaluation_steps=1000,\\n          output_path=model_save_path)\\n'"
            ]
          },
          "metadata": {},
          "execution_count": 105
        }
      ],
      "source": [
        "# train\n",
        "\n",
        "num_epochs = 1\n",
        "model_save_path = 'output/training_stsbenchmark_'+'bert-base-uncased'+'-'+datetime.now().strftime(\"%Y-%m-%d_%H-%M-%S\")\n",
        "\n",
        "evaluator = evaluation.EmbeddingSimilarityEvaluator.from_input_examples(dev_example, name='sts-dev')\n",
        "warmup_steps = math.ceil(len(train_dataloader) * num_epochs  * 0.1) # 10% of train data for warm-up\n",
        "model.fit(train_objectives=[(train_dataloader, loss)],\n",
        "          optimizer_class=torch.optim.Adam,\n",
        "          optimizer_params={'lr': 2e-5},\n",
        "          epochs=num_epochs,\n",
        "          warmup_steps=warmup_steps,\n",
        "          evaluator=evaluator,\n",
        "          evaluation_steps=1000,\n",
        "          output_path=model_save_path)\n",
        "\n",
        "# to save time, we use the previously trained model instead of training it everytime"
      ]
    },
    {
      "cell_type": "code",
      "execution_count": null,
      "metadata": {
        "colab": {
          "base_uri": "https://localhost:8080/"
        },
        "id": "UgtBm_pVX2-y",
        "outputId": "49ff232a-09d0-4936-ff09-bb8f4e18ee1e"
      },
      "outputs": [
        {
          "output_type": "execute_result",
          "data": {
            "text/plain": [
              "0.5739843881319436"
            ]
          },
          "metadata": {},
          "execution_count": 106
        }
      ],
      "source": [
        "# built-in evaluation\n",
        "\n",
        "#regression_model_path = '/content/drive/MyDrive/output/training_stsbenchmark_bert-base-uncased-2021-12-10_21-53-26'\n",
        "#model = SentenceTransformer(regression_model_path)\n",
        "model = SentenceTransformer(model_save_path)\n",
        "test_evaluator = evaluation.EmbeddingSimilarityEvaluator.from_input_examples(test_example, name='sts-test')\n",
        "model.evaluate(test_evaluator)"
      ]
    },
    {
      "cell_type": "code",
      "execution_count": null,
      "metadata": {
        "colab": {
          "base_uri": "https://localhost:8080/"
        },
        "id": "_4KpqotUbxLF",
        "outputId": "050982af-5d6d-49cb-d5ba-a3dafb27a235"
      },
      "outputs": [
        {
          "output_type": "stream",
          "name": "stdout",
          "text": [
            "[0.6670458  0.9073092  0.6678997  ... 0.07020611 0.38499272 0.02931237]\n",
            "SpearmanrResult(correlation=0.5739843881319436, pvalue=2.127869343158135e-121)\n"
          ]
        }
      ],
      "source": [
        "# evaluation using Spearmean Correlation, they coincide with each other\n",
        "sentencea = model.encode(df_test['sentenceA'])\n",
        "sentenceb = model.encode(df_test['sentenceB'])\n",
        "cos_sim = 1 - sklearn.metrics.pairwise.paired_cosine_distances(sentencea, sentenceb)\n",
        "print(cos_sim)\n",
        "result = stats.spearmanr(cos_sim, df_test['score'])\n",
        "print(result)"
      ]
    },
    {
      "cell_type": "markdown",
      "metadata": {
        "id": "_O4FQBmpsAPp"
      },
      "source": [
        "# Classification"
      ]
    },
    {
      "cell_type": "code",
      "execution_count": 27,
      "metadata": {
        "colab": {
          "base_uri": "https://localhost:8080/"
        },
        "id": "v91FtZeosS4g",
        "outputId": "19c4efa8-8630-4481-ffda-bac7923bada6"
      },
      "outputs": [
        {
          "output_type": "stream",
          "name": "stdout",
          "text": [
            "+----------------+----------------+-------------+-------------------+--------------------+----------------------+--------------------+--------------------+----------------------+--------------------+\n",
            "|annotator_labels|       captionID|   gold_label|             pairID|           sentence1|sentence1_binary_parse|     sentence1_parse|           sentence2|sentence2_binary_parse|     sentence2_parse|\n",
            "+----------------+----------------+-------------+-------------------+--------------------+----------------------+--------------------+--------------------+----------------------+--------------------+\n",
            "|       [neutral]|3416050480.jpg#4|      neutral|3416050480.jpg#4r1n|A person on a hor...|  ( ( ( A person ) ...|(ROOT (S (NP (NP ...|A person is train...|  ( ( A person ) ( ...|(ROOT (S (NP (DT ...|\n",
            "| [contradiction]|3416050480.jpg#4|contradiction|3416050480.jpg#4r1c|A person on a hor...|  ( ( ( A person ) ...|(ROOT (S (NP (NP ...|A person is at a ...|  ( ( A person ) ( ...|(ROOT (S (NP (DT ...|\n",
            "|    [entailment]|3416050480.jpg#4|   entailment|3416050480.jpg#4r1e|A person on a hor...|  ( ( ( A person ) ...|(ROOT (S (NP (NP ...|A person is outdo...|  ( ( A person ) ( ...|(ROOT (S (NP (DT ...|\n",
            "|       [neutral]|2267923837.jpg#2|      neutral|2267923837.jpg#2r1n|Children smiling ...|  ( Children ( ( ( ...|(ROOT (NP (S (NP ...|They are smiling ...|  ( They ( are ( sm...|(ROOT (S (NP (PRP...|\n",
            "|    [entailment]|2267923837.jpg#2|   entailment|2267923837.jpg#2r1e|Children smiling ...|  ( Children ( ( ( ...|(ROOT (NP (S (NP ...|There are childre...|  ( There ( ( are c...|(ROOT (S (NP (EX ...|\n",
            "+----------------+----------------+-------------+-------------------+--------------------+----------------------+--------------------+--------------------+----------------------+--------------------+\n",
            "only showing top 5 rows\n",
            "\n"
          ]
        }
      ],
      "source": [
        "# load data from snli\n",
        "c_train = spark.read.json('drive/MyDrive/ID2223_File/snli_1.0/snli_1.0_train.jsonl')\n",
        "c_test = spark.read.json('drive/MyDrive/ID2223_File/snli_1.0/snli_1.0_test.jsonl')\n",
        "c_dev = spark.read.json('drive/MyDrive/ID2223_File/snli_1.0/snli_1.0_dev.jsonl')\n",
        "c_train.show(5)"
      ]
    },
    {
      "cell_type": "code",
      "execution_count": 28,
      "metadata": {
        "colab": {
          "base_uri": "https://localhost:8080/"
        },
        "id": "kFvyqXidDEU8",
        "outputId": "50ac721a-c33b-4aac-f178-e6409092f036"
      },
      "outputs": [
        {
          "output_type": "stream",
          "name": "stdout",
          "text": [
            "                label  ...                                          sentence2\n",
            "0             neutral  ...  A person is training his horse for a competition.\n",
            "1       contradiction  ...      A person is at a diner, ordering an omelette.\n",
            "2          entailment  ...                  A person is outdoors, on a horse.\n",
            "3             neutral  ...                  They are smiling at their parents\n",
            "4          entailment  ...                         There are children present\n",
            "...               ...  ...                                                ...\n",
            "550147  contradiction  ...           four kids won awards for 'cleanest feet'\n",
            "550148        neutral  ...  four homeless children had their shoes stolen,...\n",
            "550149        neutral  ...  A man in a bodysuit is competing in a surfing ...\n",
            "550150  contradiction  ...  A man in a business suit is heading to a board...\n",
            "550151     entailment  ...  On the beautiful blue water there is a man in ...\n",
            "\n",
            "[549367 rows x 3 columns]\n"
          ]
        }
      ],
      "source": [
        "c_train=c_train.drop('_corrupt_record')\n",
        "c_train=c_train.na.drop()\n",
        "c_train=c_train.select('gold_label','sentence1','sentence2').withColumnRenamed('gold_label','label')\n",
        "c_dev=c_dev.drop('_corrupt_record')\n",
        "c_dev=c_dev.na.drop()\n",
        "c_dev=c_dev.select('gold_label','sentence1','sentence2').withColumnRenamed('gold_label','label')\n",
        "c_test=c_test.drop('_corrupt_record')\n",
        "c_test=c_test.na.drop()\n",
        "c_test=c_test.select('gold_label','sentence1','sentence2').withColumnRenamed('gold_label','label')\n",
        "c_df_train=c_train.toPandas()\n",
        "c_df_test=c_test.toPandas()\n",
        "c_df_dev=c_dev.toPandas()\n",
        "# get rid of '-'\n",
        "c_df_train = c_df_train[~c_df_train['label'].isin(['-'])]\n",
        "c_df_test = c_df_test[~c_df_test['label'].isin(['-'])]\n",
        "c_df_dev = c_df_dev[~c_df_dev['label'].isin(['-'])]\n",
        "print(c_df_train)"
      ]
    },
    {
      "cell_type": "code",
      "execution_count": 29,
      "metadata": {
        "colab": {
          "base_uri": "https://localhost:8080/"
        },
        "id": "6cJek88JvRpZ",
        "outputId": "0c8e928e-0fa2-41a9-c286-fe37626dd77c"
      },
      "outputs": [
        {
          "output_type": "stream",
          "name": "stdout",
          "text": [
            "+-----+---------+---------+\n",
            "|label|sentence1|sentence2|\n",
            "+-----+---------+---------+\n",
            "|    0|        0|        0|\n",
            "+-----+---------+---------+\n",
            "\n",
            "+-----+---------+---------+\n",
            "|label|sentence1|sentence2|\n",
            "+-----+---------+---------+\n",
            "|    0|        0|        0|\n",
            "+-----+---------+---------+\n",
            "\n",
            "+-----+---------+---------+\n",
            "|label|sentence1|sentence2|\n",
            "+-----+---------+---------+\n",
            "|    0|        0|        0|\n",
            "+-----+---------+---------+\n",
            "\n"
          ]
        }
      ],
      "source": [
        "# check if there are missing values\n",
        "c_train.select([count(when(col(c).isNull(), c)).alias(c) for c in c_train.columns]).show()\n",
        "c_test.select([count(when(col(c).isNull(), c)).alias(c) for c in c_test.columns]).show()\n",
        "c_dev.select([count(when(col(c).isNull(), c)).alias(c) for c in c_dev.columns]).show()"
      ]
    },
    {
      "cell_type": "code",
      "execution_count": 30,
      "metadata": {
        "id": "OnG8tm2FvR1j"
      },
      "outputs": [],
      "source": [
        "c_train_example = []\n",
        "c_test_example = []\n",
        "c_dev_example = []\n",
        "\n",
        "label2int = {\"contradiction\": 0, \"neutral\": 1, \"entailment\": 2}\n",
        "\n",
        "for row in c_df_train.iloc:\n",
        "  row = row.values.tolist()\n",
        "  inp_example = InputExample(texts=[row[1], row[2]], label=label2int[row[0]])\n",
        "  c_train_example.append(inp_example)\n",
        "\n",
        "for row in c_df_test.iloc:\n",
        "  row = row.values.tolist()\n",
        "  inp_example = InputExample(texts=[row[1], row[2]], label=label2int[row[0]])\n",
        "  c_test_example.append(inp_example)\n",
        "\n",
        "for row in c_df_dev.iloc:\n",
        "  row = row.values.tolist()\n",
        "  inp_example = InputExample(texts=[row[1], row[2]], label=label2int[row[0]])\n",
        "  c_dev_example.append(inp_example)"
      ]
    },
    {
      "cell_type": "code",
      "execution_count": 52,
      "metadata": {
        "colab": {
          "base_uri": "https://localhost:8080/"
        },
        "id": "DdLAIDOhvR-W",
        "outputId": "42acf814-134c-4181-c4b8-2c78be83f79d"
      },
      "outputs": [
        {
          "output_type": "stream",
          "name": "stderr",
          "text": [
            "Some weights of the model checkpoint at bert-base-uncased were not used when initializing BertModel: ['cls.predictions.transform.dense.bias', 'cls.predictions.decoder.weight', 'cls.predictions.bias', 'cls.predictions.transform.dense.weight', 'cls.seq_relationship.weight', 'cls.predictions.transform.LayerNorm.bias', 'cls.predictions.transform.LayerNorm.weight', 'cls.seq_relationship.bias']\n",
            "- This IS expected if you are initializing BertModel from the checkpoint of a model trained on another task or with another architecture (e.g. initializing a BertForSequenceClassification model from a BertForPreTraining model).\n",
            "- This IS NOT expected if you are initializing BertModel from the checkpoint of a model that you expect to be exactly identical (initializing a BertForSequenceClassification model from a BertForSequenceClassification model).\n"
          ]
        }
      ],
      "source": [
        "word_embedding_model = models.Transformer('bert-base-uncased')\n",
        "pooling_model = models.Pooling(word_embedding_model.get_word_embedding_dimension(),\\\n",
        "                               pooling_mode_mean_tokens=True,\\\n",
        "                               pooling_mode_cls_token=False,\\\n",
        "                               pooling_mode_max_tokens=False)"
      ]
    },
    {
      "cell_type": "code",
      "execution_count": 53,
      "metadata": {
        "id": "9SKY92OFzzq7"
      },
      "outputs": [],
      "source": [
        "model = SentenceTransformer(modules=[word_embedding_model, pooling_model])\n",
        "loss = losses.SoftmaxLoss(model=model, sentence_embedding_dimension=model.get_sentence_embedding_dimension(), num_labels=3)"
      ]
    },
    {
      "cell_type": "code",
      "execution_count": 54,
      "metadata": {
        "id": "uYscCydAzztu"
      },
      "outputs": [],
      "source": [
        "c_train_dataloader = DataLoader(c_train_example, shuffle=True, batch_size=16)"
      ]
    },
    {
      "cell_type": "code",
      "execution_count": 55,
      "metadata": {
        "colab": {
          "base_uri": "https://localhost:8080/",
          "height": 81,
          "referenced_widgets": [
            "eb84e1134ad949cfa99123e468f59df0",
            "d0f34916470143db8e46d1bbb2d2cf73",
            "10b1905cd66c4eb2838c5b33b90a38af",
            "bd99cbb94ef74a7e8609e850abed9060",
            "33017f439c3f458b968f9234af91b157",
            "e663822e3e3543e883f0c54895652f68",
            "b35985663f5549f19c7e38efb9e4ead8",
            "3b0c62fdfd404b24a4f870d3e6adf617",
            "31c392f3a78c491384ba2ab655430ab4",
            "dbe81585e52b4dd2b90e84bd1546f07d",
            "90e64d8e26874c5db39d6069fa5b603f",
            "2f64364362274c14b8243449233a6924",
            "aaf392d2a47f4b058805f672d308881f",
            "09bec1adcd554c0db84854f38bc1d6a3",
            "097ccc953e474701a177f1ecfc9ce5dd",
            "09243ab9e1b24b6191aef2bf77505931",
            "8ea74a15952549a8a21cfe1df44ccf21",
            "e21d75e18bd24386ba75c41d4c346d3b",
            "53c6c437c2c34662900d0ddb981f54b7",
            "f922f8b80dbe45fb971dc788a8a37538",
            "ea10cf10044647d89409f7536892f6a1",
            "7d56d4dd5992444784af322ad0b4a9b3"
          ]
        },
        "id": "1QFpdbUrzzwY",
        "outputId": "49391cc3-7d87-49fa-ddcd-7598540c1be9"
      },
      "outputs": [
        {
          "output_type": "display_data",
          "data": {
            "application/vnd.jupyter.widget-view+json": {
              "model_id": "eb84e1134ad949cfa99123e468f59df0",
              "version_minor": 0,
              "version_major": 2
            },
            "text/plain": [
              "Epoch:   0%|          | 0/1 [00:00<?, ?it/s]"
            ]
          },
          "metadata": {}
        },
        {
          "output_type": "display_data",
          "data": {
            "application/vnd.jupyter.widget-view+json": {
              "model_id": "2f64364362274c14b8243449233a6924",
              "version_minor": 0,
              "version_major": 2
            },
            "text/plain": [
              "Iteration:   0%|          | 0/34336 [00:00<?, ?it/s]"
            ]
          },
          "metadata": {}
        }
      ],
      "source": [
        "# train\n",
        "\n",
        "\n",
        "num_epochs = 1\n",
        "c_model_save_path = 'output/training_snil_'+'bert-base-uncased'+'-'+datetime.now().strftime(\"%Y-%m-%d_%H-%M-%S\")\n",
        "\n",
        "evaluator = evaluation.EmbeddingSimilarityEvaluator.from_input_examples(c_dev_example, batch_size=16, name='snil-dev')\n",
        "warmup_steps = math.ceil(len(c_train_dataloader) * num_epochs  * 0.1) # 10% of train data for warm-up\n",
        "model.fit(train_objectives=[(c_train_dataloader, loss)],\n",
        "          epochs=num_epochs,\n",
        "          warmup_steps=warmup_steps,\n",
        "          evaluator=evaluator,\n",
        "          evaluation_steps=1000,\n",
        "          output_path=c_model_save_path)\n",
        "\n",
        "# to save time, we use the previously trained model instead of training it everytime"
      ]
    },
    {
      "cell_type": "code",
      "execution_count": 63,
      "metadata": {
        "id": "5Ub1Gla0hKVp"
      },
      "outputs": [],
      "source": [
        "#cp -rf /content/output/* /content/drive/MyDrive/output # save the trained model"
      ]
    },
    {
      "cell_type": "code",
      "execution_count": 56,
      "metadata": {
        "colab": {
          "base_uri": "https://localhost:8080/"
        },
        "id": "CT0Pd7-1nrqB",
        "outputId": "8b28e7af-a53c-4bbc-b2b8-a2bcb07118b8"
      },
      "outputs": [
        {
          "output_type": "execute_result",
          "data": {
            "text/plain": [
              "0.7139430535720919"
            ]
          },
          "metadata": {},
          "execution_count": 56
        }
      ],
      "source": [
        "# built-in evaluation\n",
        "\n",
        "#classification_model_path = '/content/drive/MyDrive/output/training_snil_bert-base-uncased-2021-12-17_14-04-59'\n",
        "#model = SentenceTransformer(classification_model_path)\n",
        "model = SentenceTransformer(c_model_save_path)\n",
        "\n",
        "test_evaluator = EmbeddingSimilarityEvaluator.from_input_examples(test_example, batch_size=16, name='snli-test')\n",
        "#test_evaluator(model, output_path=classification_model_path)\n",
        "test_evaluator(model, output_path=c_model_save_path)"
      ]
    },
    {
      "cell_type": "code",
      "source": [
        "# evaluation using Spearmean Correlation, they coincide with each other\n",
        "sentencea = model.encode(df_test['sentenceA'])\n",
        "sentenceb = model.encode(df_test['sentenceB'])\n",
        "cos_sim = 1 - sklearn.metrics.pairwise.paired_cosine_distances(sentencea, sentenceb)\n",
        "print(cos_sim)\n",
        "result = stats.spearmanr(cos_sim, df_test['score'])\n",
        "print(result)"
      ],
      "metadata": {
        "colab": {
          "base_uri": "https://localhost:8080/"
        },
        "id": "om3VY8ET2kLb",
        "outputId": "4d3dc799-24ee-4cd5-bf83-ddee3e08a2c0"
      },
      "execution_count": 57,
      "outputs": [
        {
          "output_type": "stream",
          "name": "stdout",
          "text": [
            "[0.92975056 0.9927016  0.961233   ... 0.5377749  0.7178428  0.48726493]\n",
            "SpearmanrResult(correlation=0.7139430535720919, pvalue=6.56577697178156e-215)\n"
          ]
        }
      ]
    },
    {
      "cell_type": "markdown",
      "metadata": {
        "id": "G3mhhCKOlY1I"
      },
      "source": [
        "# Combing both objectives\n"
      ]
    },
    {
      "cell_type": "code",
      "execution_count": 59,
      "metadata": {
        "id": "YnGOnCPdC2h9"
      },
      "outputs": [],
      "source": [
        "# load the classification model\n",
        "#classification_model_path = '/content/drive/MyDrive/output/training_snil_bert-base-uncased-2021-12-17_14-04-59'\n",
        "classification_model_path = c_model_save_path"
      ]
    },
    {
      "cell_type": "code",
      "execution_count": 60,
      "metadata": {
        "colab": {
          "base_uri": "https://localhost:8080/",
          "height": 81,
          "referenced_widgets": [
            "11b0a048827c4f60a5ced1c7cd946894",
            "63315ab4c98249a489c9711e9340b2b2",
            "546fdb5f39db45ecac031600e4126102",
            "421f6334acda4e6b8554d43ca7490125",
            "adac2d9483f64faa91e2a1ed60d38696",
            "bb3ed7a9ec5a4c418ada901ff0822ce0",
            "1a0981b5e9674426bf18ad951139e00b",
            "1d52febcd7db4f09bc37c78237c3a1e6",
            "9942b0dec6f64186ae751ce4ae28ffab",
            "ea8fc20de08b479395672bcfcaca7a3f",
            "ea0f76abf69e4c53b1be31e623ea5244",
            "ec0539c619964ed7b1bf5067b96d8966",
            "51a07aa3dcb8404489e68e277828080e",
            "15596a5b25924a7b9de094f18b63dc0e",
            "1aca7ac64e7148a1a302af3bf8062a44",
            "c35fa9573982457796329330752cdd42",
            "29724b944f4147428d5a82311483db7e",
            "1b009940b6d14733bb56038898d74198",
            "0630a6b4789341f087e8b3531021cdc5",
            "420c8c6d6c574aeda62217390e3e1565",
            "063d7da98ebb466babf4473561b2c02c",
            "38eee90368ec4c5f9a0ee13de321867b"
          ]
        },
        "id": "51ljWvo4BGKM",
        "outputId": "5d95e0ed-ece1-4198-db8c-ff30996ca0fa"
      },
      "outputs": [
        {
          "output_type": "display_data",
          "data": {
            "application/vnd.jupyter.widget-view+json": {
              "model_id": "11b0a048827c4f60a5ced1c7cd946894",
              "version_minor": 0,
              "version_major": 2
            },
            "text/plain": [
              "Epoch:   0%|          | 0/1 [00:00<?, ?it/s]"
            ]
          },
          "metadata": {}
        },
        {
          "output_type": "display_data",
          "data": {
            "application/vnd.jupyter.widget-view+json": {
              "model_id": "ec0539c619964ed7b1bf5067b96d8966",
              "version_minor": 0,
              "version_major": 2
            },
            "text/plain": [
              "Iteration:   0%|          | 0/359 [00:00<?, ?it/s]"
            ]
          },
          "metadata": {}
        }
      ],
      "source": [
        "# train\n",
        "\n",
        "\n",
        "model = SentenceTransformer(classification_model_path)\n",
        "train_dataloader = DataLoader(train_example, shuffle=True, batch_size=16)\n",
        "loss = losses.CosineSimilarityLoss(model=model)\n",
        "num_epochs = 1\n",
        "combine_model_save_path = 'output/training_combined_'+'bert-base-uncased'+'-'+datetime.now().strftime(\"%Y-%m-%d_%H-%M-%S\")\n",
        "evaluator = evaluation.EmbeddingSimilarityEvaluator.from_input_examples(dev_example, name='combined-dev')\n",
        "warmup_steps = math.ceil(len(train_dataloader) * num_epochs  * 0.1) # 10% of train data for warm-up\n",
        "\n",
        "\n",
        "model.fit(train_objectives=[(train_dataloader, loss)],\n",
        "          optimizer_class=torch.optim.Adam,\n",
        "          optimizer_params={'lr': 2e-5},\n",
        "          epochs=num_epochs,\n",
        "          warmup_steps=warmup_steps,\n",
        "          evaluator=evaluator,\n",
        "          evaluation_steps=1000,\n",
        "          output_path=combine_model_save_path)\n",
        "\n",
        "# to save time, we use the previously trained model instead of training it everytime"
      ]
    },
    {
      "cell_type": "code",
      "execution_count": 61,
      "metadata": {
        "colab": {
          "base_uri": "https://localhost:8080/"
        },
        "id": "LADWy838Cjtd",
        "outputId": "df6ae70b-555d-4592-edbe-03b77025664f"
      },
      "outputs": [
        {
          "output_type": "execute_result",
          "data": {
            "text/plain": [
              "0.7346947862989821"
            ]
          },
          "metadata": {},
          "execution_count": 61
        }
      ],
      "source": [
        "# built-in evaluation\n",
        "\n",
        "#combine_model_path = '/content/drive/MyDrive/output/training_combined_bert-base-uncased-2021-12-17_15-26-42'\n",
        "#model = SentenceTransformer(combine_model_path)\n",
        "model = SentenceTransformer(combine_model_save_path)\n",
        "\n",
        "test_evaluator = EmbeddingSimilarityEvaluator.from_input_examples(test_example, batch_size=16, name='combine-test')\n",
        "#test_evaluator(model, output_path=combine_model_path)\n",
        "test_evaluator(model, output_path=combine_model_save_path)"
      ]
    },
    {
      "cell_type": "code",
      "source": [
        "# evaluation using Spearmean Correlation, they coincide with each other\n",
        "sentencea = model.encode(df_test['sentenceA'])\n",
        "sentenceb = model.encode(df_test['sentenceB'])\n",
        "cos_sim = 1 - sklearn.metrics.pairwise.paired_cosine_distances(sentencea, sentenceb)\n",
        "print(cos_sim)\n",
        "result = stats.spearmanr(cos_sim, df_test['score'])\n",
        "print(result)"
      ],
      "metadata": {
        "colab": {
          "base_uri": "https://localhost:8080/"
        },
        "id": "8qjD0xgD2dNp",
        "outputId": "264eb35f-7bd9-4c8e-fecf-7e690b05b513"
      },
      "execution_count": 62,
      "outputs": [
        {
          "output_type": "stream",
          "name": "stdout",
          "text": [
            "[0.8419337  0.9905099  0.93246824 ... 0.21353102 0.2472055  0.0803172 ]\n",
            "SpearmanrResult(correlation=0.7346947862989821, pvalue=8.435239156560313e-234)\n"
          ]
        }
      ]
    },
    {
      "cell_type": "markdown",
      "metadata": {
        "id": "MvqB3qviZiwR"
      },
      "source": [
        "# Semantic Search"
      ]
    },
    {
      "cell_type": "code",
      "source": [
        "newspath='/content/drive/MyDrive/dataset/News_Category_Dataset_v2.json'\n",
        "ss_train = spark.read.json(newspath)\n",
        "ss_train=ss_train.select('headline')\n",
        "ss_train.show()\n",
        "ss_train=ss_train.toPandas()"
      ],
      "metadata": {
        "colab": {
          "base_uri": "https://localhost:8080/"
        },
        "id": "CPyiznMAwUmX",
        "outputId": "8cfa797a-865f-493d-f48b-5f8b12d3c45a"
      },
      "execution_count": 64,
      "outputs": [
        {
          "output_type": "stream",
          "name": "stdout",
          "text": [
            "+--------------------+\n",
            "|            headline|\n",
            "+--------------------+\n",
            "|There Were 2 Mass...|\n",
            "|Will Smith Joins ...|\n",
            "|Hugh Grant Marrie...|\n",
            "|Jim Carrey Blasts...|\n",
            "|Julianna Margulie...|\n",
            "|Morgan Freeman 'D...|\n",
            "|Donald Trump Is L...|\n",
            "|What To Watch On ...|\n",
            "|Mike Myers Reveal...|\n",
            "|What To Watch On ...|\n",
            "|Justin Timberlake...|\n",
            "|South Korean Pres...|\n",
            "|With Its Way Of L...|\n",
            "|Trump's Crackdown...|\n",
            "|'Trump's Son Shou...|\n",
            "|Edward Snowden: T...|\n",
            "|Booyah: Obama Pho...|\n",
            "|Ireland Votes To ...|\n",
            "|Ryan Zinke Looks ...|\n",
            "|Trump's Scottish ...|\n",
            "+--------------------+\n",
            "only showing top 20 rows\n",
            "\n"
          ]
        }
      ]
    },
    {
      "cell_type": "code",
      "source": [
        "newsheadlines = []\n",
        "for row in ss_train.iloc:\n",
        "  newsheadlines.append(row['headline'])"
      ],
      "metadata": {
        "id": "Tj3Azi2Mx1na"
      },
      "execution_count": 65,
      "outputs": []
    },
    {
      "cell_type": "code",
      "source": [
        "#combine_model_path = '/content/drive/MyDrive/output/training_combined_bert-base-uncased-2021-12-17_15-26-42'\n",
        "combine_model_path = combine_model_save_path\n",
        "embedder = SentenceTransformer(combine_model_path)\n",
        "corpus_embeddings = embedder.encode(newsheadlines, convert_to_tensor=True, show_progress_bar=True)"
      ],
      "metadata": {
        "colab": {
          "base_uri": "https://localhost:8080/",
          "height": 49,
          "referenced_widgets": [
            "20c72593f6004dcd82af49ceecde5294",
            "0b8c33150cf740e3878ede738c880a6e",
            "0a0e8f16e13848398e3d2bae28f684ef",
            "1a9be7372e55416f99f0cb76e6623f61",
            "fb7dec427eb3408c8993ed69391d6563",
            "7c81f6a9060646248fdf8943aa9cd48e",
            "9ab03c2cf42645b783c8c20771ce787a",
            "1d1a0591152346f7b1511f21a14a98c7",
            "b9f090f05c8e44b1aef50ebcf5934c6a",
            "042af342dc224467b72b65e7dd8a0767",
            "15e673ecaf3e4be38776a82631d992b1"
          ]
        },
        "id": "tlMlFnzNwUt5",
        "outputId": "23f3081d-f009-44fb-a870-5f771cf5f71e"
      },
      "execution_count": 66,
      "outputs": [
        {
          "output_type": "display_data",
          "data": {
            "application/vnd.jupyter.widget-view+json": {
              "model_id": "20c72593f6004dcd82af49ceecde5294",
              "version_minor": 0,
              "version_major": 2
            },
            "text/plain": [
              "Batches:   0%|          | 0/6277 [00:00<?, ?it/s]"
            ]
          },
          "metadata": {}
        }
      ]
    },
    {
      "cell_type": "code",
      "source": [
        "inp_question = input(\"Please enter a sentence: \")\n",
        "question_embedding = embedder.encode(inp_question, convert_to_tensor=True)\n",
        "hits = util.semantic_search(question_embedding, corpus_embeddings)\n",
        "cos_scores = util.pytorch_cos_sim(question_embedding, corpus_embeddings)[0]\n",
        "top_results = torch.topk(cos_scores, k=5) # 5 most relative sentences\n",
        "for score, idx in zip(top_results[0], top_results[1]):\n",
        "  print(newsheadlines[idx], \"(Score: {:.4f})\".format(score))"
      ],
      "metadata": {
        "colab": {
          "base_uri": "https://localhost:8080/"
        },
        "id": "tJBM832KwU7Q",
        "outputId": "a52f210e-47d3-4600-d38c-577c5f92144b"
      },
      "execution_count": 68,
      "outputs": [
        {
          "output_type": "stream",
          "name": "stdout",
          "text": [
            "Please enter a sentence: Trump wins the election\n",
            "Trump Wins The Republican Nomination For President (Score: 0.8536)\n",
            "Trump Just Proved That Being Famous Is Enough To Win A Primary Election (Score: 0.7686)\n",
            "Trump Has Won The War Against Sympathy (Score: 0.7479)\n",
            "Trump's Big Deal (Score: 0.7401)\n",
            "How Donald Trump Won The Convention Battle (Score: 0.7375)\n"
          ]
        }
      ]
    },
    {
      "cell_type": "code",
      "source": [
        ""
      ],
      "metadata": {
        "id": "26aDQxcpwU_f"
      },
      "execution_count": null,
      "outputs": []
    }
  ],
  "metadata": {
    "accelerator": "GPU",
    "colab": {
      "collapsed_sections": [],
      "name": "ID2223_Lab2.ipynb",
      "provenance": [],
      "include_colab_link": true
    },
    "kernelspec": {
      "display_name": "Python 3",
      "name": "python3"
    },
    "language_info": {
      "name": "python"
    },
    "widgets": {
      "application/vnd.jupyter.widget-state+json": {
        "eb84e1134ad949cfa99123e468f59df0": {
          "model_module": "@jupyter-widgets/controls",
          "model_name": "HBoxModel",
          "model_module_version": "1.5.0",
          "state": {
            "_view_name": "HBoxView",
            "_dom_classes": [],
            "_model_name": "HBoxModel",
            "_view_module": "@jupyter-widgets/controls",
            "_model_module_version": "1.5.0",
            "_view_count": null,
            "_view_module_version": "1.5.0",
            "box_style": "",
            "layout": "IPY_MODEL_d0f34916470143db8e46d1bbb2d2cf73",
            "_model_module": "@jupyter-widgets/controls",
            "children": [
              "IPY_MODEL_10b1905cd66c4eb2838c5b33b90a38af",
              "IPY_MODEL_bd99cbb94ef74a7e8609e850abed9060",
              "IPY_MODEL_33017f439c3f458b968f9234af91b157"
            ]
          }
        },
        "d0f34916470143db8e46d1bbb2d2cf73": {
          "model_module": "@jupyter-widgets/base",
          "model_name": "LayoutModel",
          "model_module_version": "1.2.0",
          "state": {
            "_view_name": "LayoutView",
            "grid_template_rows": null,
            "right": null,
            "justify_content": null,
            "_view_module": "@jupyter-widgets/base",
            "overflow": null,
            "_model_module_version": "1.2.0",
            "_view_count": null,
            "flex_flow": null,
            "width": null,
            "min_width": null,
            "border": null,
            "align_items": null,
            "bottom": null,
            "_model_module": "@jupyter-widgets/base",
            "top": null,
            "grid_column": null,
            "overflow_y": null,
            "overflow_x": null,
            "grid_auto_flow": null,
            "grid_area": null,
            "grid_template_columns": null,
            "flex": null,
            "_model_name": "LayoutModel",
            "justify_items": null,
            "grid_row": null,
            "max_height": null,
            "align_content": null,
            "visibility": null,
            "align_self": null,
            "height": null,
            "min_height": null,
            "padding": null,
            "grid_auto_rows": null,
            "grid_gap": null,
            "max_width": null,
            "order": null,
            "_view_module_version": "1.2.0",
            "grid_template_areas": null,
            "object_position": null,
            "object_fit": null,
            "grid_auto_columns": null,
            "margin": null,
            "display": null,
            "left": null
          }
        },
        "10b1905cd66c4eb2838c5b33b90a38af": {
          "model_module": "@jupyter-widgets/controls",
          "model_name": "HTMLModel",
          "model_module_version": "1.5.0",
          "state": {
            "_view_name": "HTMLView",
            "style": "IPY_MODEL_e663822e3e3543e883f0c54895652f68",
            "_dom_classes": [],
            "description": "",
            "_model_name": "HTMLModel",
            "placeholder": "​",
            "_view_module": "@jupyter-widgets/controls",
            "_model_module_version": "1.5.0",
            "value": "Epoch: 100%",
            "_view_count": null,
            "_view_module_version": "1.5.0",
            "description_tooltip": null,
            "_model_module": "@jupyter-widgets/controls",
            "layout": "IPY_MODEL_b35985663f5549f19c7e38efb9e4ead8"
          }
        },
        "bd99cbb94ef74a7e8609e850abed9060": {
          "model_module": "@jupyter-widgets/controls",
          "model_name": "FloatProgressModel",
          "model_module_version": "1.5.0",
          "state": {
            "_view_name": "ProgressView",
            "style": "IPY_MODEL_3b0c62fdfd404b24a4f870d3e6adf617",
            "_dom_classes": [],
            "description": "",
            "_model_name": "FloatProgressModel",
            "bar_style": "success",
            "max": 1,
            "_view_module": "@jupyter-widgets/controls",
            "_model_module_version": "1.5.0",
            "value": 1,
            "_view_count": null,
            "_view_module_version": "1.5.0",
            "orientation": "horizontal",
            "min": 0,
            "description_tooltip": null,
            "_model_module": "@jupyter-widgets/controls",
            "layout": "IPY_MODEL_31c392f3a78c491384ba2ab655430ab4"
          }
        },
        "33017f439c3f458b968f9234af91b157": {
          "model_module": "@jupyter-widgets/controls",
          "model_name": "HTMLModel",
          "model_module_version": "1.5.0",
          "state": {
            "_view_name": "HTMLView",
            "style": "IPY_MODEL_dbe81585e52b4dd2b90e84bd1546f07d",
            "_dom_classes": [],
            "description": "",
            "_model_name": "HTMLModel",
            "placeholder": "​",
            "_view_module": "@jupyter-widgets/controls",
            "_model_module_version": "1.5.0",
            "value": " 1/1 [1:19:42&lt;00:00, 4782.27s/it]",
            "_view_count": null,
            "_view_module_version": "1.5.0",
            "description_tooltip": null,
            "_model_module": "@jupyter-widgets/controls",
            "layout": "IPY_MODEL_90e64d8e26874c5db39d6069fa5b603f"
          }
        },
        "e663822e3e3543e883f0c54895652f68": {
          "model_module": "@jupyter-widgets/controls",
          "model_name": "DescriptionStyleModel",
          "model_module_version": "1.5.0",
          "state": {
            "_view_name": "StyleView",
            "_model_name": "DescriptionStyleModel",
            "description_width": "",
            "_view_module": "@jupyter-widgets/base",
            "_model_module_version": "1.5.0",
            "_view_count": null,
            "_view_module_version": "1.2.0",
            "_model_module": "@jupyter-widgets/controls"
          }
        },
        "b35985663f5549f19c7e38efb9e4ead8": {
          "model_module": "@jupyter-widgets/base",
          "model_name": "LayoutModel",
          "model_module_version": "1.2.0",
          "state": {
            "_view_name": "LayoutView",
            "grid_template_rows": null,
            "right": null,
            "justify_content": null,
            "_view_module": "@jupyter-widgets/base",
            "overflow": null,
            "_model_module_version": "1.2.0",
            "_view_count": null,
            "flex_flow": null,
            "width": null,
            "min_width": null,
            "border": null,
            "align_items": null,
            "bottom": null,
            "_model_module": "@jupyter-widgets/base",
            "top": null,
            "grid_column": null,
            "overflow_y": null,
            "overflow_x": null,
            "grid_auto_flow": null,
            "grid_area": null,
            "grid_template_columns": null,
            "flex": null,
            "_model_name": "LayoutModel",
            "justify_items": null,
            "grid_row": null,
            "max_height": null,
            "align_content": null,
            "visibility": null,
            "align_self": null,
            "height": null,
            "min_height": null,
            "padding": null,
            "grid_auto_rows": null,
            "grid_gap": null,
            "max_width": null,
            "order": null,
            "_view_module_version": "1.2.0",
            "grid_template_areas": null,
            "object_position": null,
            "object_fit": null,
            "grid_auto_columns": null,
            "margin": null,
            "display": null,
            "left": null
          }
        },
        "3b0c62fdfd404b24a4f870d3e6adf617": {
          "model_module": "@jupyter-widgets/controls",
          "model_name": "ProgressStyleModel",
          "model_module_version": "1.5.0",
          "state": {
            "_view_name": "StyleView",
            "_model_name": "ProgressStyleModel",
            "description_width": "",
            "_view_module": "@jupyter-widgets/base",
            "_model_module_version": "1.5.0",
            "_view_count": null,
            "_view_module_version": "1.2.0",
            "bar_color": null,
            "_model_module": "@jupyter-widgets/controls"
          }
        },
        "31c392f3a78c491384ba2ab655430ab4": {
          "model_module": "@jupyter-widgets/base",
          "model_name": "LayoutModel",
          "model_module_version": "1.2.0",
          "state": {
            "_view_name": "LayoutView",
            "grid_template_rows": null,
            "right": null,
            "justify_content": null,
            "_view_module": "@jupyter-widgets/base",
            "overflow": null,
            "_model_module_version": "1.2.0",
            "_view_count": null,
            "flex_flow": null,
            "width": null,
            "min_width": null,
            "border": null,
            "align_items": null,
            "bottom": null,
            "_model_module": "@jupyter-widgets/base",
            "top": null,
            "grid_column": null,
            "overflow_y": null,
            "overflow_x": null,
            "grid_auto_flow": null,
            "grid_area": null,
            "grid_template_columns": null,
            "flex": null,
            "_model_name": "LayoutModel",
            "justify_items": null,
            "grid_row": null,
            "max_height": null,
            "align_content": null,
            "visibility": null,
            "align_self": null,
            "height": null,
            "min_height": null,
            "padding": null,
            "grid_auto_rows": null,
            "grid_gap": null,
            "max_width": null,
            "order": null,
            "_view_module_version": "1.2.0",
            "grid_template_areas": null,
            "object_position": null,
            "object_fit": null,
            "grid_auto_columns": null,
            "margin": null,
            "display": null,
            "left": null
          }
        },
        "dbe81585e52b4dd2b90e84bd1546f07d": {
          "model_module": "@jupyter-widgets/controls",
          "model_name": "DescriptionStyleModel",
          "model_module_version": "1.5.0",
          "state": {
            "_view_name": "StyleView",
            "_model_name": "DescriptionStyleModel",
            "description_width": "",
            "_view_module": "@jupyter-widgets/base",
            "_model_module_version": "1.5.0",
            "_view_count": null,
            "_view_module_version": "1.2.0",
            "_model_module": "@jupyter-widgets/controls"
          }
        },
        "90e64d8e26874c5db39d6069fa5b603f": {
          "model_module": "@jupyter-widgets/base",
          "model_name": "LayoutModel",
          "model_module_version": "1.2.0",
          "state": {
            "_view_name": "LayoutView",
            "grid_template_rows": null,
            "right": null,
            "justify_content": null,
            "_view_module": "@jupyter-widgets/base",
            "overflow": null,
            "_model_module_version": "1.2.0",
            "_view_count": null,
            "flex_flow": null,
            "width": null,
            "min_width": null,
            "border": null,
            "align_items": null,
            "bottom": null,
            "_model_module": "@jupyter-widgets/base",
            "top": null,
            "grid_column": null,
            "overflow_y": null,
            "overflow_x": null,
            "grid_auto_flow": null,
            "grid_area": null,
            "grid_template_columns": null,
            "flex": null,
            "_model_name": "LayoutModel",
            "justify_items": null,
            "grid_row": null,
            "max_height": null,
            "align_content": null,
            "visibility": null,
            "align_self": null,
            "height": null,
            "min_height": null,
            "padding": null,
            "grid_auto_rows": null,
            "grid_gap": null,
            "max_width": null,
            "order": null,
            "_view_module_version": "1.2.0",
            "grid_template_areas": null,
            "object_position": null,
            "object_fit": null,
            "grid_auto_columns": null,
            "margin": null,
            "display": null,
            "left": null
          }
        },
        "2f64364362274c14b8243449233a6924": {
          "model_module": "@jupyter-widgets/controls",
          "model_name": "HBoxModel",
          "model_module_version": "1.5.0",
          "state": {
            "_view_name": "HBoxView",
            "_dom_classes": [],
            "_model_name": "HBoxModel",
            "_view_module": "@jupyter-widgets/controls",
            "_model_module_version": "1.5.0",
            "_view_count": null,
            "_view_module_version": "1.5.0",
            "box_style": "",
            "layout": "IPY_MODEL_aaf392d2a47f4b058805f672d308881f",
            "_model_module": "@jupyter-widgets/controls",
            "children": [
              "IPY_MODEL_09bec1adcd554c0db84854f38bc1d6a3",
              "IPY_MODEL_097ccc953e474701a177f1ecfc9ce5dd",
              "IPY_MODEL_09243ab9e1b24b6191aef2bf77505931"
            ]
          }
        },
        "aaf392d2a47f4b058805f672d308881f": {
          "model_module": "@jupyter-widgets/base",
          "model_name": "LayoutModel",
          "model_module_version": "1.2.0",
          "state": {
            "_view_name": "LayoutView",
            "grid_template_rows": null,
            "right": null,
            "justify_content": null,
            "_view_module": "@jupyter-widgets/base",
            "overflow": null,
            "_model_module_version": "1.2.0",
            "_view_count": null,
            "flex_flow": null,
            "width": null,
            "min_width": null,
            "border": null,
            "align_items": null,
            "bottom": null,
            "_model_module": "@jupyter-widgets/base",
            "top": null,
            "grid_column": null,
            "overflow_y": null,
            "overflow_x": null,
            "grid_auto_flow": null,
            "grid_area": null,
            "grid_template_columns": null,
            "flex": null,
            "_model_name": "LayoutModel",
            "justify_items": null,
            "grid_row": null,
            "max_height": null,
            "align_content": null,
            "visibility": null,
            "align_self": null,
            "height": null,
            "min_height": null,
            "padding": null,
            "grid_auto_rows": null,
            "grid_gap": null,
            "max_width": null,
            "order": null,
            "_view_module_version": "1.2.0",
            "grid_template_areas": null,
            "object_position": null,
            "object_fit": null,
            "grid_auto_columns": null,
            "margin": null,
            "display": null,
            "left": null
          }
        },
        "09bec1adcd554c0db84854f38bc1d6a3": {
          "model_module": "@jupyter-widgets/controls",
          "model_name": "HTMLModel",
          "model_module_version": "1.5.0",
          "state": {
            "_view_name": "HTMLView",
            "style": "IPY_MODEL_8ea74a15952549a8a21cfe1df44ccf21",
            "_dom_classes": [],
            "description": "",
            "_model_name": "HTMLModel",
            "placeholder": "​",
            "_view_module": "@jupyter-widgets/controls",
            "_model_module_version": "1.5.0",
            "value": "Iteration: 100%",
            "_view_count": null,
            "_view_module_version": "1.5.0",
            "description_tooltip": null,
            "_model_module": "@jupyter-widgets/controls",
            "layout": "IPY_MODEL_e21d75e18bd24386ba75c41d4c346d3b"
          }
        },
        "097ccc953e474701a177f1ecfc9ce5dd": {
          "model_module": "@jupyter-widgets/controls",
          "model_name": "FloatProgressModel",
          "model_module_version": "1.5.0",
          "state": {
            "_view_name": "ProgressView",
            "style": "IPY_MODEL_53c6c437c2c34662900d0ddb981f54b7",
            "_dom_classes": [],
            "description": "",
            "_model_name": "FloatProgressModel",
            "bar_style": "success",
            "max": 34336,
            "_view_module": "@jupyter-widgets/controls",
            "_model_module_version": "1.5.0",
            "value": 34336,
            "_view_count": null,
            "_view_module_version": "1.5.0",
            "orientation": "horizontal",
            "min": 0,
            "description_tooltip": null,
            "_model_module": "@jupyter-widgets/controls",
            "layout": "IPY_MODEL_f922f8b80dbe45fb971dc788a8a37538"
          }
        },
        "09243ab9e1b24b6191aef2bf77505931": {
          "model_module": "@jupyter-widgets/controls",
          "model_name": "HTMLModel",
          "model_module_version": "1.5.0",
          "state": {
            "_view_name": "HTMLView",
            "style": "IPY_MODEL_ea10cf10044647d89409f7536892f6a1",
            "_dom_classes": [],
            "description": "",
            "_model_name": "HTMLModel",
            "placeholder": "​",
            "_view_module": "@jupyter-widgets/controls",
            "_model_module_version": "1.5.0",
            "value": " 34336/34336 [1:19:26&lt;00:00,  8.14it/s]",
            "_view_count": null,
            "_view_module_version": "1.5.0",
            "description_tooltip": null,
            "_model_module": "@jupyter-widgets/controls",
            "layout": "IPY_MODEL_7d56d4dd5992444784af322ad0b4a9b3"
          }
        },
        "8ea74a15952549a8a21cfe1df44ccf21": {
          "model_module": "@jupyter-widgets/controls",
          "model_name": "DescriptionStyleModel",
          "model_module_version": "1.5.0",
          "state": {
            "_view_name": "StyleView",
            "_model_name": "DescriptionStyleModel",
            "description_width": "",
            "_view_module": "@jupyter-widgets/base",
            "_model_module_version": "1.5.0",
            "_view_count": null,
            "_view_module_version": "1.2.0",
            "_model_module": "@jupyter-widgets/controls"
          }
        },
        "e21d75e18bd24386ba75c41d4c346d3b": {
          "model_module": "@jupyter-widgets/base",
          "model_name": "LayoutModel",
          "model_module_version": "1.2.0",
          "state": {
            "_view_name": "LayoutView",
            "grid_template_rows": null,
            "right": null,
            "justify_content": null,
            "_view_module": "@jupyter-widgets/base",
            "overflow": null,
            "_model_module_version": "1.2.0",
            "_view_count": null,
            "flex_flow": null,
            "width": null,
            "min_width": null,
            "border": null,
            "align_items": null,
            "bottom": null,
            "_model_module": "@jupyter-widgets/base",
            "top": null,
            "grid_column": null,
            "overflow_y": null,
            "overflow_x": null,
            "grid_auto_flow": null,
            "grid_area": null,
            "grid_template_columns": null,
            "flex": null,
            "_model_name": "LayoutModel",
            "justify_items": null,
            "grid_row": null,
            "max_height": null,
            "align_content": null,
            "visibility": null,
            "align_self": null,
            "height": null,
            "min_height": null,
            "padding": null,
            "grid_auto_rows": null,
            "grid_gap": null,
            "max_width": null,
            "order": null,
            "_view_module_version": "1.2.0",
            "grid_template_areas": null,
            "object_position": null,
            "object_fit": null,
            "grid_auto_columns": null,
            "margin": null,
            "display": null,
            "left": null
          }
        },
        "53c6c437c2c34662900d0ddb981f54b7": {
          "model_module": "@jupyter-widgets/controls",
          "model_name": "ProgressStyleModel",
          "model_module_version": "1.5.0",
          "state": {
            "_view_name": "StyleView",
            "_model_name": "ProgressStyleModel",
            "description_width": "",
            "_view_module": "@jupyter-widgets/base",
            "_model_module_version": "1.5.0",
            "_view_count": null,
            "_view_module_version": "1.2.0",
            "bar_color": null,
            "_model_module": "@jupyter-widgets/controls"
          }
        },
        "f922f8b80dbe45fb971dc788a8a37538": {
          "model_module": "@jupyter-widgets/base",
          "model_name": "LayoutModel",
          "model_module_version": "1.2.0",
          "state": {
            "_view_name": "LayoutView",
            "grid_template_rows": null,
            "right": null,
            "justify_content": null,
            "_view_module": "@jupyter-widgets/base",
            "overflow": null,
            "_model_module_version": "1.2.0",
            "_view_count": null,
            "flex_flow": null,
            "width": null,
            "min_width": null,
            "border": null,
            "align_items": null,
            "bottom": null,
            "_model_module": "@jupyter-widgets/base",
            "top": null,
            "grid_column": null,
            "overflow_y": null,
            "overflow_x": null,
            "grid_auto_flow": null,
            "grid_area": null,
            "grid_template_columns": null,
            "flex": null,
            "_model_name": "LayoutModel",
            "justify_items": null,
            "grid_row": null,
            "max_height": null,
            "align_content": null,
            "visibility": null,
            "align_self": null,
            "height": null,
            "min_height": null,
            "padding": null,
            "grid_auto_rows": null,
            "grid_gap": null,
            "max_width": null,
            "order": null,
            "_view_module_version": "1.2.0",
            "grid_template_areas": null,
            "object_position": null,
            "object_fit": null,
            "grid_auto_columns": null,
            "margin": null,
            "display": null,
            "left": null
          }
        },
        "ea10cf10044647d89409f7536892f6a1": {
          "model_module": "@jupyter-widgets/controls",
          "model_name": "DescriptionStyleModel",
          "model_module_version": "1.5.0",
          "state": {
            "_view_name": "StyleView",
            "_model_name": "DescriptionStyleModel",
            "description_width": "",
            "_view_module": "@jupyter-widgets/base",
            "_model_module_version": "1.5.0",
            "_view_count": null,
            "_view_module_version": "1.2.0",
            "_model_module": "@jupyter-widgets/controls"
          }
        },
        "7d56d4dd5992444784af322ad0b4a9b3": {
          "model_module": "@jupyter-widgets/base",
          "model_name": "LayoutModel",
          "model_module_version": "1.2.0",
          "state": {
            "_view_name": "LayoutView",
            "grid_template_rows": null,
            "right": null,
            "justify_content": null,
            "_view_module": "@jupyter-widgets/base",
            "overflow": null,
            "_model_module_version": "1.2.0",
            "_view_count": null,
            "flex_flow": null,
            "width": null,
            "min_width": null,
            "border": null,
            "align_items": null,
            "bottom": null,
            "_model_module": "@jupyter-widgets/base",
            "top": null,
            "grid_column": null,
            "overflow_y": null,
            "overflow_x": null,
            "grid_auto_flow": null,
            "grid_area": null,
            "grid_template_columns": null,
            "flex": null,
            "_model_name": "LayoutModel",
            "justify_items": null,
            "grid_row": null,
            "max_height": null,
            "align_content": null,
            "visibility": null,
            "align_self": null,
            "height": null,
            "min_height": null,
            "padding": null,
            "grid_auto_rows": null,
            "grid_gap": null,
            "max_width": null,
            "order": null,
            "_view_module_version": "1.2.0",
            "grid_template_areas": null,
            "object_position": null,
            "object_fit": null,
            "grid_auto_columns": null,
            "margin": null,
            "display": null,
            "left": null
          }
        },
        "11b0a048827c4f60a5ced1c7cd946894": {
          "model_module": "@jupyter-widgets/controls",
          "model_name": "HBoxModel",
          "model_module_version": "1.5.0",
          "state": {
            "_view_name": "HBoxView",
            "_dom_classes": [],
            "_model_name": "HBoxModel",
            "_view_module": "@jupyter-widgets/controls",
            "_model_module_version": "1.5.0",
            "_view_count": null,
            "_view_module_version": "1.5.0",
            "box_style": "",
            "layout": "IPY_MODEL_63315ab4c98249a489c9711e9340b2b2",
            "_model_module": "@jupyter-widgets/controls",
            "children": [
              "IPY_MODEL_546fdb5f39db45ecac031600e4126102",
              "IPY_MODEL_421f6334acda4e6b8554d43ca7490125",
              "IPY_MODEL_adac2d9483f64faa91e2a1ed60d38696"
            ]
          }
        },
        "63315ab4c98249a489c9711e9340b2b2": {
          "model_module": "@jupyter-widgets/base",
          "model_name": "LayoutModel",
          "model_module_version": "1.2.0",
          "state": {
            "_view_name": "LayoutView",
            "grid_template_rows": null,
            "right": null,
            "justify_content": null,
            "_view_module": "@jupyter-widgets/base",
            "overflow": null,
            "_model_module_version": "1.2.0",
            "_view_count": null,
            "flex_flow": null,
            "width": null,
            "min_width": null,
            "border": null,
            "align_items": null,
            "bottom": null,
            "_model_module": "@jupyter-widgets/base",
            "top": null,
            "grid_column": null,
            "overflow_y": null,
            "overflow_x": null,
            "grid_auto_flow": null,
            "grid_area": null,
            "grid_template_columns": null,
            "flex": null,
            "_model_name": "LayoutModel",
            "justify_items": null,
            "grid_row": null,
            "max_height": null,
            "align_content": null,
            "visibility": null,
            "align_self": null,
            "height": null,
            "min_height": null,
            "padding": null,
            "grid_auto_rows": null,
            "grid_gap": null,
            "max_width": null,
            "order": null,
            "_view_module_version": "1.2.0",
            "grid_template_areas": null,
            "object_position": null,
            "object_fit": null,
            "grid_auto_columns": null,
            "margin": null,
            "display": null,
            "left": null
          }
        },
        "546fdb5f39db45ecac031600e4126102": {
          "model_module": "@jupyter-widgets/controls",
          "model_name": "HTMLModel",
          "model_module_version": "1.5.0",
          "state": {
            "_view_name": "HTMLView",
            "style": "IPY_MODEL_bb3ed7a9ec5a4c418ada901ff0822ce0",
            "_dom_classes": [],
            "description": "",
            "_model_name": "HTMLModel",
            "placeholder": "​",
            "_view_module": "@jupyter-widgets/controls",
            "_model_module_version": "1.5.0",
            "value": "Epoch: 100%",
            "_view_count": null,
            "_view_module_version": "1.5.0",
            "description_tooltip": null,
            "_model_module": "@jupyter-widgets/controls",
            "layout": "IPY_MODEL_1a0981b5e9674426bf18ad951139e00b"
          }
        },
        "421f6334acda4e6b8554d43ca7490125": {
          "model_module": "@jupyter-widgets/controls",
          "model_name": "FloatProgressModel",
          "model_module_version": "1.5.0",
          "state": {
            "_view_name": "ProgressView",
            "style": "IPY_MODEL_1d52febcd7db4f09bc37c78237c3a1e6",
            "_dom_classes": [],
            "description": "",
            "_model_name": "FloatProgressModel",
            "bar_style": "success",
            "max": 1,
            "_view_module": "@jupyter-widgets/controls",
            "_model_module_version": "1.5.0",
            "value": 1,
            "_view_count": null,
            "_view_module_version": "1.5.0",
            "orientation": "horizontal",
            "min": 0,
            "description_tooltip": null,
            "_model_module": "@jupyter-widgets/controls",
            "layout": "IPY_MODEL_9942b0dec6f64186ae751ce4ae28ffab"
          }
        },
        "adac2d9483f64faa91e2a1ed60d38696": {
          "model_module": "@jupyter-widgets/controls",
          "model_name": "HTMLModel",
          "model_module_version": "1.5.0",
          "state": {
            "_view_name": "HTMLView",
            "style": "IPY_MODEL_ea8fc20de08b479395672bcfcaca7a3f",
            "_dom_classes": [],
            "description": "",
            "_model_name": "HTMLModel",
            "placeholder": "​",
            "_view_module": "@jupyter-widgets/controls",
            "_model_module_version": "1.5.0",
            "value": " 1/1 [00:57&lt;00:00, 57.84s/it]",
            "_view_count": null,
            "_view_module_version": "1.5.0",
            "description_tooltip": null,
            "_model_module": "@jupyter-widgets/controls",
            "layout": "IPY_MODEL_ea0f76abf69e4c53b1be31e623ea5244"
          }
        },
        "bb3ed7a9ec5a4c418ada901ff0822ce0": {
          "model_module": "@jupyter-widgets/controls",
          "model_name": "DescriptionStyleModel",
          "model_module_version": "1.5.0",
          "state": {
            "_view_name": "StyleView",
            "_model_name": "DescriptionStyleModel",
            "description_width": "",
            "_view_module": "@jupyter-widgets/base",
            "_model_module_version": "1.5.0",
            "_view_count": null,
            "_view_module_version": "1.2.0",
            "_model_module": "@jupyter-widgets/controls"
          }
        },
        "1a0981b5e9674426bf18ad951139e00b": {
          "model_module": "@jupyter-widgets/base",
          "model_name": "LayoutModel",
          "model_module_version": "1.2.0",
          "state": {
            "_view_name": "LayoutView",
            "grid_template_rows": null,
            "right": null,
            "justify_content": null,
            "_view_module": "@jupyter-widgets/base",
            "overflow": null,
            "_model_module_version": "1.2.0",
            "_view_count": null,
            "flex_flow": null,
            "width": null,
            "min_width": null,
            "border": null,
            "align_items": null,
            "bottom": null,
            "_model_module": "@jupyter-widgets/base",
            "top": null,
            "grid_column": null,
            "overflow_y": null,
            "overflow_x": null,
            "grid_auto_flow": null,
            "grid_area": null,
            "grid_template_columns": null,
            "flex": null,
            "_model_name": "LayoutModel",
            "justify_items": null,
            "grid_row": null,
            "max_height": null,
            "align_content": null,
            "visibility": null,
            "align_self": null,
            "height": null,
            "min_height": null,
            "padding": null,
            "grid_auto_rows": null,
            "grid_gap": null,
            "max_width": null,
            "order": null,
            "_view_module_version": "1.2.0",
            "grid_template_areas": null,
            "object_position": null,
            "object_fit": null,
            "grid_auto_columns": null,
            "margin": null,
            "display": null,
            "left": null
          }
        },
        "1d52febcd7db4f09bc37c78237c3a1e6": {
          "model_module": "@jupyter-widgets/controls",
          "model_name": "ProgressStyleModel",
          "model_module_version": "1.5.0",
          "state": {
            "_view_name": "StyleView",
            "_model_name": "ProgressStyleModel",
            "description_width": "",
            "_view_module": "@jupyter-widgets/base",
            "_model_module_version": "1.5.0",
            "_view_count": null,
            "_view_module_version": "1.2.0",
            "bar_color": null,
            "_model_module": "@jupyter-widgets/controls"
          }
        },
        "9942b0dec6f64186ae751ce4ae28ffab": {
          "model_module": "@jupyter-widgets/base",
          "model_name": "LayoutModel",
          "model_module_version": "1.2.0",
          "state": {
            "_view_name": "LayoutView",
            "grid_template_rows": null,
            "right": null,
            "justify_content": null,
            "_view_module": "@jupyter-widgets/base",
            "overflow": null,
            "_model_module_version": "1.2.0",
            "_view_count": null,
            "flex_flow": null,
            "width": null,
            "min_width": null,
            "border": null,
            "align_items": null,
            "bottom": null,
            "_model_module": "@jupyter-widgets/base",
            "top": null,
            "grid_column": null,
            "overflow_y": null,
            "overflow_x": null,
            "grid_auto_flow": null,
            "grid_area": null,
            "grid_template_columns": null,
            "flex": null,
            "_model_name": "LayoutModel",
            "justify_items": null,
            "grid_row": null,
            "max_height": null,
            "align_content": null,
            "visibility": null,
            "align_self": null,
            "height": null,
            "min_height": null,
            "padding": null,
            "grid_auto_rows": null,
            "grid_gap": null,
            "max_width": null,
            "order": null,
            "_view_module_version": "1.2.0",
            "grid_template_areas": null,
            "object_position": null,
            "object_fit": null,
            "grid_auto_columns": null,
            "margin": null,
            "display": null,
            "left": null
          }
        },
        "ea8fc20de08b479395672bcfcaca7a3f": {
          "model_module": "@jupyter-widgets/controls",
          "model_name": "DescriptionStyleModel",
          "model_module_version": "1.5.0",
          "state": {
            "_view_name": "StyleView",
            "_model_name": "DescriptionStyleModel",
            "description_width": "",
            "_view_module": "@jupyter-widgets/base",
            "_model_module_version": "1.5.0",
            "_view_count": null,
            "_view_module_version": "1.2.0",
            "_model_module": "@jupyter-widgets/controls"
          }
        },
        "ea0f76abf69e4c53b1be31e623ea5244": {
          "model_module": "@jupyter-widgets/base",
          "model_name": "LayoutModel",
          "model_module_version": "1.2.0",
          "state": {
            "_view_name": "LayoutView",
            "grid_template_rows": null,
            "right": null,
            "justify_content": null,
            "_view_module": "@jupyter-widgets/base",
            "overflow": null,
            "_model_module_version": "1.2.0",
            "_view_count": null,
            "flex_flow": null,
            "width": null,
            "min_width": null,
            "border": null,
            "align_items": null,
            "bottom": null,
            "_model_module": "@jupyter-widgets/base",
            "top": null,
            "grid_column": null,
            "overflow_y": null,
            "overflow_x": null,
            "grid_auto_flow": null,
            "grid_area": null,
            "grid_template_columns": null,
            "flex": null,
            "_model_name": "LayoutModel",
            "justify_items": null,
            "grid_row": null,
            "max_height": null,
            "align_content": null,
            "visibility": null,
            "align_self": null,
            "height": null,
            "min_height": null,
            "padding": null,
            "grid_auto_rows": null,
            "grid_gap": null,
            "max_width": null,
            "order": null,
            "_view_module_version": "1.2.0",
            "grid_template_areas": null,
            "object_position": null,
            "object_fit": null,
            "grid_auto_columns": null,
            "margin": null,
            "display": null,
            "left": null
          }
        },
        "ec0539c619964ed7b1bf5067b96d8966": {
          "model_module": "@jupyter-widgets/controls",
          "model_name": "HBoxModel",
          "model_module_version": "1.5.0",
          "state": {
            "_view_name": "HBoxView",
            "_dom_classes": [],
            "_model_name": "HBoxModel",
            "_view_module": "@jupyter-widgets/controls",
            "_model_module_version": "1.5.0",
            "_view_count": null,
            "_view_module_version": "1.5.0",
            "box_style": "",
            "layout": "IPY_MODEL_51a07aa3dcb8404489e68e277828080e",
            "_model_module": "@jupyter-widgets/controls",
            "children": [
              "IPY_MODEL_15596a5b25924a7b9de094f18b63dc0e",
              "IPY_MODEL_1aca7ac64e7148a1a302af3bf8062a44",
              "IPY_MODEL_c35fa9573982457796329330752cdd42"
            ]
          }
        },
        "51a07aa3dcb8404489e68e277828080e": {
          "model_module": "@jupyter-widgets/base",
          "model_name": "LayoutModel",
          "model_module_version": "1.2.0",
          "state": {
            "_view_name": "LayoutView",
            "grid_template_rows": null,
            "right": null,
            "justify_content": null,
            "_view_module": "@jupyter-widgets/base",
            "overflow": null,
            "_model_module_version": "1.2.0",
            "_view_count": null,
            "flex_flow": null,
            "width": null,
            "min_width": null,
            "border": null,
            "align_items": null,
            "bottom": null,
            "_model_module": "@jupyter-widgets/base",
            "top": null,
            "grid_column": null,
            "overflow_y": null,
            "overflow_x": null,
            "grid_auto_flow": null,
            "grid_area": null,
            "grid_template_columns": null,
            "flex": null,
            "_model_name": "LayoutModel",
            "justify_items": null,
            "grid_row": null,
            "max_height": null,
            "align_content": null,
            "visibility": null,
            "align_self": null,
            "height": null,
            "min_height": null,
            "padding": null,
            "grid_auto_rows": null,
            "grid_gap": null,
            "max_width": null,
            "order": null,
            "_view_module_version": "1.2.0",
            "grid_template_areas": null,
            "object_position": null,
            "object_fit": null,
            "grid_auto_columns": null,
            "margin": null,
            "display": null,
            "left": null
          }
        },
        "15596a5b25924a7b9de094f18b63dc0e": {
          "model_module": "@jupyter-widgets/controls",
          "model_name": "HTMLModel",
          "model_module_version": "1.5.0",
          "state": {
            "_view_name": "HTMLView",
            "style": "IPY_MODEL_29724b944f4147428d5a82311483db7e",
            "_dom_classes": [],
            "description": "",
            "_model_name": "HTMLModel",
            "placeholder": "​",
            "_view_module": "@jupyter-widgets/controls",
            "_model_module_version": "1.5.0",
            "value": "Iteration: 100%",
            "_view_count": null,
            "_view_module_version": "1.5.0",
            "description_tooltip": null,
            "_model_module": "@jupyter-widgets/controls",
            "layout": "IPY_MODEL_1b009940b6d14733bb56038898d74198"
          }
        },
        "1aca7ac64e7148a1a302af3bf8062a44": {
          "model_module": "@jupyter-widgets/controls",
          "model_name": "FloatProgressModel",
          "model_module_version": "1.5.0",
          "state": {
            "_view_name": "ProgressView",
            "style": "IPY_MODEL_0630a6b4789341f087e8b3531021cdc5",
            "_dom_classes": [],
            "description": "",
            "_model_name": "FloatProgressModel",
            "bar_style": "success",
            "max": 359,
            "_view_module": "@jupyter-widgets/controls",
            "_model_module_version": "1.5.0",
            "value": 359,
            "_view_count": null,
            "_view_module_version": "1.5.0",
            "orientation": "horizontal",
            "min": 0,
            "description_tooltip": null,
            "_model_module": "@jupyter-widgets/controls",
            "layout": "IPY_MODEL_420c8c6d6c574aeda62217390e3e1565"
          }
        },
        "c35fa9573982457796329330752cdd42": {
          "model_module": "@jupyter-widgets/controls",
          "model_name": "HTMLModel",
          "model_module_version": "1.5.0",
          "state": {
            "_view_name": "HTMLView",
            "style": "IPY_MODEL_063d7da98ebb466babf4473561b2c02c",
            "_dom_classes": [],
            "description": "",
            "_model_name": "HTMLModel",
            "placeholder": "​",
            "_view_module": "@jupyter-widgets/controls",
            "_model_module_version": "1.5.0",
            "value": " 359/359 [00:53&lt;00:00,  6.68it/s]",
            "_view_count": null,
            "_view_module_version": "1.5.0",
            "description_tooltip": null,
            "_model_module": "@jupyter-widgets/controls",
            "layout": "IPY_MODEL_38eee90368ec4c5f9a0ee13de321867b"
          }
        },
        "29724b944f4147428d5a82311483db7e": {
          "model_module": "@jupyter-widgets/controls",
          "model_name": "DescriptionStyleModel",
          "model_module_version": "1.5.0",
          "state": {
            "_view_name": "StyleView",
            "_model_name": "DescriptionStyleModel",
            "description_width": "",
            "_view_module": "@jupyter-widgets/base",
            "_model_module_version": "1.5.0",
            "_view_count": null,
            "_view_module_version": "1.2.0",
            "_model_module": "@jupyter-widgets/controls"
          }
        },
        "1b009940b6d14733bb56038898d74198": {
          "model_module": "@jupyter-widgets/base",
          "model_name": "LayoutModel",
          "model_module_version": "1.2.0",
          "state": {
            "_view_name": "LayoutView",
            "grid_template_rows": null,
            "right": null,
            "justify_content": null,
            "_view_module": "@jupyter-widgets/base",
            "overflow": null,
            "_model_module_version": "1.2.0",
            "_view_count": null,
            "flex_flow": null,
            "width": null,
            "min_width": null,
            "border": null,
            "align_items": null,
            "bottom": null,
            "_model_module": "@jupyter-widgets/base",
            "top": null,
            "grid_column": null,
            "overflow_y": null,
            "overflow_x": null,
            "grid_auto_flow": null,
            "grid_area": null,
            "grid_template_columns": null,
            "flex": null,
            "_model_name": "LayoutModel",
            "justify_items": null,
            "grid_row": null,
            "max_height": null,
            "align_content": null,
            "visibility": null,
            "align_self": null,
            "height": null,
            "min_height": null,
            "padding": null,
            "grid_auto_rows": null,
            "grid_gap": null,
            "max_width": null,
            "order": null,
            "_view_module_version": "1.2.0",
            "grid_template_areas": null,
            "object_position": null,
            "object_fit": null,
            "grid_auto_columns": null,
            "margin": null,
            "display": null,
            "left": null
          }
        },
        "0630a6b4789341f087e8b3531021cdc5": {
          "model_module": "@jupyter-widgets/controls",
          "model_name": "ProgressStyleModel",
          "model_module_version": "1.5.0",
          "state": {
            "_view_name": "StyleView",
            "_model_name": "ProgressStyleModel",
            "description_width": "",
            "_view_module": "@jupyter-widgets/base",
            "_model_module_version": "1.5.0",
            "_view_count": null,
            "_view_module_version": "1.2.0",
            "bar_color": null,
            "_model_module": "@jupyter-widgets/controls"
          }
        },
        "420c8c6d6c574aeda62217390e3e1565": {
          "model_module": "@jupyter-widgets/base",
          "model_name": "LayoutModel",
          "model_module_version": "1.2.0",
          "state": {
            "_view_name": "LayoutView",
            "grid_template_rows": null,
            "right": null,
            "justify_content": null,
            "_view_module": "@jupyter-widgets/base",
            "overflow": null,
            "_model_module_version": "1.2.0",
            "_view_count": null,
            "flex_flow": null,
            "width": null,
            "min_width": null,
            "border": null,
            "align_items": null,
            "bottom": null,
            "_model_module": "@jupyter-widgets/base",
            "top": null,
            "grid_column": null,
            "overflow_y": null,
            "overflow_x": null,
            "grid_auto_flow": null,
            "grid_area": null,
            "grid_template_columns": null,
            "flex": null,
            "_model_name": "LayoutModel",
            "justify_items": null,
            "grid_row": null,
            "max_height": null,
            "align_content": null,
            "visibility": null,
            "align_self": null,
            "height": null,
            "min_height": null,
            "padding": null,
            "grid_auto_rows": null,
            "grid_gap": null,
            "max_width": null,
            "order": null,
            "_view_module_version": "1.2.0",
            "grid_template_areas": null,
            "object_position": null,
            "object_fit": null,
            "grid_auto_columns": null,
            "margin": null,
            "display": null,
            "left": null
          }
        },
        "063d7da98ebb466babf4473561b2c02c": {
          "model_module": "@jupyter-widgets/controls",
          "model_name": "DescriptionStyleModel",
          "model_module_version": "1.5.0",
          "state": {
            "_view_name": "StyleView",
            "_model_name": "DescriptionStyleModel",
            "description_width": "",
            "_view_module": "@jupyter-widgets/base",
            "_model_module_version": "1.5.0",
            "_view_count": null,
            "_view_module_version": "1.2.0",
            "_model_module": "@jupyter-widgets/controls"
          }
        },
        "38eee90368ec4c5f9a0ee13de321867b": {
          "model_module": "@jupyter-widgets/base",
          "model_name": "LayoutModel",
          "model_module_version": "1.2.0",
          "state": {
            "_view_name": "LayoutView",
            "grid_template_rows": null,
            "right": null,
            "justify_content": null,
            "_view_module": "@jupyter-widgets/base",
            "overflow": null,
            "_model_module_version": "1.2.0",
            "_view_count": null,
            "flex_flow": null,
            "width": null,
            "min_width": null,
            "border": null,
            "align_items": null,
            "bottom": null,
            "_model_module": "@jupyter-widgets/base",
            "top": null,
            "grid_column": null,
            "overflow_y": null,
            "overflow_x": null,
            "grid_auto_flow": null,
            "grid_area": null,
            "grid_template_columns": null,
            "flex": null,
            "_model_name": "LayoutModel",
            "justify_items": null,
            "grid_row": null,
            "max_height": null,
            "align_content": null,
            "visibility": null,
            "align_self": null,
            "height": null,
            "min_height": null,
            "padding": null,
            "grid_auto_rows": null,
            "grid_gap": null,
            "max_width": null,
            "order": null,
            "_view_module_version": "1.2.0",
            "grid_template_areas": null,
            "object_position": null,
            "object_fit": null,
            "grid_auto_columns": null,
            "margin": null,
            "display": null,
            "left": null
          }
        },
        "20c72593f6004dcd82af49ceecde5294": {
          "model_module": "@jupyter-widgets/controls",
          "model_name": "HBoxModel",
          "model_module_version": "1.5.0",
          "state": {
            "_view_name": "HBoxView",
            "_dom_classes": [],
            "_model_name": "HBoxModel",
            "_view_module": "@jupyter-widgets/controls",
            "_model_module_version": "1.5.0",
            "_view_count": null,
            "_view_module_version": "1.5.0",
            "box_style": "",
            "layout": "IPY_MODEL_0b8c33150cf740e3878ede738c880a6e",
            "_model_module": "@jupyter-widgets/controls",
            "children": [
              "IPY_MODEL_0a0e8f16e13848398e3d2bae28f684ef",
              "IPY_MODEL_1a9be7372e55416f99f0cb76e6623f61",
              "IPY_MODEL_fb7dec427eb3408c8993ed69391d6563"
            ]
          }
        },
        "0b8c33150cf740e3878ede738c880a6e": {
          "model_module": "@jupyter-widgets/base",
          "model_name": "LayoutModel",
          "model_module_version": "1.2.0",
          "state": {
            "_view_name": "LayoutView",
            "grid_template_rows": null,
            "right": null,
            "justify_content": null,
            "_view_module": "@jupyter-widgets/base",
            "overflow": null,
            "_model_module_version": "1.2.0",
            "_view_count": null,
            "flex_flow": null,
            "width": null,
            "min_width": null,
            "border": null,
            "align_items": null,
            "bottom": null,
            "_model_module": "@jupyter-widgets/base",
            "top": null,
            "grid_column": null,
            "overflow_y": null,
            "overflow_x": null,
            "grid_auto_flow": null,
            "grid_area": null,
            "grid_template_columns": null,
            "flex": null,
            "_model_name": "LayoutModel",
            "justify_items": null,
            "grid_row": null,
            "max_height": null,
            "align_content": null,
            "visibility": null,
            "align_self": null,
            "height": null,
            "min_height": null,
            "padding": null,
            "grid_auto_rows": null,
            "grid_gap": null,
            "max_width": null,
            "order": null,
            "_view_module_version": "1.2.0",
            "grid_template_areas": null,
            "object_position": null,
            "object_fit": null,
            "grid_auto_columns": null,
            "margin": null,
            "display": null,
            "left": null
          }
        },
        "0a0e8f16e13848398e3d2bae28f684ef": {
          "model_module": "@jupyter-widgets/controls",
          "model_name": "HTMLModel",
          "model_module_version": "1.5.0",
          "state": {
            "_view_name": "HTMLView",
            "style": "IPY_MODEL_7c81f6a9060646248fdf8943aa9cd48e",
            "_dom_classes": [],
            "description": "",
            "_model_name": "HTMLModel",
            "placeholder": "​",
            "_view_module": "@jupyter-widgets/controls",
            "_model_module_version": "1.5.0",
            "value": "Batches: 100%",
            "_view_count": null,
            "_view_module_version": "1.5.0",
            "description_tooltip": null,
            "_model_module": "@jupyter-widgets/controls",
            "layout": "IPY_MODEL_9ab03c2cf42645b783c8c20771ce787a"
          }
        },
        "1a9be7372e55416f99f0cb76e6623f61": {
          "model_module": "@jupyter-widgets/controls",
          "model_name": "FloatProgressModel",
          "model_module_version": "1.5.0",
          "state": {
            "_view_name": "ProgressView",
            "style": "IPY_MODEL_1d1a0591152346f7b1511f21a14a98c7",
            "_dom_classes": [],
            "description": "",
            "_model_name": "FloatProgressModel",
            "bar_style": "success",
            "max": 6277,
            "_view_module": "@jupyter-widgets/controls",
            "_model_module_version": "1.5.0",
            "value": 6277,
            "_view_count": null,
            "_view_module_version": "1.5.0",
            "orientation": "horizontal",
            "min": 0,
            "description_tooltip": null,
            "_model_module": "@jupyter-widgets/controls",
            "layout": "IPY_MODEL_b9f090f05c8e44b1aef50ebcf5934c6a"
          }
        },
        "fb7dec427eb3408c8993ed69391d6563": {
          "model_module": "@jupyter-widgets/controls",
          "model_name": "HTMLModel",
          "model_module_version": "1.5.0",
          "state": {
            "_view_name": "HTMLView",
            "style": "IPY_MODEL_042af342dc224467b72b65e7dd8a0767",
            "_dom_classes": [],
            "description": "",
            "_model_name": "HTMLModel",
            "placeholder": "​",
            "_view_module": "@jupyter-widgets/controls",
            "_model_module_version": "1.5.0",
            "value": " 6277/6277 [02:27&lt;00:00, 92.45it/s]",
            "_view_count": null,
            "_view_module_version": "1.5.0",
            "description_tooltip": null,
            "_model_module": "@jupyter-widgets/controls",
            "layout": "IPY_MODEL_15e673ecaf3e4be38776a82631d992b1"
          }
        },
        "7c81f6a9060646248fdf8943aa9cd48e": {
          "model_module": "@jupyter-widgets/controls",
          "model_name": "DescriptionStyleModel",
          "model_module_version": "1.5.0",
          "state": {
            "_view_name": "StyleView",
            "_model_name": "DescriptionStyleModel",
            "description_width": "",
            "_view_module": "@jupyter-widgets/base",
            "_model_module_version": "1.5.0",
            "_view_count": null,
            "_view_module_version": "1.2.0",
            "_model_module": "@jupyter-widgets/controls"
          }
        },
        "9ab03c2cf42645b783c8c20771ce787a": {
          "model_module": "@jupyter-widgets/base",
          "model_name": "LayoutModel",
          "model_module_version": "1.2.0",
          "state": {
            "_view_name": "LayoutView",
            "grid_template_rows": null,
            "right": null,
            "justify_content": null,
            "_view_module": "@jupyter-widgets/base",
            "overflow": null,
            "_model_module_version": "1.2.0",
            "_view_count": null,
            "flex_flow": null,
            "width": null,
            "min_width": null,
            "border": null,
            "align_items": null,
            "bottom": null,
            "_model_module": "@jupyter-widgets/base",
            "top": null,
            "grid_column": null,
            "overflow_y": null,
            "overflow_x": null,
            "grid_auto_flow": null,
            "grid_area": null,
            "grid_template_columns": null,
            "flex": null,
            "_model_name": "LayoutModel",
            "justify_items": null,
            "grid_row": null,
            "max_height": null,
            "align_content": null,
            "visibility": null,
            "align_self": null,
            "height": null,
            "min_height": null,
            "padding": null,
            "grid_auto_rows": null,
            "grid_gap": null,
            "max_width": null,
            "order": null,
            "_view_module_version": "1.2.0",
            "grid_template_areas": null,
            "object_position": null,
            "object_fit": null,
            "grid_auto_columns": null,
            "margin": null,
            "display": null,
            "left": null
          }
        },
        "1d1a0591152346f7b1511f21a14a98c7": {
          "model_module": "@jupyter-widgets/controls",
          "model_name": "ProgressStyleModel",
          "model_module_version": "1.5.0",
          "state": {
            "_view_name": "StyleView",
            "_model_name": "ProgressStyleModel",
            "description_width": "",
            "_view_module": "@jupyter-widgets/base",
            "_model_module_version": "1.5.0",
            "_view_count": null,
            "_view_module_version": "1.2.0",
            "bar_color": null,
            "_model_module": "@jupyter-widgets/controls"
          }
        },
        "b9f090f05c8e44b1aef50ebcf5934c6a": {
          "model_module": "@jupyter-widgets/base",
          "model_name": "LayoutModel",
          "model_module_version": "1.2.0",
          "state": {
            "_view_name": "LayoutView",
            "grid_template_rows": null,
            "right": null,
            "justify_content": null,
            "_view_module": "@jupyter-widgets/base",
            "overflow": null,
            "_model_module_version": "1.2.0",
            "_view_count": null,
            "flex_flow": null,
            "width": null,
            "min_width": null,
            "border": null,
            "align_items": null,
            "bottom": null,
            "_model_module": "@jupyter-widgets/base",
            "top": null,
            "grid_column": null,
            "overflow_y": null,
            "overflow_x": null,
            "grid_auto_flow": null,
            "grid_area": null,
            "grid_template_columns": null,
            "flex": null,
            "_model_name": "LayoutModel",
            "justify_items": null,
            "grid_row": null,
            "max_height": null,
            "align_content": null,
            "visibility": null,
            "align_self": null,
            "height": null,
            "min_height": null,
            "padding": null,
            "grid_auto_rows": null,
            "grid_gap": null,
            "max_width": null,
            "order": null,
            "_view_module_version": "1.2.0",
            "grid_template_areas": null,
            "object_position": null,
            "object_fit": null,
            "grid_auto_columns": null,
            "margin": null,
            "display": null,
            "left": null
          }
        },
        "042af342dc224467b72b65e7dd8a0767": {
          "model_module": "@jupyter-widgets/controls",
          "model_name": "DescriptionStyleModel",
          "model_module_version": "1.5.0",
          "state": {
            "_view_name": "StyleView",
            "_model_name": "DescriptionStyleModel",
            "description_width": "",
            "_view_module": "@jupyter-widgets/base",
            "_model_module_version": "1.5.0",
            "_view_count": null,
            "_view_module_version": "1.2.0",
            "_model_module": "@jupyter-widgets/controls"
          }
        },
        "15e673ecaf3e4be38776a82631d992b1": {
          "model_module": "@jupyter-widgets/base",
          "model_name": "LayoutModel",
          "model_module_version": "1.2.0",
          "state": {
            "_view_name": "LayoutView",
            "grid_template_rows": null,
            "right": null,
            "justify_content": null,
            "_view_module": "@jupyter-widgets/base",
            "overflow": null,
            "_model_module_version": "1.2.0",
            "_view_count": null,
            "flex_flow": null,
            "width": null,
            "min_width": null,
            "border": null,
            "align_items": null,
            "bottom": null,
            "_model_module": "@jupyter-widgets/base",
            "top": null,
            "grid_column": null,
            "overflow_y": null,
            "overflow_x": null,
            "grid_auto_flow": null,
            "grid_area": null,
            "grid_template_columns": null,
            "flex": null,
            "_model_name": "LayoutModel",
            "justify_items": null,
            "grid_row": null,
            "max_height": null,
            "align_content": null,
            "visibility": null,
            "align_self": null,
            "height": null,
            "min_height": null,
            "padding": null,
            "grid_auto_rows": null,
            "grid_gap": null,
            "max_width": null,
            "order": null,
            "_view_module_version": "1.2.0",
            "grid_template_areas": null,
            "object_position": null,
            "object_fit": null,
            "grid_auto_columns": null,
            "margin": null,
            "display": null,
            "left": null
          }
        }
      }
    }
  },
  "nbformat": 4,
  "nbformat_minor": 0
}