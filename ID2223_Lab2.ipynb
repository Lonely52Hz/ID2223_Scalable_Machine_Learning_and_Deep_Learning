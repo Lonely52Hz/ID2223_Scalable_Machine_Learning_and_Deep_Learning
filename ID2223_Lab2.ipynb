{
  "nbformat": 4,
  "nbformat_minor": 0,
  "metadata": {
    "colab": {
      "name": "ID2223_Lab2.ipynb",
      "provenance": [],
      "authorship_tag": "ABX9TyNNxP/bkaDhT9Oq1bc7g1oG",
      "include_colab_link": true
    },
    "kernelspec": {
      "name": "python3",
      "display_name": "Python 3"
    },
    "language_info": {
      "name": "python"
    }
  },
  "cells": [
    {
      "cell_type": "markdown",
      "metadata": {
        "id": "view-in-github",
        "colab_type": "text"
      },
      "source": [
        "<a href=\"https://colab.research.google.com/github/Lonely52Hz/ID2223_Scalable_Machine_Learning_and_Deep_Learning/blob/main/ID2223_Lab2.ipynb\" target=\"_parent\"><img src=\"https://colab.research.google.com/assets/colab-badge.svg\" alt=\"Open In Colab\"/></a>"
      ]
    },
    {
      "cell_type": "code",
      "metadata": {
        "colab": {
          "base_uri": "https://localhost:8080/"
        },
        "id": "2MZNLrLvtKHb",
        "outputId": "c10b4eaf-37fc-4790-a729-e6de0a3ef08b"
      },
      "source": [
        "# set environment in colab\n",
        "!apt-get install openjdk-8-jdk-headless -qq > /dev/null\n",
        "!wget -q https://dlcdn.apache.org/spark/spark-3.2.0/spark-3.2.0-bin-hadoop3.2.tgz\n",
        "!tar xf spark-3.2.0-bin-hadoop3.2.tgz\n",
        "!pip install -q findspark\n",
        "import os\n",
        "os.environ[\"JAVA_HOME\"] = \"/usr/lib/jvm/java-8-openjdk-amd64\"\n",
        "os.environ[\"SPARK_HOME\"] = \"/content/spark-3.2.0-bin-hadoop3.2\"\n",
        "!pip install pyspark"
      ],
      "execution_count": null,
      "outputs": [
        {
          "output_type": "stream",
          "name": "stdout",
          "text": [
            "Collecting pyspark\n",
            "  Downloading pyspark-3.2.0.tar.gz (281.3 MB)\n",
            "\u001b[K     |████████████████████████████████| 281.3 MB 39 kB/s \n",
            "\u001b[?25hCollecting py4j==0.10.9.2\n",
            "  Downloading py4j-0.10.9.2-py2.py3-none-any.whl (198 kB)\n",
            "\u001b[K     |████████████████████████████████| 198 kB 54.7 MB/s \n",
            "\u001b[?25hBuilding wheels for collected packages: pyspark\n",
            "  Building wheel for pyspark (setup.py) ... \u001b[?25l\u001b[?25hdone\n",
            "  Created wheel for pyspark: filename=pyspark-3.2.0-py2.py3-none-any.whl size=281805912 sha256=d532112c70b76be186d38ddb174e3061578bcf014062751b8f50169a758d77a1\n",
            "  Stored in directory: /root/.cache/pip/wheels/0b/de/d2/9be5d59d7331c6c2a7c1b6d1a4f463ce107332b1ecd4e80718\n",
            "Successfully built pyspark\n",
            "Installing collected packages: py4j, pyspark\n",
            "Successfully installed py4j-0.10.9.2 pyspark-3.2.0\n"
          ]
        }
      ]
    },
    {
      "cell_type": "code",
      "metadata": {
        "id": "Aw97q3j8e5PC"
      },
      "source": [
        "import tensorflow as tf\n",
        "from tensorflow import keras"
      ],
      "execution_count": null,
      "outputs": []
    },
    {
      "cell_type": "code",
      "metadata": {
        "id": "Bt4qNxY7tDjI"
      },
      "source": [
        "from pyspark.sql import SparkSession\n",
        "spark = SparkSession.builder.master(\"local\").appName(\"Colab\").config(\"spark.ui.port\", \"4050\").getOrCreate()\n",
        "from pyspark.sql.functions import *\n",
        "#from pyspark.sql.types import *"
      ],
      "execution_count": null,
      "outputs": []
    },
    {
      "cell_type": "code",
      "metadata": {
        "colab": {
          "base_uri": "https://localhost:8080/"
        },
        "id": "OGkGEXDMuLCi",
        "outputId": "f6044222-874d-46ba-869d-5fd9796e303f"
      },
      "source": [
        "from google.colab import drive\n",
        "drive.mount('/content/drive', force_remount = True)"
      ],
      "execution_count": null,
      "outputs": [
        {
          "output_type": "stream",
          "name": "stdout",
          "text": [
            "Mounted at /content/drive\n"
          ]
        }
      ]
    },
    {
      "cell_type": "code",
      "metadata": {
        "colab": {
          "base_uri": "https://localhost:8080/"
        },
        "id": "_lYCcUCStuEX",
        "outputId": "22fd97f2-a0a0-4341-959c-c4bc28ed7145"
      },
      "source": [
        "train = spark.read.csv('drive/MyDrive/ID2223_File/stsbenchmark/sts-train.csv', sep = '\\t', inferSchema = True)\\\n",
        "     .withColumnRenamed('_c0', 'genre').withColumnRenamed('_c1', 'file').withColumnRenamed('_c2', 'year')\\\n",
        "     .withColumnRenamed('_c3', 'index').withColumnRenamed('_c4', 'score')\\\n",
        "     .withColumnRenamed('_c5', 'sentenceA').withColumnRenamed('_c6', 'sentenceB')\n",
        "test = spark.read.csv('drive/MyDrive/ID2223_File/stsbenchmark/sts-test.csv', sep = '\\t', inferSchema = True)\\\n",
        "     .withColumnRenamed('_c0', 'genre').withColumnRenamed('_c1', 'file').withColumnRenamed('_c2', 'year')\\\n",
        "     .withColumnRenamed('_c3', 'index').withColumnRenamed('_c4', 'score')\\\n",
        "     .withColumnRenamed('_c5', 'sentenceA').withColumnRenamed('_c6', 'sentenceB')\n",
        "dev = spark.read.csv('drive/MyDrive/ID2223_File/stsbenchmark/sts-dev.csv', sep = '\\t', inferSchema = True)\\\n",
        "     .withColumnRenamed('_c0', 'genre').withColumnRenamed('_c1', 'file').withColumnRenamed('_c2', 'year')\\\n",
        "     .withColumnRenamed('_c3', 'index').withColumnRenamed('_c4', 'score')\\\n",
        "     .withColumnRenamed('_c5', 'sentenceA').withColumnRenamed('_c6', 'sentenceB')\n",
        "\n",
        "train.show(5, truncate = False)\n",
        "train.printSchema()"
      ],
      "execution_count": null,
      "outputs": [
        {
          "output_type": "stream",
          "name": "stdout",
          "text": [
            "+-------------+------+--------+-----+-----+---------------------------------------------+--------------------------------------------------------+\n",
            "|genre        |file  |year    |index|score|sentenceA                                    |sentenceB                                               |\n",
            "+-------------+------+--------+-----+-----+---------------------------------------------+--------------------------------------------------------+\n",
            "|main-captions|MSRvid|2012test|1    |5.0  |A plane is taking off.                       |An air plane is taking off.                             |\n",
            "|main-captions|MSRvid|2012test|4    |3.8  |A man is playing a large flute.              |A man is playing a flute.                               |\n",
            "|main-captions|MSRvid|2012test|5    |3.8  |A man is spreading shreded cheese on a pizza.|A man is spreading shredded cheese on an uncooked pizza.|\n",
            "|main-captions|MSRvid|2012test|6    |2.6  |Three men are playing chess.                 |Two men are playing chess.                              |\n",
            "|main-captions|MSRvid|2012test|9    |4.25 |A man is playing the cello.                  |A man seated is playing the cello.                      |\n",
            "+-------------+------+--------+-----+-----+---------------------------------------------+--------------------------------------------------------+\n",
            "only showing top 5 rows\n",
            "\n",
            "root\n",
            " |-- genre: string (nullable = true)\n",
            " |-- file: string (nullable = true)\n",
            " |-- year: string (nullable = true)\n",
            " |-- index: integer (nullable = true)\n",
            " |-- score: double (nullable = true)\n",
            " |-- sentenceA: string (nullable = true)\n",
            " |-- sentenceB: string (nullable = true)\n",
            "\n"
          ]
        }
      ]
    },
    {
      "cell_type": "code",
      "metadata": {
        "id": "mYTB5Rc0yry3",
        "colab": {
          "base_uri": "https://localhost:8080/"
        },
        "outputId": "562bfd56-5402-4a5a-d940-29a543dc04f2"
      },
      "source": [
        "train = train.withColumn('score', col('score')/2.5 - 1)\n",
        "test = test.withColumn('score', col('score')/2.5 - 1)\n",
        "dev = dev.withColumn('score', col('score')/2.5 - 1)\n",
        "\n",
        "train.show(5, truncate = False)\n",
        "train.describe(['score']).show()"
      ],
      "execution_count": null,
      "outputs": [
        {
          "output_type": "stream",
          "name": "stdout",
          "text": [
            "+-------------+------+--------+-----+--------------------+---------------------------------------------+--------------------------------------------------------+\n",
            "|genre        |file  |year    |index|score               |sentenceA                                    |sentenceB                                               |\n",
            "+-------------+------+--------+-----+--------------------+---------------------------------------------+--------------------------------------------------------+\n",
            "|main-captions|MSRvid|2012test|1    |1.0                 |A plane is taking off.                       |An air plane is taking off.                             |\n",
            "|main-captions|MSRvid|2012test|4    |0.52                |A man is playing a large flute.              |A man is playing a flute.                               |\n",
            "|main-captions|MSRvid|2012test|5    |0.52                |A man is spreading shreded cheese on a pizza.|A man is spreading shredded cheese on an uncooked pizza.|\n",
            "|main-captions|MSRvid|2012test|6    |0.040000000000000036|Three men are playing chess.                 |Two men are playing chess.                              |\n",
            "|main-captions|MSRvid|2012test|9    |0.7                 |A man is playing the cello.                  |A man seated is playing the cello.                      |\n",
            "+-------------+------+--------+-----+--------------------+---------------------------------------------+--------------------------------------------------------+\n",
            "only showing top 5 rows\n",
            "\n",
            "+-------+-------------------+\n",
            "|summary|              score|\n",
            "+-------+-------------------+\n",
            "|  count|               5749|\n",
            "|   mean|0.08039961014614003|\n",
            "| stddev| 0.5857592860359465|\n",
            "|    min|               -1.0|\n",
            "|    max|                1.0|\n",
            "+-------+-------------------+\n",
            "\n"
          ]
        }
      ]
    },
    {
      "cell_type": "code",
      "metadata": {
        "colab": {
          "base_uri": "https://localhost:8080/"
        },
        "id": "u9WQt3Qd_-X9",
        "outputId": "e60dec59-2e65-4df1-8519-5a91872f0286"
      },
      "source": [
        "train.select([count(when(col(c).isNull(), c)).alias(c) for c in train.columns]).show()\n",
        "test.select([count(when(col(c).isNull(), c)).alias(c) for c in test.columns]).show()\n",
        "dev.select([count(when(col(c).isNull(), c)).alias(c) for c in dev.columns]).show()"
      ],
      "execution_count": 43,
      "outputs": [
        {
          "output_type": "stream",
          "name": "stdout",
          "text": [
            "+-----+----+----+-----+-----+---------+---------+\n",
            "|genre|file|year|index|score|sentenceA|sentenceB|\n",
            "+-----+----+----+-----+-----+---------+---------+\n",
            "|    0|   0|   0|    0|    0|        0|        6|\n",
            "+-----+----+----+-----+-----+---------+---------+\n",
            "\n",
            "+-----+----+----+-----+-----+---------+---------+\n",
            "|genre|file|year|index|score|sentenceA|sentenceB|\n",
            "+-----+----+----+-----+-----+---------+---------+\n",
            "|    0|   0|   0|    0|    0|        0|        3|\n",
            "+-----+----+----+-----+-----+---------+---------+\n",
            "\n",
            "+-----+----+----+-----+-----+---------+---------+\n",
            "|genre|file|year|index|score|sentenceA|sentenceB|\n",
            "+-----+----+----+-----+-----+---------+---------+\n",
            "|    0|   0|   0|    0|    0|        0|        3|\n",
            "+-----+----+----+-----+-----+---------+---------+\n",
            "\n"
          ]
        }
      ]
    },
    {
      "cell_type": "code",
      "metadata": {
        "id": "FMmSGtpYD3op"
      },
      "source": [
        ""
      ],
      "execution_count": null,
      "outputs": []
    }
  ]
}