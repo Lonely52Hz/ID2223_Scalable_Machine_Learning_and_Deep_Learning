{
  "cells": [
    {
      "cell_type": "markdown",
      "metadata": {
        "id": "view-in-github",
        "colab_type": "text"
      },
      "source": [
        "<a href=\"https://colab.research.google.com/github/Lonely52Hz/ID2223_Scalable_Machine_Learning_and_Deep_Learning/blob/main/ID2223_Lab2.ipynb\" target=\"_parent\"><img src=\"https://colab.research.google.com/assets/colab-badge.svg\" alt=\"Open In Colab\"/></a>"
      ]
    },
    {
      "cell_type": "code",
      "execution_count": 1,
      "metadata": {
        "colab": {
          "base_uri": "https://localhost:8080/"
        },
        "id": "2MZNLrLvtKHb",
        "outputId": "5196f64a-018b-4631-cc50-7e95a0d09220"
      },
      "outputs": [
        {
          "output_type": "stream",
          "name": "stdout",
          "text": [
            "Collecting pyspark\n",
            "  Downloading pyspark-3.2.0.tar.gz (281.3 MB)\n",
            "\u001b[K     |████████████████████████████████| 281.3 MB 39 kB/s \n",
            "\u001b[?25hCollecting py4j==0.10.9.2\n",
            "  Downloading py4j-0.10.9.2-py2.py3-none-any.whl (198 kB)\n",
            "\u001b[K     |████████████████████████████████| 198 kB 66.1 MB/s \n",
            "\u001b[?25hBuilding wheels for collected packages: pyspark\n",
            "  Building wheel for pyspark (setup.py) ... \u001b[?25l\u001b[?25hdone\n",
            "  Created wheel for pyspark: filename=pyspark-3.2.0-py2.py3-none-any.whl size=281805912 sha256=fa1d8ff9bc2844c184870fb540cfafd6be1f665ff21d30246af19774da69de78\n",
            "  Stored in directory: /root/.cache/pip/wheels/0b/de/d2/9be5d59d7331c6c2a7c1b6d1a4f463ce107332b1ecd4e80718\n",
            "Successfully built pyspark\n",
            "Installing collected packages: py4j, pyspark\n",
            "Successfully installed py4j-0.10.9.2 pyspark-3.2.0\n"
          ]
        }
      ],
      "source": [
        "# set environment in colab\n",
        "!apt-get install openjdk-8-jdk-headless -qq > /dev/null\n",
        "!wget -q https://dlcdn.apache.org/spark/spark-3.2.0/spark-3.2.0-bin-hadoop3.2.tgz\n",
        "!tar xf spark-3.2.0-bin-hadoop3.2.tgz\n",
        "!pip install -q findspark\n",
        "import os\n",
        "os.environ[\"JAVA_HOME\"] = \"/usr/lib/jvm/java-8-openjdk-amd64\"\n",
        "os.environ[\"SPARK_HOME\"] = \"/content/spark-3.2.0-bin-hadoop3.2\"\n",
        "!pip install pyspark"
      ]
    },
    {
      "cell_type": "code",
      "execution_count": 2,
      "metadata": {
        "id": "Aw97q3j8e5PC"
      },
      "outputs": [],
      "source": [
        "import tensorflow as tf\n",
        "from tensorflow import keras"
      ]
    },
    {
      "cell_type": "code",
      "execution_count": 3,
      "metadata": {
        "id": "Bt4qNxY7tDjI"
      },
      "outputs": [],
      "source": [
        "from pyspark.sql import SparkSession\n",
        "spark = SparkSession.builder.master(\"local\").appName(\"Colab\").config(\"spark.ui.port\", \"4050\").getOrCreate()\n",
        "from pyspark.sql.functions import *"
      ]
    },
    {
      "cell_type": "code",
      "execution_count": 4,
      "metadata": {
        "id": "OGkGEXDMuLCi",
        "colab": {
          "base_uri": "https://localhost:8080/"
        },
        "outputId": "c497b54b-1192-4e1b-955c-d0bce2401ba9"
      },
      "outputs": [
        {
          "output_type": "stream",
          "name": "stdout",
          "text": [
            "Mounted at /content/drive\n"
          ]
        }
      ],
      "source": [
        "from google.colab import drive\n",
        "drive.mount('/content/drive', force_remount = True)"
      ]
    },
    {
      "cell_type": "code",
      "execution_count": 5,
      "metadata": {
        "id": "Z-ywn32AJ3Db",
        "colab": {
          "base_uri": "https://localhost:8080/"
        },
        "outputId": "467c869f-6830-436a-a0bf-6217426e0b1c"
      },
      "outputs": [
        {
          "output_type": "stream",
          "name": "stdout",
          "text": [
            "Collecting sentence-transformers\n",
            "  Downloading sentence-transformers-2.1.0.tar.gz (78 kB)\n",
            "\u001b[K     |████████████████████████████████| 78 kB 4.8 MB/s \n",
            "\u001b[?25hCollecting transformers<5.0.0,>=4.6.0\n",
            "  Downloading transformers-4.13.0-py3-none-any.whl (3.3 MB)\n",
            "\u001b[K     |████████████████████████████████| 3.3 MB 29.1 MB/s \n",
            "\u001b[?25hCollecting tokenizers>=0.10.3\n",
            "  Downloading tokenizers-0.10.3-cp37-cp37m-manylinux_2_5_x86_64.manylinux1_x86_64.manylinux_2_12_x86_64.manylinux2010_x86_64.whl (3.3 MB)\n",
            "\u001b[K     |████████████████████████████████| 3.3 MB 48.8 MB/s \n",
            "\u001b[?25hRequirement already satisfied: tqdm in /usr/local/lib/python3.7/dist-packages (from sentence-transformers) (4.62.3)\n",
            "Requirement already satisfied: torch>=1.6.0 in /usr/local/lib/python3.7/dist-packages (from sentence-transformers) (1.10.0+cu111)\n",
            "Requirement already satisfied: torchvision in /usr/local/lib/python3.7/dist-packages (from sentence-transformers) (0.11.1+cu111)\n",
            "Requirement already satisfied: numpy in /usr/local/lib/python3.7/dist-packages (from sentence-transformers) (1.19.5)\n",
            "Requirement already satisfied: scikit-learn in /usr/local/lib/python3.7/dist-packages (from sentence-transformers) (1.0.1)\n",
            "Requirement already satisfied: scipy in /usr/local/lib/python3.7/dist-packages (from sentence-transformers) (1.4.1)\n",
            "Requirement already satisfied: nltk in /usr/local/lib/python3.7/dist-packages (from sentence-transformers) (3.2.5)\n",
            "Collecting sentencepiece\n",
            "  Downloading sentencepiece-0.1.96-cp37-cp37m-manylinux_2_17_x86_64.manylinux2014_x86_64.whl (1.2 MB)\n",
            "\u001b[K     |████████████████████████████████| 1.2 MB 46.1 MB/s \n",
            "\u001b[?25hCollecting huggingface-hub\n",
            "  Downloading huggingface_hub-0.2.1-py3-none-any.whl (61 kB)\n",
            "\u001b[K     |████████████████████████████████| 61 kB 625 kB/s \n",
            "\u001b[?25hRequirement already satisfied: typing-extensions in /usr/local/lib/python3.7/dist-packages (from torch>=1.6.0->sentence-transformers) (3.10.0.2)\n",
            "Collecting sacremoses\n",
            "  Downloading sacremoses-0.0.46-py3-none-any.whl (895 kB)\n",
            "\u001b[K     |████████████████████████████████| 895 kB 44.7 MB/s \n",
            "\u001b[?25hRequirement already satisfied: packaging>=20.0 in /usr/local/lib/python3.7/dist-packages (from transformers<5.0.0,>=4.6.0->sentence-transformers) (21.3)\n",
            "Collecting pyyaml>=5.1\n",
            "  Downloading PyYAML-6.0-cp37-cp37m-manylinux_2_5_x86_64.manylinux1_x86_64.manylinux_2_12_x86_64.manylinux2010_x86_64.whl (596 kB)\n",
            "\u001b[K     |████████████████████████████████| 596 kB 77.5 MB/s \n",
            "\u001b[?25hRequirement already satisfied: requests in /usr/local/lib/python3.7/dist-packages (from transformers<5.0.0,>=4.6.0->sentence-transformers) (2.23.0)\n",
            "Requirement already satisfied: importlib-metadata in /usr/local/lib/python3.7/dist-packages (from transformers<5.0.0,>=4.6.0->sentence-transformers) (4.8.2)\n",
            "Requirement already satisfied: regex!=2019.12.17 in /usr/local/lib/python3.7/dist-packages (from transformers<5.0.0,>=4.6.0->sentence-transformers) (2019.12.20)\n",
            "Requirement already satisfied: filelock in /usr/local/lib/python3.7/dist-packages (from transformers<5.0.0,>=4.6.0->sentence-transformers) (3.4.0)\n",
            "Requirement already satisfied: pyparsing!=3.0.5,>=2.0.2 in /usr/local/lib/python3.7/dist-packages (from packaging>=20.0->transformers<5.0.0,>=4.6.0->sentence-transformers) (3.0.6)\n",
            "Requirement already satisfied: zipp>=0.5 in /usr/local/lib/python3.7/dist-packages (from importlib-metadata->transformers<5.0.0,>=4.6.0->sentence-transformers) (3.6.0)\n",
            "Requirement already satisfied: six in /usr/local/lib/python3.7/dist-packages (from nltk->sentence-transformers) (1.15.0)\n",
            "Requirement already satisfied: chardet<4,>=3.0.2 in /usr/local/lib/python3.7/dist-packages (from requests->transformers<5.0.0,>=4.6.0->sentence-transformers) (3.0.4)\n",
            "Requirement already satisfied: urllib3!=1.25.0,!=1.25.1,<1.26,>=1.21.1 in /usr/local/lib/python3.7/dist-packages (from requests->transformers<5.0.0,>=4.6.0->sentence-transformers) (1.24.3)\n",
            "Requirement already satisfied: certifi>=2017.4.17 in /usr/local/lib/python3.7/dist-packages (from requests->transformers<5.0.0,>=4.6.0->sentence-transformers) (2021.10.8)\n",
            "Requirement already satisfied: idna<3,>=2.5 in /usr/local/lib/python3.7/dist-packages (from requests->transformers<5.0.0,>=4.6.0->sentence-transformers) (2.10)\n",
            "Requirement already satisfied: click in /usr/local/lib/python3.7/dist-packages (from sacremoses->transformers<5.0.0,>=4.6.0->sentence-transformers) (7.1.2)\n",
            "Requirement already satisfied: joblib in /usr/local/lib/python3.7/dist-packages (from sacremoses->transformers<5.0.0,>=4.6.0->sentence-transformers) (1.1.0)\n",
            "Requirement already satisfied: threadpoolctl>=2.0.0 in /usr/local/lib/python3.7/dist-packages (from scikit-learn->sentence-transformers) (3.0.0)\n",
            "Requirement already satisfied: pillow!=8.3.0,>=5.3.0 in /usr/local/lib/python3.7/dist-packages (from torchvision->sentence-transformers) (7.1.2)\n",
            "Building wheels for collected packages: sentence-transformers\n",
            "  Building wheel for sentence-transformers (setup.py) ... \u001b[?25l\u001b[?25hdone\n",
            "  Created wheel for sentence-transformers: filename=sentence_transformers-2.1.0-py3-none-any.whl size=121000 sha256=478df86d4db2be0970124a0ed11b7d02c20557a7fcd61fed30c520c0c6efcabc\n",
            "  Stored in directory: /root/.cache/pip/wheels/90/f0/bb/ed1add84da70092ea526466eadc2bfb197c4bcb8d4fa5f7bad\n",
            "Successfully built sentence-transformers\n",
            "Installing collected packages: pyyaml, tokenizers, sacremoses, huggingface-hub, transformers, sentencepiece, sentence-transformers\n",
            "  Attempting uninstall: pyyaml\n",
            "    Found existing installation: PyYAML 3.13\n",
            "    Uninstalling PyYAML-3.13:\n",
            "      Successfully uninstalled PyYAML-3.13\n",
            "Successfully installed huggingface-hub-0.2.1 pyyaml-6.0 sacremoses-0.0.46 sentence-transformers-2.1.0 sentencepiece-0.1.96 tokenizers-0.10.3 transformers-4.13.0\n"
          ]
        }
      ],
      "source": [
        "!pip install -U sentence-transformers\n",
        "from sentence_transformers import SentenceTransformer, models, losses, InputExample\n",
        "from torch.utils.data import DataLoader\n",
        "from sentence_transformers import evaluation\n",
        "import math\n",
        "from datetime import datetime\n",
        "import torch\n",
        "from sentence_transformers.evaluation import EmbeddingSimilarityEvaluator\n",
        "import sklearn\n",
        "from scipy import stats"
      ]
    },
    {
      "cell_type": "markdown",
      "metadata": {
        "id": "y3_SgL3zsHh_"
      },
      "source": [
        "# Regression"
      ]
    },
    {
      "cell_type": "code",
      "execution_count": 6,
      "metadata": {
        "colab": {
          "base_uri": "https://localhost:8080/"
        },
        "id": "_lYCcUCStuEX",
        "outputId": "132df037-6292-445f-ab02-96a68cde3ef0"
      },
      "outputs": [
        {
          "output_type": "stream",
          "name": "stdout",
          "text": [
            "+-------------+------+--------+-----+-----+--------------------+--------------------+\n",
            "|        genre|  file|    year|index|score|           sentenceA|           sentenceB|\n",
            "+-------------+------+--------+-----+-----+--------------------+--------------------+\n",
            "|main-captions|MSRvid|2012test|    1|  5.0|A plane is taking...|An air plane is t...|\n",
            "|main-captions|MSRvid|2012test|    4|  3.8|A man is playing ...|A man is playing ...|\n",
            "|main-captions|MSRvid|2012test|    5|  3.8|A man is spreadin...|A man is spreadin...|\n",
            "|main-captions|MSRvid|2012test|    6|  2.6|Three men are pla...|Two men are playi...|\n",
            "|main-captions|MSRvid|2012test|    9| 4.25|A man is playing ...|A man seated is p...|\n",
            "+-------------+------+--------+-----+-----+--------------------+--------------------+\n",
            "only showing top 5 rows\n",
            "\n",
            "root\n",
            " |-- genre: string (nullable = true)\n",
            " |-- file: string (nullable = true)\n",
            " |-- year: string (nullable = true)\n",
            " |-- index: integer (nullable = true)\n",
            " |-- score: double (nullable = true)\n",
            " |-- sentenceA: string (nullable = true)\n",
            " |-- sentenceB: string (nullable = true)\n",
            "\n"
          ]
        }
      ],
      "source": [
        "# read files\n",
        "train = spark.read.csv('drive/MyDrive/ID2223_File/stsbenchmark/sts-train.csv', sep = '\\t', inferSchema = True)\\\n",
        "     .withColumnRenamed('_c0', 'genre').withColumnRenamed('_c1', 'file').withColumnRenamed('_c2', 'year')\\\n",
        "     .withColumnRenamed('_c3', 'index').withColumnRenamed('_c4', 'score')\\\n",
        "     .withColumnRenamed('_c5', 'sentenceA').withColumnRenamed('_c6', 'sentenceB')\n",
        "test = spark.read.csv('drive/MyDrive/ID2223_File/stsbenchmark/sts-test.csv', sep = '\\t', inferSchema = True)\\\n",
        "     .withColumnRenamed('_c0', 'genre').withColumnRenamed('_c1', 'file').withColumnRenamed('_c2', 'year')\\\n",
        "     .withColumnRenamed('_c3', 'index').withColumnRenamed('_c4', 'score')\\\n",
        "     .withColumnRenamed('_c5', 'sentenceA').withColumnRenamed('_c6', 'sentenceB')\n",
        "dev = spark.read.csv('drive/MyDrive/ID2223_File/stsbenchmark/sts-dev.csv', sep = '\\t', inferSchema = True)\\\n",
        "     .withColumnRenamed('_c0', 'genre').withColumnRenamed('_c1', 'file').withColumnRenamed('_c2', 'year')\\\n",
        "     .withColumnRenamed('_c3', 'index').withColumnRenamed('_c4', 'score')\\\n",
        "     .withColumnRenamed('_c5', 'sentenceA').withColumnRenamed('_c6', 'sentenceB')\n",
        "\n",
        "train.show(5)\n",
        "train.printSchema()"
      ]
    },
    {
      "cell_type": "code",
      "execution_count": 7,
      "metadata": {
        "colab": {
          "base_uri": "https://localhost:8080/"
        },
        "id": "mYTB5Rc0yry3",
        "outputId": "a7b25451-f67b-4b91-deaf-ad83b6b52c5d"
      },
      "outputs": [
        {
          "output_type": "stream",
          "name": "stdout",
          "text": [
            "+-------------+------+--------+-----+--------------------+--------------------+--------------------+\n",
            "|        genre|  file|    year|index|               score|           sentenceA|           sentenceB|\n",
            "+-------------+------+--------+-----+--------------------+--------------------+--------------------+\n",
            "|main-captions|MSRvid|2012test|    1|                 1.0|A plane is taking...|An air plane is t...|\n",
            "|main-captions|MSRvid|2012test|    4|                0.52|A man is playing ...|A man is playing ...|\n",
            "|main-captions|MSRvid|2012test|    5|                0.52|A man is spreadin...|A man is spreadin...|\n",
            "|main-captions|MSRvid|2012test|    6|0.040000000000000036|Three men are pla...|Two men are playi...|\n",
            "|main-captions|MSRvid|2012test|    9|                 0.7|A man is playing ...|A man seated is p...|\n",
            "+-------------+------+--------+-----+--------------------+--------------------+--------------------+\n",
            "only showing top 5 rows\n",
            "\n",
            "+-------+-------------------+\n",
            "|summary|              score|\n",
            "+-------+-------------------+\n",
            "|  count|               5749|\n",
            "|   mean|0.08039961014614003|\n",
            "| stddev| 0.5857592860359465|\n",
            "|    min|               -1.0|\n",
            "|    max|                1.0|\n",
            "+-------+-------------------+\n",
            "\n"
          ]
        }
      ],
      "source": [
        "# map [0, 5] to [-1, 1]\n",
        "train = train.withColumn('score', col('score')/2.5 - 1)\n",
        "test = test.withColumn('score', col('score')/2.5 - 1)\n",
        "dev = dev.withColumn('score', col('score')/2.5 - 1)\n",
        "\n",
        "train.show(5)\n",
        "train.describe(['score']).show()"
      ]
    },
    {
      "cell_type": "code",
      "execution_count": 8,
      "metadata": {
        "colab": {
          "base_uri": "https://localhost:8080/"
        },
        "id": "u9WQt3Qd_-X9",
        "outputId": "7b20af61-aa5f-457c-de39-a3a9b2d2cd07"
      },
      "outputs": [
        {
          "output_type": "stream",
          "name": "stdout",
          "text": [
            "+-----+----+----+-----+-----+---------+---------+\n",
            "|genre|file|year|index|score|sentenceA|sentenceB|\n",
            "+-----+----+----+-----+-----+---------+---------+\n",
            "|    0|   0|   0|    0|    0|        0|        6|\n",
            "+-----+----+----+-----+-----+---------+---------+\n",
            "\n",
            "+-----+----+----+-----+-----+---------+---------+\n",
            "|genre|file|year|index|score|sentenceA|sentenceB|\n",
            "+-----+----+----+-----+-----+---------+---------+\n",
            "|    0|   0|   0|    0|    0|        0|        3|\n",
            "+-----+----+----+-----+-----+---------+---------+\n",
            "\n",
            "+-----+----+----+-----+-----+---------+---------+\n",
            "|genre|file|year|index|score|sentenceA|sentenceB|\n",
            "+-----+----+----+-----+-----+---------+---------+\n",
            "|    0|   0|   0|    0|    0|        0|        3|\n",
            "+-----+----+----+-----+-----+---------+---------+\n",
            "\n"
          ]
        }
      ],
      "source": [
        "# find rows with missing value\n",
        "train.select([count(when(col(c).isNull(), c)).alias(c) for c in train.columns]).show()\n",
        "test.select([count(when(col(c).isNull(), c)).alias(c) for c in test.columns]).show()\n",
        "dev.select([count(when(col(c).isNull(), c)).alias(c) for c in dev.columns]).show()"
      ]
    },
    {
      "cell_type": "code",
      "execution_count": 9,
      "metadata": {
        "colab": {
          "base_uri": "https://localhost:8080/"
        },
        "id": "FMmSGtpYD3op",
        "outputId": "ea281128-f204-4f6e-b4ea-1739e145664b"
      },
      "outputs": [
        {
          "output_type": "stream",
          "name": "stdout",
          "text": [
            "+-----+----+----+-----+-----+---------+---------+\n",
            "|genre|file|year|index|score|sentenceA|sentenceB|\n",
            "+-----+----+----+-----+-----+---------+---------+\n",
            "|    0|   0|   0|    0|    0|        0|        0|\n",
            "+-----+----+----+-----+-----+---------+---------+\n",
            "\n",
            "+-------------+------+--------+-----+--------------------+--------------------+--------------------+\n",
            "|        genre|  file|    year|index|               score|           sentenceA|           sentenceB|\n",
            "+-------------+------+--------+-----+--------------------+--------------------+--------------------+\n",
            "|main-captions|MSRvid|2012test|    1|                 1.0|A plane is taking...|An air plane is t...|\n",
            "|main-captions|MSRvid|2012test|    4|                0.52|A man is playing ...|A man is playing ...|\n",
            "|main-captions|MSRvid|2012test|    5|                0.52|A man is spreadin...|A man is spreadin...|\n",
            "|main-captions|MSRvid|2012test|    6|0.040000000000000036|Three men are pla...|Two men are playi...|\n",
            "|main-captions|MSRvid|2012test|    9|                 0.7|A man is playing ...|A man seated is p...|\n",
            "+-------------+------+--------+-----+--------------------+--------------------+--------------------+\n",
            "only showing top 5 rows\n",
            "\n"
          ]
        }
      ],
      "source": [
        "# delete rows with missing value\n",
        "train = train.na.drop()\n",
        "test = test.na.drop()\n",
        "dev = dev.na.drop()\n",
        "\n",
        "train.select([count(when(col(c).isNull(), c)).alias(c) for c in train.columns]).show()\n",
        "train.show(5)"
      ]
    },
    {
      "cell_type": "code",
      "execution_count": 10,
      "metadata": {
        "colab": {
          "base_uri": "https://localhost:8080/",
          "height": 252,
          "referenced_widgets": [
            "526fb6634adb44869841267612231027",
            "fbb73e24f400491f87b66e114a740056",
            "9d8ab39be2d9440d959f45f12df2fc93",
            "9a998be6e2334135ae97826725ad97a1",
            "ea9adc47088d49749a82058e30b6a72f",
            "dd018cd000884003953c10fca62e4724",
            "badc974b80264199b29ff25538317f64",
            "c7587e8491ed4623b7992f7173a84642",
            "242ed7b4c769461392da6218894bdf3a",
            "7c20bf801ddc4180bf6f96dc8edee0d8",
            "6b3c5a8e09f94bf1b72e337683262df6",
            "5a7d556535894f5ba0fff861ece6952b",
            "ecd9bc960a0b4b85a7ad59091d24bd5b",
            "66dbb9a1c9514850bcdef8ed7a64e4a0",
            "ea2190870a1d40ff993d5bb5540710eb",
            "813b929d77d34fd18431b4f189c2b2dd",
            "c453fde0064d4ce689b5e00b51a3b529",
            "2b08a4fc815645d98f6a47308124d80d",
            "400eb12a8f7340c18ea0402cc22497ed",
            "25f10cbe026e4fc2a75ac57ca7ce682c",
            "d405730dca8a4fde9b84d2a9670c51be",
            "ba676f3a2e0e40b0b713075c0d62b9b0",
            "fc2ae5e4f805445d8ea8b24087eee478",
            "3d63721702b04cbcb9265a736b47e488",
            "2f7ba01b44d8404cb9f4c1bb65e1859f",
            "18359369dd134d59a96d07b10a26740b",
            "c7335002279544a19c54e55d0de7afe1",
            "a75e3b8f6ad340b1904d127069851e32",
            "1b919a07bea24425b62ef10f3f7bc579",
            "8b7d04ae840f4eaeb81c8619308b3a7f",
            "928b23b3c3b84348a65163a50dee18b3",
            "a529d5a69da34276adb85911d7a60ef7",
            "ddda92fb616e493eb59619346f0b0184",
            "1b0e36091d2f487c8a91499f1498507d",
            "a812f5ef1bad48dba7e16eadf98ad9ba",
            "e2f96011c68644ed88946f810e0830da",
            "b6f67c84c5e14d06a9922735ba55c9f3",
            "6598b6892ccc41539f66cb1cb47d9179",
            "bc98224c7d824e5e8453debeae5411cf",
            "e673de03c28e429caa80a01d965c7969",
            "1f009e96e6c04564af470b093aa149ee",
            "abf446e3ad374e3091c011381f1d35c9",
            "4d1728b0661441f2acd74f38405af84b",
            "1f03e65fd272447e9a7b561f07bb39eb",
            "3d071bb46ed8412aa5076787679343f4",
            "18ca665038d74c519e579afb92d51157",
            "62cf184ec0d740a1bbe375a66315479d",
            "7a11f86e1eaa4ae3ba1b2409d24aa605",
            "d71f2a3bd9fb457a871ed6bd99fc3a82",
            "d25b6bba2433405f80beb4d2efc288e9",
            "7c3eeb935e254840911fcac8c7694c8b",
            "fd4f55b4ed874ba3b823d8bd5ce6f564",
            "129ffebc10e946878e7d15da22a72035",
            "e723664b390d4b46a6909fea1edf7279",
            "2d1cfe187bd94d788205fa93b7ad50ac"
          ]
        },
        "id": "pTzyzPOhdcdn",
        "outputId": "5fd641cd-3861-476d-e7f6-cee98c6c3364"
      },
      "outputs": [
        {
          "output_type": "display_data",
          "data": {
            "application/vnd.jupyter.widget-view+json": {
              "model_id": "526fb6634adb44869841267612231027",
              "version_minor": 0,
              "version_major": 2
            },
            "text/plain": [
              "Downloading:   0%|          | 0.00/570 [00:00<?, ?B/s]"
            ]
          },
          "metadata": {}
        },
        {
          "output_type": "display_data",
          "data": {
            "application/vnd.jupyter.widget-view+json": {
              "model_id": "5a7d556535894f5ba0fff861ece6952b",
              "version_minor": 0,
              "version_major": 2
            },
            "text/plain": [
              "Downloading:   0%|          | 0.00/420M [00:00<?, ?B/s]"
            ]
          },
          "metadata": {}
        },
        {
          "output_type": "stream",
          "name": "stderr",
          "text": [
            "Some weights of the model checkpoint at bert-base-uncased were not used when initializing BertModel: ['cls.predictions.transform.dense.bias', 'cls.seq_relationship.weight', 'cls.predictions.decoder.weight', 'cls.predictions.transform.LayerNorm.bias', 'cls.predictions.bias', 'cls.predictions.transform.LayerNorm.weight', 'cls.seq_relationship.bias', 'cls.predictions.transform.dense.weight']\n",
            "- This IS expected if you are initializing BertModel from the checkpoint of a model trained on another task or with another architecture (e.g. initializing a BertForSequenceClassification model from a BertForPreTraining model).\n",
            "- This IS NOT expected if you are initializing BertModel from the checkpoint of a model that you expect to be exactly identical (initializing a BertForSequenceClassification model from a BertForSequenceClassification model).\n"
          ]
        },
        {
          "output_type": "display_data",
          "data": {
            "application/vnd.jupyter.widget-view+json": {
              "model_id": "fc2ae5e4f805445d8ea8b24087eee478",
              "version_minor": 0,
              "version_major": 2
            },
            "text/plain": [
              "Downloading:   0%|          | 0.00/28.0 [00:00<?, ?B/s]"
            ]
          },
          "metadata": {}
        },
        {
          "output_type": "display_data",
          "data": {
            "application/vnd.jupyter.widget-view+json": {
              "model_id": "1b0e36091d2f487c8a91499f1498507d",
              "version_minor": 0,
              "version_major": 2
            },
            "text/plain": [
              "Downloading:   0%|          | 0.00/226k [00:00<?, ?B/s]"
            ]
          },
          "metadata": {}
        },
        {
          "output_type": "display_data",
          "data": {
            "application/vnd.jupyter.widget-view+json": {
              "model_id": "3d071bb46ed8412aa5076787679343f4",
              "version_minor": 0,
              "version_major": 2
            },
            "text/plain": [
              "Downloading:   0%|          | 0.00/455k [00:00<?, ?B/s]"
            ]
          },
          "metadata": {}
        }
      ],
      "source": [
        "word_embedding_model = models.Transformer('bert-base-uncased')\n",
        "pooling_model = models.Pooling(word_embedding_model.get_word_embedding_dimension(),\\\n",
        "                               pooling_mode_mean_tokens=True,\\\n",
        "                               pooling_mode_cls_token=False,\\\n",
        "                               pooling_mode_max_tokens=False)"
      ]
    },
    {
      "cell_type": "code",
      "execution_count": 11,
      "metadata": {
        "id": "WAq0eIIzipcQ"
      },
      "outputs": [],
      "source": [
        "model = SentenceTransformer(modules=[word_embedding_model, pooling_model])"
      ]
    },
    {
      "cell_type": "code",
      "execution_count": 12,
      "metadata": {
        "id": "sFdaRL1deCjq"
      },
      "outputs": [],
      "source": [
        "loss = losses.CosineSimilarityLoss(model=model)"
      ]
    },
    {
      "cell_type": "code",
      "execution_count": 13,
      "metadata": {
        "id": "Hn4AM_cpjIMa"
      },
      "outputs": [],
      "source": [
        "# Transform the data so that it can be used to train and test\n",
        "train_example = []\n",
        "test_example = []\n",
        "dev_example = []\n",
        "\n",
        "df_train = train.toPandas()\n",
        "df_test = test.toPandas()\n",
        "df_dev = dev.toPandas()\n",
        "\n",
        "for row in df_train.iloc:\n",
        "  row = row.values.tolist()\n",
        "  inp_example = InputExample(texts=[row[5], row[6]], label=float(row[4]))\n",
        "  train_example.append(inp_example)\n",
        "\n",
        "for row in df_test.iloc:\n",
        "  row = row.values.tolist()\n",
        "  inp_example = InputExample(texts=[row[5], row[6]], label=float(row[4]))\n",
        "  test_example.append(inp_example)\n",
        "\n",
        "for row in df_dev.iloc:\n",
        "  row = row.values.tolist()\n",
        "  inp_example = InputExample(texts=[row[5], row[6]], label=float(row[4]))\n",
        "  dev_example.append(inp_example)\n",
        "\n",
        "train_dataloader = DataLoader(train_example, shuffle=True, batch_size=16)"
      ]
    },
    {
      "cell_type": "code",
      "execution_count": 14,
      "metadata": {
        "colab": {
          "base_uri": "https://localhost:8080/",
          "height": 72
        },
        "id": "QBXsVHihjWBI",
        "outputId": "3e6eb7b8-6952-4db6-e4c6-a21ac08c5f30"
      },
      "outputs": [
        {
          "output_type": "execute_result",
          "data": {
            "application/vnd.google.colaboratory.intrinsic+json": {
              "type": "string"
            },
            "text/plain": [
              "'\\nnum_epochs = 1\\nmodel_save_path = \\'output/training_stsbenchmark_\\'+\\'bert-base-uncased\\'+\\'-\\'+datetime.now().strftime(\"%Y-%m-%d_%H-%M-%S\")\\n\\nevaluator = evaluation.EmbeddingSimilarityEvaluator.from_input_examples(dev_example, name=\\'sts-dev\\')\\nwarmup_steps = math.ceil(len(train_dataloader) * num_epochs  * 0.1) # 10% of train data for warm-up\\nmodel.fit(train_objectives=[(train_dataloader, loss)],\\n          optimizer_class=torch.optim.Adam,\\n          optimizer_params={\\'lr\\': 2e-5},\\n          epochs=num_epochs,\\n          warmup_steps=warmup_steps,\\n          evaluator=evaluator,\\n          evaluation_steps=1000,\\n          output_path=model_save_path)\\n'"
            ]
          },
          "metadata": {},
          "execution_count": 14
        }
      ],
      "source": [
        "# train\n",
        "'''\n",
        "num_epochs = 1\n",
        "model_save_path = 'output/training_stsbenchmark_'+'bert-base-uncased'+'-'+datetime.now().strftime(\"%Y-%m-%d_%H-%M-%S\")\n",
        "\n",
        "evaluator = evaluation.EmbeddingSimilarityEvaluator.from_input_examples(dev_example, name='sts-dev')\n",
        "warmup_steps = math.ceil(len(train_dataloader) * num_epochs  * 0.1) # 10% of train data for warm-up\n",
        "model.fit(train_objectives=[(train_dataloader, loss)],\n",
        "          optimizer_class=torch.optim.Adam,\n",
        "          optimizer_params={'lr': 2e-5},\n",
        "          epochs=num_epochs,\n",
        "          warmup_steps=warmup_steps,\n",
        "          evaluator=evaluator,\n",
        "          evaluation_steps=1000,\n",
        "          output_path=model_save_path)\n",
        "'''\n",
        "# to save time, we use the previously trained model instead of training it everytime"
      ]
    },
    {
      "cell_type": "code",
      "execution_count": 38,
      "metadata": {
        "colab": {
          "base_uri": "https://localhost:8080/"
        },
        "id": "UgtBm_pVX2-y",
        "outputId": "666f7efd-4e68-467a-91a1-802fa2664978"
      },
      "outputs": [
        {
          "output_type": "execute_result",
          "data": {
            "text/plain": [
              "0.5739843881319436"
            ]
          },
          "metadata": {},
          "execution_count": 38
        }
      ],
      "source": [
        "# built-in evaluation\n",
        "\n",
        "regression_model_path = '/content/drive/MyDrive/output/training_stsbenchmark_bert-base-uncased-2021-12-10_21-53-26'\n",
        "model = SentenceTransformer(regression_model_path)\n",
        "# model = SentenceTransformer(model_save_path)\n",
        "test_evaluator = evaluation.EmbeddingSimilarityEvaluator.from_input_examples(test_example, name='sts-test')\n",
        "model.evaluate(test_evaluator)"
      ]
    },
    {
      "cell_type": "code",
      "execution_count": 39,
      "metadata": {
        "colab": {
          "base_uri": "https://localhost:8080/"
        },
        "id": "_4KpqotUbxLF",
        "outputId": "7f0113dc-1403-46ea-ae17-581b2d5bba45"
      },
      "outputs": [
        {
          "output_type": "stream",
          "name": "stdout",
          "text": [
            "[0.6670458  0.9073092  0.6678997  ... 0.07020611 0.38499272 0.02931237]\n",
            "SpearmanrResult(correlation=0.5739843881319436, pvalue=2.127869343158135e-121)\n"
          ]
        }
      ],
      "source": [
        "# evaluation using Spearmean Correlation, they have the same result\n",
        "sentencea = model.encode(df_test['sentenceA'])\n",
        "sentenceb = model.encode(df_test['sentenceB'])\n",
        "cos_sim = 1 - sklearn.metrics.pairwise.paired_cosine_distances(sentencea, sentenceb)\n",
        "print(cos_sim)\n",
        "result = stats.spearmanr(cos_sim, df_test['score'])\n",
        "print(result)"
      ]
    },
    {
      "cell_type": "markdown",
      "metadata": {
        "id": "_O4FQBmpsAPp"
      },
      "source": [
        "# Classification"
      ]
    },
    {
      "cell_type": "code",
      "execution_count": 17,
      "metadata": {
        "colab": {
          "base_uri": "https://localhost:8080/"
        },
        "id": "v91FtZeosS4g",
        "outputId": "ecd3b9b9-0b35-4e8e-97ce-44ed2aed9d38"
      },
      "outputs": [
        {
          "output_type": "stream",
          "name": "stdout",
          "text": [
            "+----------------+----------------+-------------+-------------------+--------------------+----------------------+--------------------+--------------------+----------------------+--------------------+\n",
            "|annotator_labels|       captionID|   gold_label|             pairID|           sentence1|sentence1_binary_parse|     sentence1_parse|           sentence2|sentence2_binary_parse|     sentence2_parse|\n",
            "+----------------+----------------+-------------+-------------------+--------------------+----------------------+--------------------+--------------------+----------------------+--------------------+\n",
            "|       [neutral]|3416050480.jpg#4|      neutral|3416050480.jpg#4r1n|A person on a hor...|  ( ( ( A person ) ...|(ROOT (S (NP (NP ...|A person is train...|  ( ( A person ) ( ...|(ROOT (S (NP (DT ...|\n",
            "| [contradiction]|3416050480.jpg#4|contradiction|3416050480.jpg#4r1c|A person on a hor...|  ( ( ( A person ) ...|(ROOT (S (NP (NP ...|A person is at a ...|  ( ( A person ) ( ...|(ROOT (S (NP (DT ...|\n",
            "|    [entailment]|3416050480.jpg#4|   entailment|3416050480.jpg#4r1e|A person on a hor...|  ( ( ( A person ) ...|(ROOT (S (NP (NP ...|A person is outdo...|  ( ( A person ) ( ...|(ROOT (S (NP (DT ...|\n",
            "|       [neutral]|2267923837.jpg#2|      neutral|2267923837.jpg#2r1n|Children smiling ...|  ( Children ( ( ( ...|(ROOT (NP (S (NP ...|They are smiling ...|  ( They ( are ( sm...|(ROOT (S (NP (PRP...|\n",
            "|    [entailment]|2267923837.jpg#2|   entailment|2267923837.jpg#2r1e|Children smiling ...|  ( Children ( ( ( ...|(ROOT (NP (S (NP ...|There are childre...|  ( There ( ( are c...|(ROOT (S (NP (EX ...|\n",
            "+----------------+----------------+-------------+-------------------+--------------------+----------------------+--------------------+--------------------+----------------------+--------------------+\n",
            "only showing top 5 rows\n",
            "\n"
          ]
        }
      ],
      "source": [
        "# load data from snli\n",
        "c_train = spark.read.json('drive/MyDrive/ID2223_File/snli_1.0/snli_1.0_train.jsonl')\n",
        "c_test = spark.read.json('drive/MyDrive/ID2223_File/snli_1.0/snli_1.0_test.jsonl')\n",
        "c_dev = spark.read.json('drive/MyDrive/ID2223_File/snli_1.0/snli_1.0_dev.jsonl')\n",
        "c_train.show(5)"
      ]
    },
    {
      "cell_type": "code",
      "execution_count": 18,
      "metadata": {
        "colab": {
          "base_uri": "https://localhost:8080/"
        },
        "id": "kFvyqXidDEU8",
        "outputId": "7fb1fbcd-ba35-49c9-90bb-ff1bf3bad0c8"
      },
      "outputs": [
        {
          "output_type": "stream",
          "name": "stdout",
          "text": [
            "                label  ...                                          sentence2\n",
            "0             neutral  ...  A person is training his horse for a competition.\n",
            "1       contradiction  ...      A person is at a diner, ordering an omelette.\n",
            "2          entailment  ...                  A person is outdoors, on a horse.\n",
            "3             neutral  ...                  They are smiling at their parents\n",
            "4          entailment  ...                         There are children present\n",
            "...               ...  ...                                                ...\n",
            "550147  contradiction  ...           four kids won awards for 'cleanest feet'\n",
            "550148        neutral  ...  four homeless children had their shoes stolen,...\n",
            "550149        neutral  ...  A man in a bodysuit is competing in a surfing ...\n",
            "550150  contradiction  ...  A man in a business suit is heading to a board...\n",
            "550151     entailment  ...  On the beautiful blue water there is a man in ...\n",
            "\n",
            "[549367 rows x 3 columns]\n"
          ]
        }
      ],
      "source": [
        "c_train=c_train.drop('_corrupt_record')\n",
        "c_train=c_train.na.drop()\n",
        "c_train=c_train.select('gold_label','sentence1','sentence2').withColumnRenamed('gold_label','label')\n",
        "c_dev=c_dev.drop('_corrupt_record')\n",
        "c_dev=c_dev.na.drop()\n",
        "c_dev=c_dev.select('gold_label','sentence1','sentence2').withColumnRenamed('gold_label','label')\n",
        "c_test=c_test.drop('_corrupt_record')\n",
        "c_test=c_test.na.drop()\n",
        "c_test=c_test.select('gold_label','sentence1','sentence2').withColumnRenamed('gold_label','label')\n",
        "c_df_train=c_train.toPandas()\n",
        "c_df_test=c_test.toPandas()\n",
        "c_df_dev=c_dev.toPandas()\n",
        "# get rid of '-'\n",
        "c_df_train = c_df_train[~c_df_train['label'].isin(['-'])]\n",
        "c_df_test = c_df_test[~c_df_test['label'].isin(['-'])]\n",
        "c_df_dev = c_df_dev[~c_df_dev['label'].isin(['-'])]\n",
        "print(c_df_train)"
      ]
    },
    {
      "cell_type": "code",
      "execution_count": 19,
      "metadata": {
        "colab": {
          "base_uri": "https://localhost:8080/"
        },
        "id": "6cJek88JvRpZ",
        "outputId": "442c6c70-0cb8-4298-93b2-3136fd9522c9"
      },
      "outputs": [
        {
          "output_type": "stream",
          "name": "stdout",
          "text": [
            "+-----+---------+---------+\n",
            "|label|sentence1|sentence2|\n",
            "+-----+---------+---------+\n",
            "|    0|        0|        0|\n",
            "+-----+---------+---------+\n",
            "\n",
            "+-----+---------+---------+\n",
            "|label|sentence1|sentence2|\n",
            "+-----+---------+---------+\n",
            "|    0|        0|        0|\n",
            "+-----+---------+---------+\n",
            "\n",
            "+-----+---------+---------+\n",
            "|label|sentence1|sentence2|\n",
            "+-----+---------+---------+\n",
            "|    0|        0|        0|\n",
            "+-----+---------+---------+\n",
            "\n"
          ]
        }
      ],
      "source": [
        "# check if there are missing values\n",
        "c_train.select([count(when(col(c).isNull(), c)).alias(c) for c in c_train.columns]).show()\n",
        "c_test.select([count(when(col(c).isNull(), c)).alias(c) for c in c_test.columns]).show()\n",
        "c_dev.select([count(when(col(c).isNull(), c)).alias(c) for c in c_dev.columns]).show()"
      ]
    },
    {
      "cell_type": "code",
      "execution_count": 20,
      "metadata": {
        "id": "OnG8tm2FvR1j"
      },
      "outputs": [],
      "source": [
        "c_train_example = []\n",
        "c_test_example = []\n",
        "c_dev_example = []\n",
        "\n",
        "label2int = {\"contradiction\": 0, \"entailment\": 1, \"neutral\": 2, \"-\": 3}\n",
        "\n",
        "for row in c_df_train.iloc:\n",
        "  row = row.values.tolist()\n",
        "  inp_example = InputExample(texts=[row[1], row[2]], label=label2int[row[0]])\n",
        "  c_train_example.append(inp_example)\n",
        "\n",
        "for row in c_df_test.iloc:\n",
        "  row = row.values.tolist()\n",
        "  inp_example = InputExample(texts=[row[1], row[2]], label=label2int[row[0]])\n",
        "  c_test_example.append(inp_example)\n",
        "\n",
        "for row in c_df_dev.iloc:\n",
        "  row = row.values.tolist()\n",
        "  inp_example = InputExample(texts=[row[1], row[2]], label=label2int[row[0]])\n",
        "  c_dev_example.append(inp_example)"
      ]
    },
    {
      "cell_type": "code",
      "execution_count": 21,
      "metadata": {
        "colab": {
          "base_uri": "https://localhost:8080/"
        },
        "id": "DdLAIDOhvR-W",
        "outputId": "34db6a71-522c-42e5-e963-73d506f3f0ee"
      },
      "outputs": [
        {
          "output_type": "stream",
          "name": "stderr",
          "text": [
            "Some weights of the model checkpoint at bert-base-uncased were not used when initializing BertModel: ['cls.predictions.transform.dense.bias', 'cls.seq_relationship.weight', 'cls.predictions.decoder.weight', 'cls.predictions.transform.LayerNorm.bias', 'cls.predictions.bias', 'cls.predictions.transform.LayerNorm.weight', 'cls.seq_relationship.bias', 'cls.predictions.transform.dense.weight']\n",
            "- This IS expected if you are initializing BertModel from the checkpoint of a model trained on another task or with another architecture (e.g. initializing a BertForSequenceClassification model from a BertForPreTraining model).\n",
            "- This IS NOT expected if you are initializing BertModel from the checkpoint of a model that you expect to be exactly identical (initializing a BertForSequenceClassification model from a BertForSequenceClassification model).\n"
          ]
        }
      ],
      "source": [
        "word_embedding_model = models.Transformer('bert-base-uncased')\n",
        "pooling_model = models.Pooling(word_embedding_model.get_word_embedding_dimension(),\\\n",
        "                               pooling_mode_mean_tokens=True,\\\n",
        "                               pooling_mode_cls_token=False,\\\n",
        "                               pooling_mode_max_tokens=False)"
      ]
    },
    {
      "cell_type": "code",
      "execution_count": 22,
      "metadata": {
        "id": "9SKY92OFzzq7"
      },
      "outputs": [],
      "source": [
        "model = SentenceTransformer(modules=[word_embedding_model, pooling_model])\n",
        "loss = losses.SoftmaxLoss(model=model, sentence_embedding_dimension=model.get_sentence_embedding_dimension(), num_labels=3)"
      ]
    },
    {
      "cell_type": "code",
      "execution_count": 23,
      "metadata": {
        "id": "uYscCydAzztu"
      },
      "outputs": [],
      "source": [
        "c_train_dataloader = DataLoader(c_train_example, shuffle=True, batch_size=16) # a subset"
      ]
    },
    {
      "cell_type": "code",
      "execution_count": 24,
      "metadata": {
        "colab": {
          "base_uri": "https://localhost:8080/",
          "height": 72
        },
        "id": "1QFpdbUrzzwY",
        "outputId": "58a58ea1-31e1-4162-e24f-a25aceeecc3e"
      },
      "outputs": [
        {
          "output_type": "execute_result",
          "data": {
            "application/vnd.google.colaboratory.intrinsic+json": {
              "type": "string"
            },
            "text/plain": [
              "'\\nnum_epochs = 1\\nc_model_save_path = \\'output/training_snil_\\'+\\'bert-base-uncased\\'+\\'-\\'+datetime.now().strftime(\"%Y-%m-%d_%H-%M-%S\")\\n\\nevaluator = evaluation.EmbeddingSimilarityEvaluator.from_input_examples(dev_example, batch_size=16, name=\\'snil-dev\\')\\nwarmup_steps = math.ceil(len(c_train_dataloader) * num_epochs  * 0.1) # 10% of train data for warm-up\\nmodel.fit(train_objectives=[(c_train_dataloader, loss)],\\n          optimizer_class=torch.optim.Adam,\\n          optimizer_params={\\'lr\\': 2e-5},\\n          epochs=num_epochs,\\n          warmup_steps=warmup_steps,\\n          evaluator=evaluator,\\n          evaluation_steps=1000,\\n          output_path=c_model_save_path)\\n'"
            ]
          },
          "metadata": {},
          "execution_count": 24
        }
      ],
      "source": [
        "# train\n",
        "\n",
        "'''\n",
        "num_epochs = 1\n",
        "c_model_save_path = 'output/training_snil_'+'bert-base-uncased'+'-'+datetime.now().strftime(\"%Y-%m-%d_%H-%M-%S\")\n",
        "\n",
        "evaluator = evaluation.EmbeddingSimilarityEvaluator.from_input_examples(dev_example, batch_size=16, name='snil-dev')\n",
        "warmup_steps = math.ceil(len(c_train_dataloader) * num_epochs  * 0.1) # 10% of train data for warm-up\n",
        "model.fit(train_objectives=[(c_train_dataloader, loss)],\n",
        "          optimizer_class=torch.optim.Adam,\n",
        "          optimizer_params={'lr': 2e-5},\n",
        "          epochs=num_epochs,\n",
        "          warmup_steps=warmup_steps,\n",
        "          evaluator=evaluator,\n",
        "          evaluation_steps=1000,\n",
        "          output_path=c_model_save_path)\n",
        "'''\n",
        "# to save time, we use the previously trained model instead of training it everytime"
      ]
    },
    {
      "cell_type": "code",
      "execution_count": 25,
      "metadata": {
        "id": "5Ub1Gla0hKVp"
      },
      "outputs": [],
      "source": [
        "# cp -rf /content/output/* /content/drive/MyDrive/output # save the trained model"
      ]
    },
    {
      "cell_type": "code",
      "execution_count": 26,
      "metadata": {
        "colab": {
          "base_uri": "https://localhost:8080/"
        },
        "id": "CT0Pd7-1nrqB",
        "outputId": "791c24d3-1bf2-4a57-e726-4f60126f698a"
      },
      "outputs": [
        {
          "output_type": "execute_result",
          "data": {
            "text/plain": [
              "0.5971470976423424"
            ]
          },
          "metadata": {},
          "execution_count": 26
        }
      ],
      "source": [
        "classification_model_path = '/content/drive/MyDrive/output/training_snil_bert-base-uncased-2021-12-11_15-05-32'\n",
        "model = SentenceTransformer(classification_model_path)\n",
        "# model = SentenceTransformer(c_model_save_path)\n",
        "\n",
        "test_evaluator = EmbeddingSimilarityEvaluator.from_input_examples(test_example, batch_size=16, name='snli-test')\n",
        "test_evaluator(model, output_path=classification_model_path)\n",
        "# test_evaluator(model, output_path=c_model_save_path)"
      ]
    },
    {
      "cell_type": "markdown",
      "metadata": {
        "id": "G3mhhCKOlY1I"
      },
      "source": [
        "# 2.3\n"
      ]
    },
    {
      "cell_type": "code",
      "execution_count": 27,
      "metadata": {
        "id": "zV0g_bBNzzy_"
      },
      "outputs": [],
      "source": [
        "#dev_evaluator = EmbeddingSimilarityEvaluator.from_input_examples(dev_example, batch_size=16, name='sts-dev')"
      ]
    },
    {
      "cell_type": "code",
      "execution_count": 28,
      "metadata": {
        "id": "QhtkAy9E-KeJ",
        "colab": {
          "base_uri": "https://localhost:8080/",
          "height": 90
        },
        "outputId": "2919e087-3d1b-4be3-a436-b967862c3265"
      },
      "outputs": [
        {
          "output_type": "execute_result",
          "data": {
            "application/vnd.google.colaboratory.intrinsic+json": {
              "type": "string"
            },
            "text/plain": [
              "\"\\ntrain = spark.read.csv('drive/MyDrive/ID2223_File/stsbenchmark/sts-train.csv', sep = '\\t', inferSchema = True)     .withColumnRenamed('_c0', 'genre').withColumnRenamed('_c1', 'file').withColumnRenamed('_c2', 'year')     .withColumnRenamed('_c3', 'index').withColumnRenamed('_c4', 'score')     .withColumnRenamed('_c5', 'sentenceA').withColumnRenamed('_c6', 'sentenceB')\\n\\nfrom pyspark.sql.functions import ceil, floor, when\\ntrain = train.withColumn('score',when(col('score') >=0 , ceil(col('score'))).otherwise(floor(col('score'))))\\n# Transform the data so that it can be used to train and test\\ntrain_example = []\\ndf_train = train.toPandas()\\nfor row in df_train.iloc:\\n  row = row.values.tolist()\\n  inp_example = InputExample(texts=[row[5], row[6]], label=int(row[4]))\\n  train_example.append(inp_example)\\n###四舍五入label，不然softmaxloss没法输出，但是报错cuda\\n\""
            ]
          },
          "metadata": {},
          "execution_count": 28
        }
      ],
      "source": [
        "'''\n",
        "train = spark.read.csv('drive/MyDrive/ID2223_File/stsbenchmark/sts-train.csv', sep = '\\t', inferSchema = True)\\\n",
        "     .withColumnRenamed('_c0', 'genre').withColumnRenamed('_c1', 'file').withColumnRenamed('_c2', 'year')\\\n",
        "     .withColumnRenamed('_c3', 'index').withColumnRenamed('_c4', 'score')\\\n",
        "     .withColumnRenamed('_c5', 'sentenceA').withColumnRenamed('_c6', 'sentenceB')\n",
        "\n",
        "from pyspark.sql.functions import ceil, floor, when\n",
        "train = train.withColumn('score',when(col('score') >=0 , ceil(col('score'))).otherwise(floor(col('score'))))\n",
        "# Transform the data so that it can be used to train and test\n",
        "train_example = []\n",
        "df_train = train.toPandas()\n",
        "for row in df_train.iloc:\n",
        "  row = row.values.tolist()\n",
        "  inp_example = InputExample(texts=[row[5], row[6]], label=int(row[4]))\n",
        "  train_example.append(inp_example)\n",
        "###四舍五入label，不然softmaxloss没法输出，但是报错cuda\n",
        "'''"
      ]
    },
    {
      "cell_type": "code",
      "execution_count": 29,
      "metadata": {
        "id": "tyd_lIsPzz1y"
      },
      "outputs": [],
      "source": [
        "#dev_model_save_path = 'output/stsdev_tune'+'bert-base-uncased'+'-'+datetime.now().strftime(\"%Y-%m-%d_%H-%M-%S\")\n"
      ]
    },
    {
      "cell_type": "code",
      "execution_count": 30,
      "metadata": {
        "colab": {
          "base_uri": "https://localhost:8080/",
          "height": 90
        },
        "id": "ij_4ahmqzz-y",
        "outputId": "781791bd-5055-46f0-ed01-e68b6b097189"
      },
      "outputs": [
        {
          "output_type": "execute_result",
          "data": {
            "application/vnd.google.colaboratory.intrinsic+json": {
              "type": "string"
            },
            "text/plain": [
              "\"\\nfrom sentence_transformers import SentenceTransformer, SentencesDataset\\nfrom sentence_transformers.losses import TripletLoss\\n# Load pre-trained model - we are using the SNLI trained model for this example.\\nsnli_sbert_model = SentenceTransformer(c_model_save_path)\\n# Set up data for fine-tuning \\n\\nfinetune_data = SentencesDataset(examples=train_example, model=snli_sbert_model)\\nfinetune_dataloader = DataLoader(finetune_data, shuffle=True, batch_size=16)\\n\\nloss = losses.SoftmaxLoss(model=snli_sbert_model, sentence_embedding_dimension=model.get_sentence_embedding_dimension(), num_labels=3)\\n# Fine-tune the model\\nsnli_sbert_model.fit(train_objectives=[(finetune_dataloader, loss)],\\n          optimizer_class=torch.optim.Adam,\\n          optimizer_params={'lr': 2e-5},\\n          epochs=1,\\n          warmup_steps=100,\\n          evaluator=evaluator,\\n          evaluation_steps=1000)\\n          #output_path=model_save_path)\\n\""
            ]
          },
          "metadata": {},
          "execution_count": 30
        }
      ],
      "source": [
        "'''\n",
        "from sentence_transformers import SentenceTransformer, SentencesDataset\n",
        "from sentence_transformers.losses import TripletLoss\n",
        "# Load pre-trained model - we are using the SNLI trained model for this example.\n",
        "snli_sbert_model = SentenceTransformer(c_model_save_path)\n",
        "# Set up data for fine-tuning \n",
        "\n",
        "finetune_data = SentencesDataset(examples=train_example, model=snli_sbert_model)\n",
        "finetune_dataloader = DataLoader(finetune_data, shuffle=True, batch_size=16)\n",
        "\n",
        "loss = losses.SoftmaxLoss(model=snli_sbert_model, sentence_embedding_dimension=model.get_sentence_embedding_dimension(), num_labels=3)\n",
        "# Fine-tune the model\n",
        "snli_sbert_model.fit(train_objectives=[(finetune_dataloader, loss)],\n",
        "          optimizer_class=torch.optim.Adam,\n",
        "          optimizer_params={'lr': 2e-5},\n",
        "          epochs=1,\n",
        "          warmup_steps=100,\n",
        "          evaluator=evaluator,\n",
        "          evaluation_steps=1000)\n",
        "          #output_path=model_save_path)\n",
        "'''"
      ]
    },
    {
      "cell_type": "code",
      "source": [
        "# load the classification model\n",
        "classification_model_path = '/content/drive/MyDrive/output/training_snil_bert-base-uncased-2021-12-11_15-05-32'"
      ],
      "metadata": {
        "id": "YnGOnCPdC2h9"
      },
      "execution_count": 31,
      "outputs": []
    },
    {
      "cell_type": "code",
      "source": [
        "# train\n",
        "\n",
        "'''\n",
        "model = SentenceTransformer(classification_model_path)\n",
        "train_dataloader = DataLoader(train_example, shuffle=True, batch_size=16)\n",
        "loss = losses.CosineSimilarityLoss(model=model)\n",
        "num_epochs = 1\n",
        "combine_model_save_path = 'output/training_combined_'+'bert-base-uncased'+'-'+datetime.now().strftime(\"%Y-%m-%d_%H-%M-%S\")\n",
        "evaluator = evaluation.EmbeddingSimilarityEvaluator.from_input_examples(dev_example, name='combined-dev')\n",
        "warmup_steps = math.ceil(len(train_dataloader) * num_epochs  * 0.1) # 10% of train data for warm-up\n",
        "\n",
        "\n",
        "model.fit(train_objectives=[(train_dataloader, loss)],\n",
        "          optimizer_class=torch.optim.Adam,\n",
        "          optimizer_params={'lr': 2e-5},\n",
        "          epochs=num_epochs,\n",
        "          warmup_steps=warmup_steps,\n",
        "          evaluator=evaluator,\n",
        "          evaluation_steps=1000,\n",
        "          output_path=combine_model_save_path)\n",
        "'''\n",
        "# to save time, we use the previously trained model instead of training it everytime"
      ],
      "metadata": {
        "colab": {
          "base_uri": "https://localhost:8080/",
          "height": 90
        },
        "id": "51ljWvo4BGKM",
        "outputId": "e0f739d8-7c28-4a4a-b054-c78909bc9266"
      },
      "execution_count": 32,
      "outputs": [
        {
          "output_type": "execute_result",
          "data": {
            "application/vnd.google.colaboratory.intrinsic+json": {
              "type": "string"
            },
            "text/plain": [
              "'\\nmodel = SentenceTransformer(classification_model_path)\\ntrain_dataloader = DataLoader(train_example, shuffle=True, batch_size=16)\\nloss = losses.CosineSimilarityLoss(model=model)\\nnum_epochs = 1\\ncombine_model_save_path = \\'output/training_combined_\\'+\\'bert-base-uncased\\'+\\'-\\'+datetime.now().strftime(\"%Y-%m-%d_%H-%M-%S\")\\nevaluator = evaluation.EmbeddingSimilarityEvaluator.from_input_examples(dev_example, name=\\'combined-dev\\')\\nwarmup_steps = math.ceil(len(train_dataloader) * num_epochs  * 0.1) # 10% of train data for warm-up\\n\\n\\nmodel.fit(train_objectives=[(train_dataloader, loss)],\\n          optimizer_class=torch.optim.Adam,\\n          optimizer_params={\\'lr\\': 2e-5},\\n          epochs=num_epochs,\\n          warmup_steps=warmup_steps,\\n          evaluator=evaluator,\\n          evaluation_steps=1000,\\n          output_path=combine_model_save_path)\\n'"
            ]
          },
          "metadata": {},
          "execution_count": 32
        }
      ]
    },
    {
      "cell_type": "code",
      "source": [
        "combine_model_path = '/content/drive/MyDrive/output/training_combined_bert-base-uncased-2021-12-11_17-35-54'\n",
        "model = SentenceTransformer(combine_model_path)\n",
        "# model = SentenceTransformer(combine_model_save_path)\n",
        "\n",
        "test_evaluator = EmbeddingSimilarityEvaluator.from_input_examples(test_example, batch_size=16, name='combine-test')\n",
        "test_evaluator(model, output_path=combine_model_path)\n",
        "# test_evaluator(model, output_path=combine_model_save_path)"
      ],
      "metadata": {
        "colab": {
          "base_uri": "https://localhost:8080/"
        },
        "id": "LADWy838Cjtd",
        "outputId": "3cff1c3f-62b4-45bc-cd50-17c3ed9d7f72"
      },
      "execution_count": 34,
      "outputs": [
        {
          "output_type": "execute_result",
          "data": {
            "text/plain": [
              "0.6117927538888907"
            ]
          },
          "metadata": {},
          "execution_count": 34
        }
      ]
    },
    {
      "cell_type": "code",
      "source": [
        "# cp -rf /content/output/training_combined_bert-base-uncased-2021-12-11_17-35-54 /content/drive/MyDrive/output"
      ],
      "metadata": {
        "id": "sqH8xjQPCzHF"
      },
      "execution_count": null,
      "outputs": []
    },
    {
      "cell_type": "code",
      "source": [
        ""
      ],
      "metadata": {
        "id": "bCRvnrDUkm-v"
      },
      "execution_count": null,
      "outputs": []
    }
  ],
  "metadata": {
    "colab": {
      "collapsed_sections": [
        "y3_SgL3zsHh_"
      ],
      "name": "ID2223_Lab2.ipynb",
      "provenance": [],
      "include_colab_link": true
    },
    "kernelspec": {
      "display_name": "Python 3",
      "name": "python3"
    },
    "language_info": {
      "name": "python"
    },
    "widgets": {
      "application/vnd.jupyter.widget-state+json": {
        "526fb6634adb44869841267612231027": {
          "model_module": "@jupyter-widgets/controls",
          "model_name": "HBoxModel",
          "model_module_version": "1.5.0",
          "state": {
            "_view_name": "HBoxView",
            "_dom_classes": [],
            "_model_name": "HBoxModel",
            "_view_module": "@jupyter-widgets/controls",
            "_model_module_version": "1.5.0",
            "_view_count": null,
            "_view_module_version": "1.5.0",
            "box_style": "",
            "layout": "IPY_MODEL_fbb73e24f400491f87b66e114a740056",
            "_model_module": "@jupyter-widgets/controls",
            "children": [
              "IPY_MODEL_9d8ab39be2d9440d959f45f12df2fc93",
              "IPY_MODEL_9a998be6e2334135ae97826725ad97a1",
              "IPY_MODEL_ea9adc47088d49749a82058e30b6a72f"
            ]
          }
        },
        "fbb73e24f400491f87b66e114a740056": {
          "model_module": "@jupyter-widgets/base",
          "model_name": "LayoutModel",
          "model_module_version": "1.2.0",
          "state": {
            "_view_name": "LayoutView",
            "grid_template_rows": null,
            "right": null,
            "justify_content": null,
            "_view_module": "@jupyter-widgets/base",
            "overflow": null,
            "_model_module_version": "1.2.0",
            "_view_count": null,
            "flex_flow": null,
            "width": null,
            "min_width": null,
            "border": null,
            "align_items": null,
            "bottom": null,
            "_model_module": "@jupyter-widgets/base",
            "top": null,
            "grid_column": null,
            "overflow_y": null,
            "overflow_x": null,
            "grid_auto_flow": null,
            "grid_area": null,
            "grid_template_columns": null,
            "flex": null,
            "_model_name": "LayoutModel",
            "justify_items": null,
            "grid_row": null,
            "max_height": null,
            "align_content": null,
            "visibility": null,
            "align_self": null,
            "height": null,
            "min_height": null,
            "padding": null,
            "grid_auto_rows": null,
            "grid_gap": null,
            "max_width": null,
            "order": null,
            "_view_module_version": "1.2.0",
            "grid_template_areas": null,
            "object_position": null,
            "object_fit": null,
            "grid_auto_columns": null,
            "margin": null,
            "display": null,
            "left": null
          }
        },
        "9d8ab39be2d9440d959f45f12df2fc93": {
          "model_module": "@jupyter-widgets/controls",
          "model_name": "HTMLModel",
          "model_module_version": "1.5.0",
          "state": {
            "_view_name": "HTMLView",
            "style": "IPY_MODEL_dd018cd000884003953c10fca62e4724",
            "_dom_classes": [],
            "description": "",
            "_model_name": "HTMLModel",
            "placeholder": "​",
            "_view_module": "@jupyter-widgets/controls",
            "_model_module_version": "1.5.0",
            "value": "Downloading: 100%",
            "_view_count": null,
            "_view_module_version": "1.5.0",
            "description_tooltip": null,
            "_model_module": "@jupyter-widgets/controls",
            "layout": "IPY_MODEL_badc974b80264199b29ff25538317f64"
          }
        },
        "9a998be6e2334135ae97826725ad97a1": {
          "model_module": "@jupyter-widgets/controls",
          "model_name": "FloatProgressModel",
          "model_module_version": "1.5.0",
          "state": {
            "_view_name": "ProgressView",
            "style": "IPY_MODEL_c7587e8491ed4623b7992f7173a84642",
            "_dom_classes": [],
            "description": "",
            "_model_name": "FloatProgressModel",
            "bar_style": "success",
            "max": 570,
            "_view_module": "@jupyter-widgets/controls",
            "_model_module_version": "1.5.0",
            "value": 570,
            "_view_count": null,
            "_view_module_version": "1.5.0",
            "orientation": "horizontal",
            "min": 0,
            "description_tooltip": null,
            "_model_module": "@jupyter-widgets/controls",
            "layout": "IPY_MODEL_242ed7b4c769461392da6218894bdf3a"
          }
        },
        "ea9adc47088d49749a82058e30b6a72f": {
          "model_module": "@jupyter-widgets/controls",
          "model_name": "HTMLModel",
          "model_module_version": "1.5.0",
          "state": {
            "_view_name": "HTMLView",
            "style": "IPY_MODEL_7c20bf801ddc4180bf6f96dc8edee0d8",
            "_dom_classes": [],
            "description": "",
            "_model_name": "HTMLModel",
            "placeholder": "​",
            "_view_module": "@jupyter-widgets/controls",
            "_model_module_version": "1.5.0",
            "value": " 570/570 [00:00&lt;00:00, 14.9kB/s]",
            "_view_count": null,
            "_view_module_version": "1.5.0",
            "description_tooltip": null,
            "_model_module": "@jupyter-widgets/controls",
            "layout": "IPY_MODEL_6b3c5a8e09f94bf1b72e337683262df6"
          }
        },
        "dd018cd000884003953c10fca62e4724": {
          "model_module": "@jupyter-widgets/controls",
          "model_name": "DescriptionStyleModel",
          "model_module_version": "1.5.0",
          "state": {
            "_view_name": "StyleView",
            "_model_name": "DescriptionStyleModel",
            "description_width": "",
            "_view_module": "@jupyter-widgets/base",
            "_model_module_version": "1.5.0",
            "_view_count": null,
            "_view_module_version": "1.2.0",
            "_model_module": "@jupyter-widgets/controls"
          }
        },
        "badc974b80264199b29ff25538317f64": {
          "model_module": "@jupyter-widgets/base",
          "model_name": "LayoutModel",
          "model_module_version": "1.2.0",
          "state": {
            "_view_name": "LayoutView",
            "grid_template_rows": null,
            "right": null,
            "justify_content": null,
            "_view_module": "@jupyter-widgets/base",
            "overflow": null,
            "_model_module_version": "1.2.0",
            "_view_count": null,
            "flex_flow": null,
            "width": null,
            "min_width": null,
            "border": null,
            "align_items": null,
            "bottom": null,
            "_model_module": "@jupyter-widgets/base",
            "top": null,
            "grid_column": null,
            "overflow_y": null,
            "overflow_x": null,
            "grid_auto_flow": null,
            "grid_area": null,
            "grid_template_columns": null,
            "flex": null,
            "_model_name": "LayoutModel",
            "justify_items": null,
            "grid_row": null,
            "max_height": null,
            "align_content": null,
            "visibility": null,
            "align_self": null,
            "height": null,
            "min_height": null,
            "padding": null,
            "grid_auto_rows": null,
            "grid_gap": null,
            "max_width": null,
            "order": null,
            "_view_module_version": "1.2.0",
            "grid_template_areas": null,
            "object_position": null,
            "object_fit": null,
            "grid_auto_columns": null,
            "margin": null,
            "display": null,
            "left": null
          }
        },
        "c7587e8491ed4623b7992f7173a84642": {
          "model_module": "@jupyter-widgets/controls",
          "model_name": "ProgressStyleModel",
          "model_module_version": "1.5.0",
          "state": {
            "_view_name": "StyleView",
            "_model_name": "ProgressStyleModel",
            "description_width": "",
            "_view_module": "@jupyter-widgets/base",
            "_model_module_version": "1.5.0",
            "_view_count": null,
            "_view_module_version": "1.2.0",
            "bar_color": null,
            "_model_module": "@jupyter-widgets/controls"
          }
        },
        "242ed7b4c769461392da6218894bdf3a": {
          "model_module": "@jupyter-widgets/base",
          "model_name": "LayoutModel",
          "model_module_version": "1.2.0",
          "state": {
            "_view_name": "LayoutView",
            "grid_template_rows": null,
            "right": null,
            "justify_content": null,
            "_view_module": "@jupyter-widgets/base",
            "overflow": null,
            "_model_module_version": "1.2.0",
            "_view_count": null,
            "flex_flow": null,
            "width": null,
            "min_width": null,
            "border": null,
            "align_items": null,
            "bottom": null,
            "_model_module": "@jupyter-widgets/base",
            "top": null,
            "grid_column": null,
            "overflow_y": null,
            "overflow_x": null,
            "grid_auto_flow": null,
            "grid_area": null,
            "grid_template_columns": null,
            "flex": null,
            "_model_name": "LayoutModel",
            "justify_items": null,
            "grid_row": null,
            "max_height": null,
            "align_content": null,
            "visibility": null,
            "align_self": null,
            "height": null,
            "min_height": null,
            "padding": null,
            "grid_auto_rows": null,
            "grid_gap": null,
            "max_width": null,
            "order": null,
            "_view_module_version": "1.2.0",
            "grid_template_areas": null,
            "object_position": null,
            "object_fit": null,
            "grid_auto_columns": null,
            "margin": null,
            "display": null,
            "left": null
          }
        },
        "7c20bf801ddc4180bf6f96dc8edee0d8": {
          "model_module": "@jupyter-widgets/controls",
          "model_name": "DescriptionStyleModel",
          "model_module_version": "1.5.0",
          "state": {
            "_view_name": "StyleView",
            "_model_name": "DescriptionStyleModel",
            "description_width": "",
            "_view_module": "@jupyter-widgets/base",
            "_model_module_version": "1.5.0",
            "_view_count": null,
            "_view_module_version": "1.2.0",
            "_model_module": "@jupyter-widgets/controls"
          }
        },
        "6b3c5a8e09f94bf1b72e337683262df6": {
          "model_module": "@jupyter-widgets/base",
          "model_name": "LayoutModel",
          "model_module_version": "1.2.0",
          "state": {
            "_view_name": "LayoutView",
            "grid_template_rows": null,
            "right": null,
            "justify_content": null,
            "_view_module": "@jupyter-widgets/base",
            "overflow": null,
            "_model_module_version": "1.2.0",
            "_view_count": null,
            "flex_flow": null,
            "width": null,
            "min_width": null,
            "border": null,
            "align_items": null,
            "bottom": null,
            "_model_module": "@jupyter-widgets/base",
            "top": null,
            "grid_column": null,
            "overflow_y": null,
            "overflow_x": null,
            "grid_auto_flow": null,
            "grid_area": null,
            "grid_template_columns": null,
            "flex": null,
            "_model_name": "LayoutModel",
            "justify_items": null,
            "grid_row": null,
            "max_height": null,
            "align_content": null,
            "visibility": null,
            "align_self": null,
            "height": null,
            "min_height": null,
            "padding": null,
            "grid_auto_rows": null,
            "grid_gap": null,
            "max_width": null,
            "order": null,
            "_view_module_version": "1.2.0",
            "grid_template_areas": null,
            "object_position": null,
            "object_fit": null,
            "grid_auto_columns": null,
            "margin": null,
            "display": null,
            "left": null
          }
        },
        "5a7d556535894f5ba0fff861ece6952b": {
          "model_module": "@jupyter-widgets/controls",
          "model_name": "HBoxModel",
          "model_module_version": "1.5.0",
          "state": {
            "_view_name": "HBoxView",
            "_dom_classes": [],
            "_model_name": "HBoxModel",
            "_view_module": "@jupyter-widgets/controls",
            "_model_module_version": "1.5.0",
            "_view_count": null,
            "_view_module_version": "1.5.0",
            "box_style": "",
            "layout": "IPY_MODEL_ecd9bc960a0b4b85a7ad59091d24bd5b",
            "_model_module": "@jupyter-widgets/controls",
            "children": [
              "IPY_MODEL_66dbb9a1c9514850bcdef8ed7a64e4a0",
              "IPY_MODEL_ea2190870a1d40ff993d5bb5540710eb",
              "IPY_MODEL_813b929d77d34fd18431b4f189c2b2dd"
            ]
          }
        },
        "ecd9bc960a0b4b85a7ad59091d24bd5b": {
          "model_module": "@jupyter-widgets/base",
          "model_name": "LayoutModel",
          "model_module_version": "1.2.0",
          "state": {
            "_view_name": "LayoutView",
            "grid_template_rows": null,
            "right": null,
            "justify_content": null,
            "_view_module": "@jupyter-widgets/base",
            "overflow": null,
            "_model_module_version": "1.2.0",
            "_view_count": null,
            "flex_flow": null,
            "width": null,
            "min_width": null,
            "border": null,
            "align_items": null,
            "bottom": null,
            "_model_module": "@jupyter-widgets/base",
            "top": null,
            "grid_column": null,
            "overflow_y": null,
            "overflow_x": null,
            "grid_auto_flow": null,
            "grid_area": null,
            "grid_template_columns": null,
            "flex": null,
            "_model_name": "LayoutModel",
            "justify_items": null,
            "grid_row": null,
            "max_height": null,
            "align_content": null,
            "visibility": null,
            "align_self": null,
            "height": null,
            "min_height": null,
            "padding": null,
            "grid_auto_rows": null,
            "grid_gap": null,
            "max_width": null,
            "order": null,
            "_view_module_version": "1.2.0",
            "grid_template_areas": null,
            "object_position": null,
            "object_fit": null,
            "grid_auto_columns": null,
            "margin": null,
            "display": null,
            "left": null
          }
        },
        "66dbb9a1c9514850bcdef8ed7a64e4a0": {
          "model_module": "@jupyter-widgets/controls",
          "model_name": "HTMLModel",
          "model_module_version": "1.5.0",
          "state": {
            "_view_name": "HTMLView",
            "style": "IPY_MODEL_c453fde0064d4ce689b5e00b51a3b529",
            "_dom_classes": [],
            "description": "",
            "_model_name": "HTMLModel",
            "placeholder": "​",
            "_view_module": "@jupyter-widgets/controls",
            "_model_module_version": "1.5.0",
            "value": "Downloading: 100%",
            "_view_count": null,
            "_view_module_version": "1.5.0",
            "description_tooltip": null,
            "_model_module": "@jupyter-widgets/controls",
            "layout": "IPY_MODEL_2b08a4fc815645d98f6a47308124d80d"
          }
        },
        "ea2190870a1d40ff993d5bb5540710eb": {
          "model_module": "@jupyter-widgets/controls",
          "model_name": "FloatProgressModel",
          "model_module_version": "1.5.0",
          "state": {
            "_view_name": "ProgressView",
            "style": "IPY_MODEL_400eb12a8f7340c18ea0402cc22497ed",
            "_dom_classes": [],
            "description": "",
            "_model_name": "FloatProgressModel",
            "bar_style": "success",
            "max": 440473133,
            "_view_module": "@jupyter-widgets/controls",
            "_model_module_version": "1.5.0",
            "value": 440473133,
            "_view_count": null,
            "_view_module_version": "1.5.0",
            "orientation": "horizontal",
            "min": 0,
            "description_tooltip": null,
            "_model_module": "@jupyter-widgets/controls",
            "layout": "IPY_MODEL_25f10cbe026e4fc2a75ac57ca7ce682c"
          }
        },
        "813b929d77d34fd18431b4f189c2b2dd": {
          "model_module": "@jupyter-widgets/controls",
          "model_name": "HTMLModel",
          "model_module_version": "1.5.0",
          "state": {
            "_view_name": "HTMLView",
            "style": "IPY_MODEL_d405730dca8a4fde9b84d2a9670c51be",
            "_dom_classes": [],
            "description": "",
            "_model_name": "HTMLModel",
            "placeholder": "​",
            "_view_module": "@jupyter-widgets/controls",
            "_model_module_version": "1.5.0",
            "value": " 420M/420M [00:09&lt;00:00, 41.3MB/s]",
            "_view_count": null,
            "_view_module_version": "1.5.0",
            "description_tooltip": null,
            "_model_module": "@jupyter-widgets/controls",
            "layout": "IPY_MODEL_ba676f3a2e0e40b0b713075c0d62b9b0"
          }
        },
        "c453fde0064d4ce689b5e00b51a3b529": {
          "model_module": "@jupyter-widgets/controls",
          "model_name": "DescriptionStyleModel",
          "model_module_version": "1.5.0",
          "state": {
            "_view_name": "StyleView",
            "_model_name": "DescriptionStyleModel",
            "description_width": "",
            "_view_module": "@jupyter-widgets/base",
            "_model_module_version": "1.5.0",
            "_view_count": null,
            "_view_module_version": "1.2.0",
            "_model_module": "@jupyter-widgets/controls"
          }
        },
        "2b08a4fc815645d98f6a47308124d80d": {
          "model_module": "@jupyter-widgets/base",
          "model_name": "LayoutModel",
          "model_module_version": "1.2.0",
          "state": {
            "_view_name": "LayoutView",
            "grid_template_rows": null,
            "right": null,
            "justify_content": null,
            "_view_module": "@jupyter-widgets/base",
            "overflow": null,
            "_model_module_version": "1.2.0",
            "_view_count": null,
            "flex_flow": null,
            "width": null,
            "min_width": null,
            "border": null,
            "align_items": null,
            "bottom": null,
            "_model_module": "@jupyter-widgets/base",
            "top": null,
            "grid_column": null,
            "overflow_y": null,
            "overflow_x": null,
            "grid_auto_flow": null,
            "grid_area": null,
            "grid_template_columns": null,
            "flex": null,
            "_model_name": "LayoutModel",
            "justify_items": null,
            "grid_row": null,
            "max_height": null,
            "align_content": null,
            "visibility": null,
            "align_self": null,
            "height": null,
            "min_height": null,
            "padding": null,
            "grid_auto_rows": null,
            "grid_gap": null,
            "max_width": null,
            "order": null,
            "_view_module_version": "1.2.0",
            "grid_template_areas": null,
            "object_position": null,
            "object_fit": null,
            "grid_auto_columns": null,
            "margin": null,
            "display": null,
            "left": null
          }
        },
        "400eb12a8f7340c18ea0402cc22497ed": {
          "model_module": "@jupyter-widgets/controls",
          "model_name": "ProgressStyleModel",
          "model_module_version": "1.5.0",
          "state": {
            "_view_name": "StyleView",
            "_model_name": "ProgressStyleModel",
            "description_width": "",
            "_view_module": "@jupyter-widgets/base",
            "_model_module_version": "1.5.0",
            "_view_count": null,
            "_view_module_version": "1.2.0",
            "bar_color": null,
            "_model_module": "@jupyter-widgets/controls"
          }
        },
        "25f10cbe026e4fc2a75ac57ca7ce682c": {
          "model_module": "@jupyter-widgets/base",
          "model_name": "LayoutModel",
          "model_module_version": "1.2.0",
          "state": {
            "_view_name": "LayoutView",
            "grid_template_rows": null,
            "right": null,
            "justify_content": null,
            "_view_module": "@jupyter-widgets/base",
            "overflow": null,
            "_model_module_version": "1.2.0",
            "_view_count": null,
            "flex_flow": null,
            "width": null,
            "min_width": null,
            "border": null,
            "align_items": null,
            "bottom": null,
            "_model_module": "@jupyter-widgets/base",
            "top": null,
            "grid_column": null,
            "overflow_y": null,
            "overflow_x": null,
            "grid_auto_flow": null,
            "grid_area": null,
            "grid_template_columns": null,
            "flex": null,
            "_model_name": "LayoutModel",
            "justify_items": null,
            "grid_row": null,
            "max_height": null,
            "align_content": null,
            "visibility": null,
            "align_self": null,
            "height": null,
            "min_height": null,
            "padding": null,
            "grid_auto_rows": null,
            "grid_gap": null,
            "max_width": null,
            "order": null,
            "_view_module_version": "1.2.0",
            "grid_template_areas": null,
            "object_position": null,
            "object_fit": null,
            "grid_auto_columns": null,
            "margin": null,
            "display": null,
            "left": null
          }
        },
        "d405730dca8a4fde9b84d2a9670c51be": {
          "model_module": "@jupyter-widgets/controls",
          "model_name": "DescriptionStyleModel",
          "model_module_version": "1.5.0",
          "state": {
            "_view_name": "StyleView",
            "_model_name": "DescriptionStyleModel",
            "description_width": "",
            "_view_module": "@jupyter-widgets/base",
            "_model_module_version": "1.5.0",
            "_view_count": null,
            "_view_module_version": "1.2.0",
            "_model_module": "@jupyter-widgets/controls"
          }
        },
        "ba676f3a2e0e40b0b713075c0d62b9b0": {
          "model_module": "@jupyter-widgets/base",
          "model_name": "LayoutModel",
          "model_module_version": "1.2.0",
          "state": {
            "_view_name": "LayoutView",
            "grid_template_rows": null,
            "right": null,
            "justify_content": null,
            "_view_module": "@jupyter-widgets/base",
            "overflow": null,
            "_model_module_version": "1.2.0",
            "_view_count": null,
            "flex_flow": null,
            "width": null,
            "min_width": null,
            "border": null,
            "align_items": null,
            "bottom": null,
            "_model_module": "@jupyter-widgets/base",
            "top": null,
            "grid_column": null,
            "overflow_y": null,
            "overflow_x": null,
            "grid_auto_flow": null,
            "grid_area": null,
            "grid_template_columns": null,
            "flex": null,
            "_model_name": "LayoutModel",
            "justify_items": null,
            "grid_row": null,
            "max_height": null,
            "align_content": null,
            "visibility": null,
            "align_self": null,
            "height": null,
            "min_height": null,
            "padding": null,
            "grid_auto_rows": null,
            "grid_gap": null,
            "max_width": null,
            "order": null,
            "_view_module_version": "1.2.0",
            "grid_template_areas": null,
            "object_position": null,
            "object_fit": null,
            "grid_auto_columns": null,
            "margin": null,
            "display": null,
            "left": null
          }
        },
        "fc2ae5e4f805445d8ea8b24087eee478": {
          "model_module": "@jupyter-widgets/controls",
          "model_name": "HBoxModel",
          "model_module_version": "1.5.0",
          "state": {
            "_view_name": "HBoxView",
            "_dom_classes": [],
            "_model_name": "HBoxModel",
            "_view_module": "@jupyter-widgets/controls",
            "_model_module_version": "1.5.0",
            "_view_count": null,
            "_view_module_version": "1.5.0",
            "box_style": "",
            "layout": "IPY_MODEL_3d63721702b04cbcb9265a736b47e488",
            "_model_module": "@jupyter-widgets/controls",
            "children": [
              "IPY_MODEL_2f7ba01b44d8404cb9f4c1bb65e1859f",
              "IPY_MODEL_18359369dd134d59a96d07b10a26740b",
              "IPY_MODEL_c7335002279544a19c54e55d0de7afe1"
            ]
          }
        },
        "3d63721702b04cbcb9265a736b47e488": {
          "model_module": "@jupyter-widgets/base",
          "model_name": "LayoutModel",
          "model_module_version": "1.2.0",
          "state": {
            "_view_name": "LayoutView",
            "grid_template_rows": null,
            "right": null,
            "justify_content": null,
            "_view_module": "@jupyter-widgets/base",
            "overflow": null,
            "_model_module_version": "1.2.0",
            "_view_count": null,
            "flex_flow": null,
            "width": null,
            "min_width": null,
            "border": null,
            "align_items": null,
            "bottom": null,
            "_model_module": "@jupyter-widgets/base",
            "top": null,
            "grid_column": null,
            "overflow_y": null,
            "overflow_x": null,
            "grid_auto_flow": null,
            "grid_area": null,
            "grid_template_columns": null,
            "flex": null,
            "_model_name": "LayoutModel",
            "justify_items": null,
            "grid_row": null,
            "max_height": null,
            "align_content": null,
            "visibility": null,
            "align_self": null,
            "height": null,
            "min_height": null,
            "padding": null,
            "grid_auto_rows": null,
            "grid_gap": null,
            "max_width": null,
            "order": null,
            "_view_module_version": "1.2.0",
            "grid_template_areas": null,
            "object_position": null,
            "object_fit": null,
            "grid_auto_columns": null,
            "margin": null,
            "display": null,
            "left": null
          }
        },
        "2f7ba01b44d8404cb9f4c1bb65e1859f": {
          "model_module": "@jupyter-widgets/controls",
          "model_name": "HTMLModel",
          "model_module_version": "1.5.0",
          "state": {
            "_view_name": "HTMLView",
            "style": "IPY_MODEL_a75e3b8f6ad340b1904d127069851e32",
            "_dom_classes": [],
            "description": "",
            "_model_name": "HTMLModel",
            "placeholder": "​",
            "_view_module": "@jupyter-widgets/controls",
            "_model_module_version": "1.5.0",
            "value": "Downloading: 100%",
            "_view_count": null,
            "_view_module_version": "1.5.0",
            "description_tooltip": null,
            "_model_module": "@jupyter-widgets/controls",
            "layout": "IPY_MODEL_1b919a07bea24425b62ef10f3f7bc579"
          }
        },
        "18359369dd134d59a96d07b10a26740b": {
          "model_module": "@jupyter-widgets/controls",
          "model_name": "FloatProgressModel",
          "model_module_version": "1.5.0",
          "state": {
            "_view_name": "ProgressView",
            "style": "IPY_MODEL_8b7d04ae840f4eaeb81c8619308b3a7f",
            "_dom_classes": [],
            "description": "",
            "_model_name": "FloatProgressModel",
            "bar_style": "success",
            "max": 28,
            "_view_module": "@jupyter-widgets/controls",
            "_model_module_version": "1.5.0",
            "value": 28,
            "_view_count": null,
            "_view_module_version": "1.5.0",
            "orientation": "horizontal",
            "min": 0,
            "description_tooltip": null,
            "_model_module": "@jupyter-widgets/controls",
            "layout": "IPY_MODEL_928b23b3c3b84348a65163a50dee18b3"
          }
        },
        "c7335002279544a19c54e55d0de7afe1": {
          "model_module": "@jupyter-widgets/controls",
          "model_name": "HTMLModel",
          "model_module_version": "1.5.0",
          "state": {
            "_view_name": "HTMLView",
            "style": "IPY_MODEL_a529d5a69da34276adb85911d7a60ef7",
            "_dom_classes": [],
            "description": "",
            "_model_name": "HTMLModel",
            "placeholder": "​",
            "_view_module": "@jupyter-widgets/controls",
            "_model_module_version": "1.5.0",
            "value": " 28.0/28.0 [00:00&lt;00:00, 1.03kB/s]",
            "_view_count": null,
            "_view_module_version": "1.5.0",
            "description_tooltip": null,
            "_model_module": "@jupyter-widgets/controls",
            "layout": "IPY_MODEL_ddda92fb616e493eb59619346f0b0184"
          }
        },
        "a75e3b8f6ad340b1904d127069851e32": {
          "model_module": "@jupyter-widgets/controls",
          "model_name": "DescriptionStyleModel",
          "model_module_version": "1.5.0",
          "state": {
            "_view_name": "StyleView",
            "_model_name": "DescriptionStyleModel",
            "description_width": "",
            "_view_module": "@jupyter-widgets/base",
            "_model_module_version": "1.5.0",
            "_view_count": null,
            "_view_module_version": "1.2.0",
            "_model_module": "@jupyter-widgets/controls"
          }
        },
        "1b919a07bea24425b62ef10f3f7bc579": {
          "model_module": "@jupyter-widgets/base",
          "model_name": "LayoutModel",
          "model_module_version": "1.2.0",
          "state": {
            "_view_name": "LayoutView",
            "grid_template_rows": null,
            "right": null,
            "justify_content": null,
            "_view_module": "@jupyter-widgets/base",
            "overflow": null,
            "_model_module_version": "1.2.0",
            "_view_count": null,
            "flex_flow": null,
            "width": null,
            "min_width": null,
            "border": null,
            "align_items": null,
            "bottom": null,
            "_model_module": "@jupyter-widgets/base",
            "top": null,
            "grid_column": null,
            "overflow_y": null,
            "overflow_x": null,
            "grid_auto_flow": null,
            "grid_area": null,
            "grid_template_columns": null,
            "flex": null,
            "_model_name": "LayoutModel",
            "justify_items": null,
            "grid_row": null,
            "max_height": null,
            "align_content": null,
            "visibility": null,
            "align_self": null,
            "height": null,
            "min_height": null,
            "padding": null,
            "grid_auto_rows": null,
            "grid_gap": null,
            "max_width": null,
            "order": null,
            "_view_module_version": "1.2.0",
            "grid_template_areas": null,
            "object_position": null,
            "object_fit": null,
            "grid_auto_columns": null,
            "margin": null,
            "display": null,
            "left": null
          }
        },
        "8b7d04ae840f4eaeb81c8619308b3a7f": {
          "model_module": "@jupyter-widgets/controls",
          "model_name": "ProgressStyleModel",
          "model_module_version": "1.5.0",
          "state": {
            "_view_name": "StyleView",
            "_model_name": "ProgressStyleModel",
            "description_width": "",
            "_view_module": "@jupyter-widgets/base",
            "_model_module_version": "1.5.0",
            "_view_count": null,
            "_view_module_version": "1.2.0",
            "bar_color": null,
            "_model_module": "@jupyter-widgets/controls"
          }
        },
        "928b23b3c3b84348a65163a50dee18b3": {
          "model_module": "@jupyter-widgets/base",
          "model_name": "LayoutModel",
          "model_module_version": "1.2.0",
          "state": {
            "_view_name": "LayoutView",
            "grid_template_rows": null,
            "right": null,
            "justify_content": null,
            "_view_module": "@jupyter-widgets/base",
            "overflow": null,
            "_model_module_version": "1.2.0",
            "_view_count": null,
            "flex_flow": null,
            "width": null,
            "min_width": null,
            "border": null,
            "align_items": null,
            "bottom": null,
            "_model_module": "@jupyter-widgets/base",
            "top": null,
            "grid_column": null,
            "overflow_y": null,
            "overflow_x": null,
            "grid_auto_flow": null,
            "grid_area": null,
            "grid_template_columns": null,
            "flex": null,
            "_model_name": "LayoutModel",
            "justify_items": null,
            "grid_row": null,
            "max_height": null,
            "align_content": null,
            "visibility": null,
            "align_self": null,
            "height": null,
            "min_height": null,
            "padding": null,
            "grid_auto_rows": null,
            "grid_gap": null,
            "max_width": null,
            "order": null,
            "_view_module_version": "1.2.0",
            "grid_template_areas": null,
            "object_position": null,
            "object_fit": null,
            "grid_auto_columns": null,
            "margin": null,
            "display": null,
            "left": null
          }
        },
        "a529d5a69da34276adb85911d7a60ef7": {
          "model_module": "@jupyter-widgets/controls",
          "model_name": "DescriptionStyleModel",
          "model_module_version": "1.5.0",
          "state": {
            "_view_name": "StyleView",
            "_model_name": "DescriptionStyleModel",
            "description_width": "",
            "_view_module": "@jupyter-widgets/base",
            "_model_module_version": "1.5.0",
            "_view_count": null,
            "_view_module_version": "1.2.0",
            "_model_module": "@jupyter-widgets/controls"
          }
        },
        "ddda92fb616e493eb59619346f0b0184": {
          "model_module": "@jupyter-widgets/base",
          "model_name": "LayoutModel",
          "model_module_version": "1.2.0",
          "state": {
            "_view_name": "LayoutView",
            "grid_template_rows": null,
            "right": null,
            "justify_content": null,
            "_view_module": "@jupyter-widgets/base",
            "overflow": null,
            "_model_module_version": "1.2.0",
            "_view_count": null,
            "flex_flow": null,
            "width": null,
            "min_width": null,
            "border": null,
            "align_items": null,
            "bottom": null,
            "_model_module": "@jupyter-widgets/base",
            "top": null,
            "grid_column": null,
            "overflow_y": null,
            "overflow_x": null,
            "grid_auto_flow": null,
            "grid_area": null,
            "grid_template_columns": null,
            "flex": null,
            "_model_name": "LayoutModel",
            "justify_items": null,
            "grid_row": null,
            "max_height": null,
            "align_content": null,
            "visibility": null,
            "align_self": null,
            "height": null,
            "min_height": null,
            "padding": null,
            "grid_auto_rows": null,
            "grid_gap": null,
            "max_width": null,
            "order": null,
            "_view_module_version": "1.2.0",
            "grid_template_areas": null,
            "object_position": null,
            "object_fit": null,
            "grid_auto_columns": null,
            "margin": null,
            "display": null,
            "left": null
          }
        },
        "1b0e36091d2f487c8a91499f1498507d": {
          "model_module": "@jupyter-widgets/controls",
          "model_name": "HBoxModel",
          "model_module_version": "1.5.0",
          "state": {
            "_view_name": "HBoxView",
            "_dom_classes": [],
            "_model_name": "HBoxModel",
            "_view_module": "@jupyter-widgets/controls",
            "_model_module_version": "1.5.0",
            "_view_count": null,
            "_view_module_version": "1.5.0",
            "box_style": "",
            "layout": "IPY_MODEL_a812f5ef1bad48dba7e16eadf98ad9ba",
            "_model_module": "@jupyter-widgets/controls",
            "children": [
              "IPY_MODEL_e2f96011c68644ed88946f810e0830da",
              "IPY_MODEL_b6f67c84c5e14d06a9922735ba55c9f3",
              "IPY_MODEL_6598b6892ccc41539f66cb1cb47d9179"
            ]
          }
        },
        "a812f5ef1bad48dba7e16eadf98ad9ba": {
          "model_module": "@jupyter-widgets/base",
          "model_name": "LayoutModel",
          "model_module_version": "1.2.0",
          "state": {
            "_view_name": "LayoutView",
            "grid_template_rows": null,
            "right": null,
            "justify_content": null,
            "_view_module": "@jupyter-widgets/base",
            "overflow": null,
            "_model_module_version": "1.2.0",
            "_view_count": null,
            "flex_flow": null,
            "width": null,
            "min_width": null,
            "border": null,
            "align_items": null,
            "bottom": null,
            "_model_module": "@jupyter-widgets/base",
            "top": null,
            "grid_column": null,
            "overflow_y": null,
            "overflow_x": null,
            "grid_auto_flow": null,
            "grid_area": null,
            "grid_template_columns": null,
            "flex": null,
            "_model_name": "LayoutModel",
            "justify_items": null,
            "grid_row": null,
            "max_height": null,
            "align_content": null,
            "visibility": null,
            "align_self": null,
            "height": null,
            "min_height": null,
            "padding": null,
            "grid_auto_rows": null,
            "grid_gap": null,
            "max_width": null,
            "order": null,
            "_view_module_version": "1.2.0",
            "grid_template_areas": null,
            "object_position": null,
            "object_fit": null,
            "grid_auto_columns": null,
            "margin": null,
            "display": null,
            "left": null
          }
        },
        "e2f96011c68644ed88946f810e0830da": {
          "model_module": "@jupyter-widgets/controls",
          "model_name": "HTMLModel",
          "model_module_version": "1.5.0",
          "state": {
            "_view_name": "HTMLView",
            "style": "IPY_MODEL_bc98224c7d824e5e8453debeae5411cf",
            "_dom_classes": [],
            "description": "",
            "_model_name": "HTMLModel",
            "placeholder": "​",
            "_view_module": "@jupyter-widgets/controls",
            "_model_module_version": "1.5.0",
            "value": "Downloading: 100%",
            "_view_count": null,
            "_view_module_version": "1.5.0",
            "description_tooltip": null,
            "_model_module": "@jupyter-widgets/controls",
            "layout": "IPY_MODEL_e673de03c28e429caa80a01d965c7969"
          }
        },
        "b6f67c84c5e14d06a9922735ba55c9f3": {
          "model_module": "@jupyter-widgets/controls",
          "model_name": "FloatProgressModel",
          "model_module_version": "1.5.0",
          "state": {
            "_view_name": "ProgressView",
            "style": "IPY_MODEL_1f009e96e6c04564af470b093aa149ee",
            "_dom_classes": [],
            "description": "",
            "_model_name": "FloatProgressModel",
            "bar_style": "success",
            "max": 231508,
            "_view_module": "@jupyter-widgets/controls",
            "_model_module_version": "1.5.0",
            "value": 231508,
            "_view_count": null,
            "_view_module_version": "1.5.0",
            "orientation": "horizontal",
            "min": 0,
            "description_tooltip": null,
            "_model_module": "@jupyter-widgets/controls",
            "layout": "IPY_MODEL_abf446e3ad374e3091c011381f1d35c9"
          }
        },
        "6598b6892ccc41539f66cb1cb47d9179": {
          "model_module": "@jupyter-widgets/controls",
          "model_name": "HTMLModel",
          "model_module_version": "1.5.0",
          "state": {
            "_view_name": "HTMLView",
            "style": "IPY_MODEL_4d1728b0661441f2acd74f38405af84b",
            "_dom_classes": [],
            "description": "",
            "_model_name": "HTMLModel",
            "placeholder": "​",
            "_view_module": "@jupyter-widgets/controls",
            "_model_module_version": "1.5.0",
            "value": " 226k/226k [00:00&lt;00:00, 922kB/s]",
            "_view_count": null,
            "_view_module_version": "1.5.0",
            "description_tooltip": null,
            "_model_module": "@jupyter-widgets/controls",
            "layout": "IPY_MODEL_1f03e65fd272447e9a7b561f07bb39eb"
          }
        },
        "bc98224c7d824e5e8453debeae5411cf": {
          "model_module": "@jupyter-widgets/controls",
          "model_name": "DescriptionStyleModel",
          "model_module_version": "1.5.0",
          "state": {
            "_view_name": "StyleView",
            "_model_name": "DescriptionStyleModel",
            "description_width": "",
            "_view_module": "@jupyter-widgets/base",
            "_model_module_version": "1.5.0",
            "_view_count": null,
            "_view_module_version": "1.2.0",
            "_model_module": "@jupyter-widgets/controls"
          }
        },
        "e673de03c28e429caa80a01d965c7969": {
          "model_module": "@jupyter-widgets/base",
          "model_name": "LayoutModel",
          "model_module_version": "1.2.0",
          "state": {
            "_view_name": "LayoutView",
            "grid_template_rows": null,
            "right": null,
            "justify_content": null,
            "_view_module": "@jupyter-widgets/base",
            "overflow": null,
            "_model_module_version": "1.2.0",
            "_view_count": null,
            "flex_flow": null,
            "width": null,
            "min_width": null,
            "border": null,
            "align_items": null,
            "bottom": null,
            "_model_module": "@jupyter-widgets/base",
            "top": null,
            "grid_column": null,
            "overflow_y": null,
            "overflow_x": null,
            "grid_auto_flow": null,
            "grid_area": null,
            "grid_template_columns": null,
            "flex": null,
            "_model_name": "LayoutModel",
            "justify_items": null,
            "grid_row": null,
            "max_height": null,
            "align_content": null,
            "visibility": null,
            "align_self": null,
            "height": null,
            "min_height": null,
            "padding": null,
            "grid_auto_rows": null,
            "grid_gap": null,
            "max_width": null,
            "order": null,
            "_view_module_version": "1.2.0",
            "grid_template_areas": null,
            "object_position": null,
            "object_fit": null,
            "grid_auto_columns": null,
            "margin": null,
            "display": null,
            "left": null
          }
        },
        "1f009e96e6c04564af470b093aa149ee": {
          "model_module": "@jupyter-widgets/controls",
          "model_name": "ProgressStyleModel",
          "model_module_version": "1.5.0",
          "state": {
            "_view_name": "StyleView",
            "_model_name": "ProgressStyleModel",
            "description_width": "",
            "_view_module": "@jupyter-widgets/base",
            "_model_module_version": "1.5.0",
            "_view_count": null,
            "_view_module_version": "1.2.0",
            "bar_color": null,
            "_model_module": "@jupyter-widgets/controls"
          }
        },
        "abf446e3ad374e3091c011381f1d35c9": {
          "model_module": "@jupyter-widgets/base",
          "model_name": "LayoutModel",
          "model_module_version": "1.2.0",
          "state": {
            "_view_name": "LayoutView",
            "grid_template_rows": null,
            "right": null,
            "justify_content": null,
            "_view_module": "@jupyter-widgets/base",
            "overflow": null,
            "_model_module_version": "1.2.0",
            "_view_count": null,
            "flex_flow": null,
            "width": null,
            "min_width": null,
            "border": null,
            "align_items": null,
            "bottom": null,
            "_model_module": "@jupyter-widgets/base",
            "top": null,
            "grid_column": null,
            "overflow_y": null,
            "overflow_x": null,
            "grid_auto_flow": null,
            "grid_area": null,
            "grid_template_columns": null,
            "flex": null,
            "_model_name": "LayoutModel",
            "justify_items": null,
            "grid_row": null,
            "max_height": null,
            "align_content": null,
            "visibility": null,
            "align_self": null,
            "height": null,
            "min_height": null,
            "padding": null,
            "grid_auto_rows": null,
            "grid_gap": null,
            "max_width": null,
            "order": null,
            "_view_module_version": "1.2.0",
            "grid_template_areas": null,
            "object_position": null,
            "object_fit": null,
            "grid_auto_columns": null,
            "margin": null,
            "display": null,
            "left": null
          }
        },
        "4d1728b0661441f2acd74f38405af84b": {
          "model_module": "@jupyter-widgets/controls",
          "model_name": "DescriptionStyleModel",
          "model_module_version": "1.5.0",
          "state": {
            "_view_name": "StyleView",
            "_model_name": "DescriptionStyleModel",
            "description_width": "",
            "_view_module": "@jupyter-widgets/base",
            "_model_module_version": "1.5.0",
            "_view_count": null,
            "_view_module_version": "1.2.0",
            "_model_module": "@jupyter-widgets/controls"
          }
        },
        "1f03e65fd272447e9a7b561f07bb39eb": {
          "model_module": "@jupyter-widgets/base",
          "model_name": "LayoutModel",
          "model_module_version": "1.2.0",
          "state": {
            "_view_name": "LayoutView",
            "grid_template_rows": null,
            "right": null,
            "justify_content": null,
            "_view_module": "@jupyter-widgets/base",
            "overflow": null,
            "_model_module_version": "1.2.0",
            "_view_count": null,
            "flex_flow": null,
            "width": null,
            "min_width": null,
            "border": null,
            "align_items": null,
            "bottom": null,
            "_model_module": "@jupyter-widgets/base",
            "top": null,
            "grid_column": null,
            "overflow_y": null,
            "overflow_x": null,
            "grid_auto_flow": null,
            "grid_area": null,
            "grid_template_columns": null,
            "flex": null,
            "_model_name": "LayoutModel",
            "justify_items": null,
            "grid_row": null,
            "max_height": null,
            "align_content": null,
            "visibility": null,
            "align_self": null,
            "height": null,
            "min_height": null,
            "padding": null,
            "grid_auto_rows": null,
            "grid_gap": null,
            "max_width": null,
            "order": null,
            "_view_module_version": "1.2.0",
            "grid_template_areas": null,
            "object_position": null,
            "object_fit": null,
            "grid_auto_columns": null,
            "margin": null,
            "display": null,
            "left": null
          }
        },
        "3d071bb46ed8412aa5076787679343f4": {
          "model_module": "@jupyter-widgets/controls",
          "model_name": "HBoxModel",
          "model_module_version": "1.5.0",
          "state": {
            "_view_name": "HBoxView",
            "_dom_classes": [],
            "_model_name": "HBoxModel",
            "_view_module": "@jupyter-widgets/controls",
            "_model_module_version": "1.5.0",
            "_view_count": null,
            "_view_module_version": "1.5.0",
            "box_style": "",
            "layout": "IPY_MODEL_18ca665038d74c519e579afb92d51157",
            "_model_module": "@jupyter-widgets/controls",
            "children": [
              "IPY_MODEL_62cf184ec0d740a1bbe375a66315479d",
              "IPY_MODEL_7a11f86e1eaa4ae3ba1b2409d24aa605",
              "IPY_MODEL_d71f2a3bd9fb457a871ed6bd99fc3a82"
            ]
          }
        },
        "18ca665038d74c519e579afb92d51157": {
          "model_module": "@jupyter-widgets/base",
          "model_name": "LayoutModel",
          "model_module_version": "1.2.0",
          "state": {
            "_view_name": "LayoutView",
            "grid_template_rows": null,
            "right": null,
            "justify_content": null,
            "_view_module": "@jupyter-widgets/base",
            "overflow": null,
            "_model_module_version": "1.2.0",
            "_view_count": null,
            "flex_flow": null,
            "width": null,
            "min_width": null,
            "border": null,
            "align_items": null,
            "bottom": null,
            "_model_module": "@jupyter-widgets/base",
            "top": null,
            "grid_column": null,
            "overflow_y": null,
            "overflow_x": null,
            "grid_auto_flow": null,
            "grid_area": null,
            "grid_template_columns": null,
            "flex": null,
            "_model_name": "LayoutModel",
            "justify_items": null,
            "grid_row": null,
            "max_height": null,
            "align_content": null,
            "visibility": null,
            "align_self": null,
            "height": null,
            "min_height": null,
            "padding": null,
            "grid_auto_rows": null,
            "grid_gap": null,
            "max_width": null,
            "order": null,
            "_view_module_version": "1.2.0",
            "grid_template_areas": null,
            "object_position": null,
            "object_fit": null,
            "grid_auto_columns": null,
            "margin": null,
            "display": null,
            "left": null
          }
        },
        "62cf184ec0d740a1bbe375a66315479d": {
          "model_module": "@jupyter-widgets/controls",
          "model_name": "HTMLModel",
          "model_module_version": "1.5.0",
          "state": {
            "_view_name": "HTMLView",
            "style": "IPY_MODEL_d25b6bba2433405f80beb4d2efc288e9",
            "_dom_classes": [],
            "description": "",
            "_model_name": "HTMLModel",
            "placeholder": "​",
            "_view_module": "@jupyter-widgets/controls",
            "_model_module_version": "1.5.0",
            "value": "Downloading: 100%",
            "_view_count": null,
            "_view_module_version": "1.5.0",
            "description_tooltip": null,
            "_model_module": "@jupyter-widgets/controls",
            "layout": "IPY_MODEL_7c3eeb935e254840911fcac8c7694c8b"
          }
        },
        "7a11f86e1eaa4ae3ba1b2409d24aa605": {
          "model_module": "@jupyter-widgets/controls",
          "model_name": "FloatProgressModel",
          "model_module_version": "1.5.0",
          "state": {
            "_view_name": "ProgressView",
            "style": "IPY_MODEL_fd4f55b4ed874ba3b823d8bd5ce6f564",
            "_dom_classes": [],
            "description": "",
            "_model_name": "FloatProgressModel",
            "bar_style": "success",
            "max": 466062,
            "_view_module": "@jupyter-widgets/controls",
            "_model_module_version": "1.5.0",
            "value": 466062,
            "_view_count": null,
            "_view_module_version": "1.5.0",
            "orientation": "horizontal",
            "min": 0,
            "description_tooltip": null,
            "_model_module": "@jupyter-widgets/controls",
            "layout": "IPY_MODEL_129ffebc10e946878e7d15da22a72035"
          }
        },
        "d71f2a3bd9fb457a871ed6bd99fc3a82": {
          "model_module": "@jupyter-widgets/controls",
          "model_name": "HTMLModel",
          "model_module_version": "1.5.0",
          "state": {
            "_view_name": "HTMLView",
            "style": "IPY_MODEL_e723664b390d4b46a6909fea1edf7279",
            "_dom_classes": [],
            "description": "",
            "_model_name": "HTMLModel",
            "placeholder": "​",
            "_view_module": "@jupyter-widgets/controls",
            "_model_module_version": "1.5.0",
            "value": " 455k/455k [00:00&lt;00:00, 918kB/s]",
            "_view_count": null,
            "_view_module_version": "1.5.0",
            "description_tooltip": null,
            "_model_module": "@jupyter-widgets/controls",
            "layout": "IPY_MODEL_2d1cfe187bd94d788205fa93b7ad50ac"
          }
        },
        "d25b6bba2433405f80beb4d2efc288e9": {
          "model_module": "@jupyter-widgets/controls",
          "model_name": "DescriptionStyleModel",
          "model_module_version": "1.5.0",
          "state": {
            "_view_name": "StyleView",
            "_model_name": "DescriptionStyleModel",
            "description_width": "",
            "_view_module": "@jupyter-widgets/base",
            "_model_module_version": "1.5.0",
            "_view_count": null,
            "_view_module_version": "1.2.0",
            "_model_module": "@jupyter-widgets/controls"
          }
        },
        "7c3eeb935e254840911fcac8c7694c8b": {
          "model_module": "@jupyter-widgets/base",
          "model_name": "LayoutModel",
          "model_module_version": "1.2.0",
          "state": {
            "_view_name": "LayoutView",
            "grid_template_rows": null,
            "right": null,
            "justify_content": null,
            "_view_module": "@jupyter-widgets/base",
            "overflow": null,
            "_model_module_version": "1.2.0",
            "_view_count": null,
            "flex_flow": null,
            "width": null,
            "min_width": null,
            "border": null,
            "align_items": null,
            "bottom": null,
            "_model_module": "@jupyter-widgets/base",
            "top": null,
            "grid_column": null,
            "overflow_y": null,
            "overflow_x": null,
            "grid_auto_flow": null,
            "grid_area": null,
            "grid_template_columns": null,
            "flex": null,
            "_model_name": "LayoutModel",
            "justify_items": null,
            "grid_row": null,
            "max_height": null,
            "align_content": null,
            "visibility": null,
            "align_self": null,
            "height": null,
            "min_height": null,
            "padding": null,
            "grid_auto_rows": null,
            "grid_gap": null,
            "max_width": null,
            "order": null,
            "_view_module_version": "1.2.0",
            "grid_template_areas": null,
            "object_position": null,
            "object_fit": null,
            "grid_auto_columns": null,
            "margin": null,
            "display": null,
            "left": null
          }
        },
        "fd4f55b4ed874ba3b823d8bd5ce6f564": {
          "model_module": "@jupyter-widgets/controls",
          "model_name": "ProgressStyleModel",
          "model_module_version": "1.5.0",
          "state": {
            "_view_name": "StyleView",
            "_model_name": "ProgressStyleModel",
            "description_width": "",
            "_view_module": "@jupyter-widgets/base",
            "_model_module_version": "1.5.0",
            "_view_count": null,
            "_view_module_version": "1.2.0",
            "bar_color": null,
            "_model_module": "@jupyter-widgets/controls"
          }
        },
        "129ffebc10e946878e7d15da22a72035": {
          "model_module": "@jupyter-widgets/base",
          "model_name": "LayoutModel",
          "model_module_version": "1.2.0",
          "state": {
            "_view_name": "LayoutView",
            "grid_template_rows": null,
            "right": null,
            "justify_content": null,
            "_view_module": "@jupyter-widgets/base",
            "overflow": null,
            "_model_module_version": "1.2.0",
            "_view_count": null,
            "flex_flow": null,
            "width": null,
            "min_width": null,
            "border": null,
            "align_items": null,
            "bottom": null,
            "_model_module": "@jupyter-widgets/base",
            "top": null,
            "grid_column": null,
            "overflow_y": null,
            "overflow_x": null,
            "grid_auto_flow": null,
            "grid_area": null,
            "grid_template_columns": null,
            "flex": null,
            "_model_name": "LayoutModel",
            "justify_items": null,
            "grid_row": null,
            "max_height": null,
            "align_content": null,
            "visibility": null,
            "align_self": null,
            "height": null,
            "min_height": null,
            "padding": null,
            "grid_auto_rows": null,
            "grid_gap": null,
            "max_width": null,
            "order": null,
            "_view_module_version": "1.2.0",
            "grid_template_areas": null,
            "object_position": null,
            "object_fit": null,
            "grid_auto_columns": null,
            "margin": null,
            "display": null,
            "left": null
          }
        },
        "e723664b390d4b46a6909fea1edf7279": {
          "model_module": "@jupyter-widgets/controls",
          "model_name": "DescriptionStyleModel",
          "model_module_version": "1.5.0",
          "state": {
            "_view_name": "StyleView",
            "_model_name": "DescriptionStyleModel",
            "description_width": "",
            "_view_module": "@jupyter-widgets/base",
            "_model_module_version": "1.5.0",
            "_view_count": null,
            "_view_module_version": "1.2.0",
            "_model_module": "@jupyter-widgets/controls"
          }
        },
        "2d1cfe187bd94d788205fa93b7ad50ac": {
          "model_module": "@jupyter-widgets/base",
          "model_name": "LayoutModel",
          "model_module_version": "1.2.0",
          "state": {
            "_view_name": "LayoutView",
            "grid_template_rows": null,
            "right": null,
            "justify_content": null,
            "_view_module": "@jupyter-widgets/base",
            "overflow": null,
            "_model_module_version": "1.2.0",
            "_view_count": null,
            "flex_flow": null,
            "width": null,
            "min_width": null,
            "border": null,
            "align_items": null,
            "bottom": null,
            "_model_module": "@jupyter-widgets/base",
            "top": null,
            "grid_column": null,
            "overflow_y": null,
            "overflow_x": null,
            "grid_auto_flow": null,
            "grid_area": null,
            "grid_template_columns": null,
            "flex": null,
            "_model_name": "LayoutModel",
            "justify_items": null,
            "grid_row": null,
            "max_height": null,
            "align_content": null,
            "visibility": null,
            "align_self": null,
            "height": null,
            "min_height": null,
            "padding": null,
            "grid_auto_rows": null,
            "grid_gap": null,
            "max_width": null,
            "order": null,
            "_view_module_version": "1.2.0",
            "grid_template_areas": null,
            "object_position": null,
            "object_fit": null,
            "grid_auto_columns": null,
            "margin": null,
            "display": null,
            "left": null
          }
        }
      }
    },
    "accelerator": "GPU"
  },
  "nbformat": 4,
  "nbformat_minor": 0
}